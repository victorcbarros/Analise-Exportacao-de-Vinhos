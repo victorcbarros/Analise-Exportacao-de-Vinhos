{
 "cells": [
  {
   "cell_type": "markdown",
   "id": "3d7af1c6",
   "metadata": {},
   "source": [
    "# **Análise de Dados de Vinhos no Brasil  de 2008 a 2022 - Tech Challenge - Fase 1 - Pos Tech - Data Analytics - FIAP**"
   ]
  },
  {
   "cell_type": "markdown",
   "id": "f00cd5be",
   "metadata": {},
   "source": [
    "# 1. Introdução"
   ]
  },
  {
   "cell_type": "markdown",
   "id": "aad9a90b",
   "metadata": {},
   "source": [
    "Este projeto faz parte do projeto Tech Challenge da Pos Tech Data Analytics FIAP e conta como nota da primeira fase da pós graduação.\n",
    "O grupo que desenvolveu esse projeto é composto por:\n",
    "\n",
    "Aelton Pereira de Lacerda\n",
    "\n",
    "André Martins Pontes\n",
    "\n",
    "Arthur do Nascimento Siqueira\n",
    "\n",
    "Matheus Martins Matias Rodrigues\n",
    "\n",
    "Victor Campanha Barros "
   ]
  },
  {
   "cell_type": "markdown",
   "id": "bc56b643",
   "metadata": {},
   "source": [
    "# 2. Visão Geral "
   ]
  },
  {
   "cell_type": "markdown",
   "id": "4d4e0525",
   "metadata": {},
   "source": [
    "O problema da previsibilidade de cenários futuros é uma preocupação significativa para empresas de produção e exportação de vinhos. Mudanças inesperadas no mercado internacional de compra e venda podem levar à perda de mercado e até a prejuízos enormes se a empresa não acompanhar essas alterações. Nesse sentido, a análise de dados, tanto da empresa quanto do cenário mundial, torna-se uma ferramenta indispensável para auxiliar na tomada de decisão. Essa prática oferece uma vantagem competitiva frente às concorrentes que não utilizam essa ferramenta, permitindo uma adaptação mais rápida e eficaz às mudanças de mercado.\n",
    "\n",
    "Este projeto tem como objetivo analisar o montante de vendas de exportação de vinhos provenientes do Brasil nos últimos 15 anos. Utilizamos a linguagem de programação Python, através da biblioteca Pandas, para a extração, limpeza, tratamento e carregamento dos dados. Para a visualização dos dados, utilizamos a biblioteca Matplotlib e Seaborn alem do software Power BI, criando graficos para facilitar a análise. A partir disso, sugerimos possíveis ações para melhorias nas exportações com base nos dados analisados."
   ]
  },
  {
   "cell_type": "markdown",
   "id": "37aa4b7c",
   "metadata": {},
   "source": [
    "# 3. Business Understanding"
   ]
  },
  {
   "cell_type": "markdown",
   "id": "6114c331",
   "metadata": {},
   "source": [
    "No cenário atual de globalização e competitividade no mercado de vinhos, compreender os padrões de exportação é fundamental para as empresas do setor. Com o aumento do comércio internacional e a diversificação dos gostos dos consumidores, entender as tendências de exportação de vinhos torna-se crucial para desenvolver estratégias de negócios eficazes.\n",
    "\n",
    "A análise dos dados de exportação de vinhos do Brasil ao longo dos últimos 15 anos oferece uma visão detalhada das mudanças no mercado global, permitindo que as empresas identifiquem padrões, sazonalidades e preferências dos consumidores em diferentes regiões do mundo. Essa compreensão é essencial para a tomada de decisões informadas em relação à produção, marketing e distribuição dos produtos, visando maximizar as oportunidades de negócio e minimizar os riscos associados às flutuações do mercado.\n",
    "\n",
    "**Tipos de Análise Realizados:**\n",
    "- Análise exploratoria dos dados de exportação,importação, produção e comercialização\n",
    "- Análise das tendências de mercado \n",
    "- Analise do cenario mundial de vinhos\n",
    "\n",
    "**Principais Indicadores Chave de Desempenho:**\n",
    "- Quantidade em litros de vinho exportado(1Kg = 1L)\n",
    "- Valor exportado (US\\$)\n",
    "- Valor por litro exportado(US\\$)\n",
    "- Quantidade em litros de vinho importado(1Kg = 1L)\n",
    "- Valor Importado (US\\$)\n",
    "- Valor por litro importado(US$)\n",
    "- Quantidade em litros de vinho produzido(1L)\n",
    "- Quantidade em litros de vinho comercializado(1L)\n"
   ]
  },
  {
   "cell_type": "markdown",
   "id": "cf02c1ed",
   "metadata": {},
   "source": [
    "# 4. Importando os pacotes e datasets necessários"
   ]
  },
  {
   "cell_type": "code",
   "execution_count": 1,
   "id": "80160c3f",
   "metadata": {},
   "outputs": [],
   "source": [
    "# Bibliotecas padrão\n",
    "import pandas as pd\n",
    "import numpy as np\n",
    "import matplotlib.pyplot as plt\n",
    "import seaborn as sns\n",
    "import matplotlib.ticker as ticker\n",
    "import requests\n",
    "from sklearn.preprocessing import MinMaxScaler\n",
    "\n",
    "import warnings\n",
    "\n",
    "# Desabilitar todos os warnings\n",
    "warnings.filterwarnings(\"ignore\")"
   ]
  },
  {
   "cell_type": "code",
   "execution_count": 2,
   "id": "3ecca7cb",
   "metadata": {},
   "outputs": [],
   "source": [
    "# importando a base de dados de Importação \n",
    "importacao = pd.read_csv('https://github.com/victorcbarros/Analise-Exportacao-de-Vinhos/raw/main/data-dados/raw-iniciais/ImpVinhos.csv',sep=';',encoding=\"UTF-8-SIG\",thousands=\".\",decimal=\",\")"
   ]
  },
  {
   "cell_type": "code",
   "execution_count": 3,
   "id": "87035113",
   "metadata": {},
   "outputs": [],
   "source": [
    "# importando a base de dados de Exportação \n",
    "exportacao = pd.read_csv('https://github.com/victorcbarros/Analise-Exportacao-de-Vinhos/raw/main/data-dados/raw-iniciais/ExpVinho.csv',\n",
    "                         sep=';',encoding='UTF-8-SIG',decimal=',')"
   ]
  },
  {
   "cell_type": "code",
   "execution_count": 4,
   "id": "e95c9e28",
   "metadata": {},
   "outputs": [],
   "source": [
    "# importando a base de dados de produção \n",
    "producao = pd.read_csv(\"https://github.com/victorcbarros/Analise-Exportacao-de-Vinhos/raw/main/data-dados/raw-iniciais/Producao.csv\",\n",
    "                        encoding=\"UTF-8-SIG\",sep=\";\",thousands=\".\",decimal=\",\")"
   ]
  },
  {
   "cell_type": "code",
   "execution_count": 5,
   "id": "aac1e866",
   "metadata": {},
   "outputs": [],
   "source": [
    "# importando a base de dados de comercio\n",
    "comercio = pd.read_csv(\"https://github.com/victorcbarros/Analise-Exportacao-de-Vinhos/raw/main/data-dados/raw-iniciais/Comercio.csv\",\n",
    "                  encoding=\"UTF-8-SIG\",sep=\";\",thousands=\".\",decimal=\",\")"
   ]
  },
  {
   "cell_type": "code",
   "execution_count": 6,
   "id": "1794a5f0",
   "metadata": {},
   "outputs": [],
   "source": [
    "# importando a base de dados de mercado\n",
    "mercado = pd.read_excel('https://github.com/victorcbarros/Analise-Exportacao-de-Vinhos/raw/main/data-dados/raw-iniciais/dadosvinhos.xlsx')"
   ]
  },
  {
   "cell_type": "code",
   "execution_count": 7,
   "id": "e17b0787",
   "metadata": {},
   "outputs": [],
   "source": [
    "# importando a base de dados de população\n",
    "# extraindo a url\n",
    "url = 'https://pt.wikipedia.org/wiki/Lista_de_pa%C3%ADses_por_popula%C3%A7%C3%A3o'\n",
    "\n",
    "# Fazendo a requisição usando requests\n",
    "response = requests.get(url)\n",
    "\n",
    "# Verifica se a requisição foi bem sucedida\n",
    "if response.status_code == 200:\n",
    "    # Lendo o HTML para um DataFrame\n",
    "    populacao = pd.read_html(response.text)[0]\n",
    "    populacao.head()\n",
    "else:\n",
    "    print(\"Falha ao acessar o site. Status code:\", response.status_code)"
   ]
  },
  {
   "cell_type": "markdown",
   "id": "9c06e02a",
   "metadata": {},
   "source": [
    "#  5. Tratamendo e Limpeza dos dados\n",
    "\n",
    "Esta seção fornece uma visão sobre o tratamento e limpeza feita nos dados que estão sendo analisados."
   ]
  },
  {
   "cell_type": "markdown",
   "id": "7aceee11",
   "metadata": {},
   "source": [
    "## 5.1 Produção e Comercialização"
   ]
  },
  {
   "cell_type": "markdown",
   "id": "dc419673",
   "metadata": {},
   "source": [
    "<span style=\"font-size: 20px;\">**Dicionário de Variáveis**</span>\n",
    "\n",
    "\n",
    "<span style=\"font-size: 18px;\">**Produção**</span>\n",
    "\n",
    "- **`Produto`**: \n",
    "  - **Descrição:** Vinho do Rio Grande do Sul\n",
    "  - **Finalidade:** Definir o tipo do Vinho\n",
    "  \n",
    "- **`Quantidade(L.)`**: \n",
    "  - **Descrição:** Quantidade em Litros produzido\n",
    "  - **Finalidade:** Quantificar o volume de produção por ano\n",
    "\n",
    "<span style=\"font-size: 18px;\">**Comercialização**</span>\n",
    "\n",
    "- **`Produto`**: \n",
    "  - **Descrição:** Vinho do Rio Grande do Sul\n",
    "  - **Finalidade:** Definir o tipo do Vinho\n",
    "  \n",
    "- **`Quantidade(L.)`**: \n",
    "  - **Descrição:** Quantidade em Litros comercializado\n",
    "  - **Finalidade:** Quantificar o volume comercializado por ano\n",
    "\n",
    "\n",
    "\n"
   ]
  },
  {
   "cell_type": "markdown",
   "id": "ab4dec2a",
   "metadata": {},
   "source": [
    "#### 5.1.1 Tratamendo e Limpeza dos dados de Produção e Comercialização"
   ]
  },
  {
   "cell_type": "markdown",
   "id": "f542f615",
   "metadata": {},
   "source": [
    "Os dados de Produção e Comercialização estão ambos em duas tabelas diferentes, o intuito inicial é juntar as duas tabelas em uma só, para isso vamos analisar e fazer todo procedimento de tratamento e limpeza das duas tabelas. O primeiro passo é observar como os dados estão organizados"
   ]
  },
  {
   "cell_type": "code",
   "execution_count": 8,
   "id": "d84841de",
   "metadata": {},
   "outputs": [
    {
     "data": {
      "text/html": [
       "<div>\n",
       "<style scoped>\n",
       "    .dataframe tbody tr th:only-of-type {\n",
       "        vertical-align: middle;\n",
       "    }\n",
       "\n",
       "    .dataframe tbody tr th {\n",
       "        vertical-align: top;\n",
       "    }\n",
       "\n",
       "    .dataframe thead th {\n",
       "        text-align: right;\n",
       "    }\n",
       "</style>\n",
       "<table border=\"1\" class=\"dataframe\">\n",
       "  <thead>\n",
       "    <tr style=\"text-align: right;\">\n",
       "      <th></th>\n",
       "      <th>id</th>\n",
       "      <th>produto</th>\n",
       "      <th>1970</th>\n",
       "      <th>1971</th>\n",
       "      <th>1972</th>\n",
       "      <th>1973</th>\n",
       "      <th>1974</th>\n",
       "      <th>1975</th>\n",
       "      <th>1976</th>\n",
       "      <th>1977</th>\n",
       "      <th>...</th>\n",
       "      <th>2013</th>\n",
       "      <th>2014</th>\n",
       "      <th>2015</th>\n",
       "      <th>2016</th>\n",
       "      <th>2017</th>\n",
       "      <th>2018</th>\n",
       "      <th>2019</th>\n",
       "      <th>2020</th>\n",
       "      <th>2021</th>\n",
       "      <th>2022</th>\n",
       "    </tr>\n",
       "  </thead>\n",
       "  <tbody>\n",
       "    <tr>\n",
       "      <th>0</th>\n",
       "      <td>1</td>\n",
       "      <td>VINHO DE MESA</td>\n",
       "      <td>217208604</td>\n",
       "      <td>154264651</td>\n",
       "      <td>146953297</td>\n",
       "      <td>116710345</td>\n",
       "      <td>193875345</td>\n",
       "      <td>177401209</td>\n",
       "      <td>144565438</td>\n",
       "      <td>195359778</td>\n",
       "      <td>...</td>\n",
       "      <td>196904222</td>\n",
       "      <td>196173123</td>\n",
       "      <td>210308560</td>\n",
       "      <td>86319015</td>\n",
       "      <td>255015187</td>\n",
       "      <td>218375636</td>\n",
       "      <td>144629737</td>\n",
       "      <td>124200414</td>\n",
       "      <td>173899995</td>\n",
       "      <td>195031611</td>\n",
       "    </tr>\n",
       "    <tr>\n",
       "      <th>1</th>\n",
       "      <td>2</td>\n",
       "      <td>Tinto</td>\n",
       "      <td>174224052</td>\n",
       "      <td>121133369</td>\n",
       "      <td>118180926</td>\n",
       "      <td>88589019</td>\n",
       "      <td>146544484</td>\n",
       "      <td>144274134</td>\n",
       "      <td>118360170</td>\n",
       "      <td>154801826</td>\n",
       "      <td>...</td>\n",
       "      <td>163111797</td>\n",
       "      <td>157776363</td>\n",
       "      <td>169811472</td>\n",
       "      <td>75279191</td>\n",
       "      <td>1365957</td>\n",
       "      <td>188270142</td>\n",
       "      <td>121045115</td>\n",
       "      <td>103916391</td>\n",
       "      <td>146075996</td>\n",
       "      <td>162844214</td>\n",
       "    </tr>\n",
       "    <tr>\n",
       "      <th>2</th>\n",
       "      <td>3</td>\n",
       "      <td>Branco</td>\n",
       "      <td>748400</td>\n",
       "      <td>1160500</td>\n",
       "      <td>1812367</td>\n",
       "      <td>243900</td>\n",
       "      <td>4138768</td>\n",
       "      <td>1441507</td>\n",
       "      <td>1871473</td>\n",
       "      <td>4954387</td>\n",
       "      <td>...</td>\n",
       "      <td>32066403</td>\n",
       "      <td>37438069</td>\n",
       "      <td>39557250</td>\n",
       "      <td>10727099</td>\n",
       "      <td>217527985</td>\n",
       "      <td>29229970</td>\n",
       "      <td>22032828</td>\n",
       "      <td>19568734</td>\n",
       "      <td>26432799</td>\n",
       "      <td>30198430</td>\n",
       "    </tr>\n",
       "    <tr>\n",
       "      <th>3</th>\n",
       "      <td>4</td>\n",
       "      <td>Rosado</td>\n",
       "      <td>42236152</td>\n",
       "      <td>31970782</td>\n",
       "      <td>26960004</td>\n",
       "      <td>27877426</td>\n",
       "      <td>43192093</td>\n",
       "      <td>31685568</td>\n",
       "      <td>24333795</td>\n",
       "      <td>35603565</td>\n",
       "      <td>...</td>\n",
       "      <td>1726022</td>\n",
       "      <td>958691</td>\n",
       "      <td>939838</td>\n",
       "      <td>312725</td>\n",
       "      <td>36121245</td>\n",
       "      <td>875524</td>\n",
       "      <td>1551794</td>\n",
       "      <td>715289</td>\n",
       "      <td>1391200</td>\n",
       "      <td>1988968</td>\n",
       "    </tr>\n",
       "    <tr>\n",
       "      <th>4</th>\n",
       "      <td>5</td>\n",
       "      <td>VINHO FINO DE MESA (VINÍFERA)</td>\n",
       "      <td>23899346</td>\n",
       "      <td>23586062</td>\n",
       "      <td>21078771</td>\n",
       "      <td>12368410</td>\n",
       "      <td>31644124</td>\n",
       "      <td>39424590</td>\n",
       "      <td>34500590</td>\n",
       "      <td>41264971</td>\n",
       "      <td>...</td>\n",
       "      <td>45782530</td>\n",
       "      <td>38464314</td>\n",
       "      <td>37148982</td>\n",
       "      <td>18070626</td>\n",
       "      <td>44537870</td>\n",
       "      <td>38707220</td>\n",
       "      <td>37615422</td>\n",
       "      <td>32516686</td>\n",
       "      <td>43474998</td>\n",
       "      <td>47511796</td>\n",
       "    </tr>\n",
       "  </tbody>\n",
       "</table>\n",
       "<p>5 rows × 55 columns</p>\n",
       "</div>"
      ],
      "text/plain": [
       "   id                        produto       1970       1971       1972  \\\n",
       "0   1                  VINHO DE MESA  217208604  154264651  146953297   \n",
       "1   2                          Tinto  174224052  121133369  118180926   \n",
       "2   3                         Branco     748400    1160500    1812367   \n",
       "3   4                         Rosado   42236152   31970782   26960004   \n",
       "4   5  VINHO FINO DE MESA (VINÍFERA)   23899346   23586062   21078771   \n",
       "\n",
       "        1973       1974       1975       1976       1977  ...       2013  \\\n",
       "0  116710345  193875345  177401209  144565438  195359778  ...  196904222   \n",
       "1   88589019  146544484  144274134  118360170  154801826  ...  163111797   \n",
       "2     243900    4138768    1441507    1871473    4954387  ...   32066403   \n",
       "3   27877426   43192093   31685568   24333795   35603565  ...    1726022   \n",
       "4   12368410   31644124   39424590   34500590   41264971  ...   45782530   \n",
       "\n",
       "        2014       2015      2016       2017       2018       2019       2020  \\\n",
       "0  196173123  210308560  86319015  255015187  218375636  144629737  124200414   \n",
       "1  157776363  169811472  75279191    1365957  188270142  121045115  103916391   \n",
       "2   37438069   39557250  10727099  217527985   29229970   22032828   19568734   \n",
       "3     958691     939838    312725   36121245     875524    1551794     715289   \n",
       "4   38464314   37148982  18070626   44537870   38707220   37615422   32516686   \n",
       "\n",
       "        2021       2022  \n",
       "0  173899995  195031611  \n",
       "1  146075996  162844214  \n",
       "2   26432799   30198430  \n",
       "3    1391200    1988968  \n",
       "4   43474998   47511796  \n",
       "\n",
       "[5 rows x 55 columns]"
      ]
     },
     "execution_count": 8,
     "metadata": {},
     "output_type": "execute_result"
    }
   ],
   "source": [
    "# Ver as cinco primeiras entradas da base de produção \n",
    "producao.head()"
   ]
  },
  {
   "cell_type": "code",
   "execution_count": 9,
   "id": "cfcca057",
   "metadata": {},
   "outputs": [
    {
     "data": {
      "text/html": [
       "<div>\n",
       "<style scoped>\n",
       "    .dataframe tbody tr th:only-of-type {\n",
       "        vertical-align: middle;\n",
       "    }\n",
       "\n",
       "    .dataframe tbody tr th {\n",
       "        vertical-align: top;\n",
       "    }\n",
       "\n",
       "    .dataframe thead th {\n",
       "        text-align: right;\n",
       "    }\n",
       "</style>\n",
       "<table border=\"1\" class=\"dataframe\">\n",
       "  <thead>\n",
       "    <tr style=\"text-align: right;\">\n",
       "      <th></th>\n",
       "      <th>1</th>\n",
       "      <th>VINHO DE MESA</th>\n",
       "      <th>VINHO DE MESA.1</th>\n",
       "      <th>98327606</th>\n",
       "      <th>114399031</th>\n",
       "      <th>118377367</th>\n",
       "      <th>116617910</th>\n",
       "      <th>94173324</th>\n",
       "      <th>108031792</th>\n",
       "      <th>139238614</th>\n",
       "      <th>...</th>\n",
       "      <th>221590810</th>\n",
       "      <th>206404427</th>\n",
       "      <th>209198468</th>\n",
       "      <th>166769622</th>\n",
       "      <th>176059959</th>\n",
       "      <th>177186273</th>\n",
       "      <th>180446489</th>\n",
       "      <th>215557931</th>\n",
       "      <th>210012238</th>\n",
       "      <th>187939996</th>\n",
       "    </tr>\n",
       "  </thead>\n",
       "  <tbody>\n",
       "    <tr>\n",
       "      <th>0</th>\n",
       "      <td>2</td>\n",
       "      <td>vm_Tinto</td>\n",
       "      <td>Tinto</td>\n",
       "      <td>83300735</td>\n",
       "      <td>98522869</td>\n",
       "      <td>101167932</td>\n",
       "      <td>98196747</td>\n",
       "      <td>77167303</td>\n",
       "      <td>91528090</td>\n",
       "      <td>116407222</td>\n",
       "      <td>...</td>\n",
       "      <td>188033494</td>\n",
       "      <td>178250072</td>\n",
       "      <td>182028785</td>\n",
       "      <td>146646365</td>\n",
       "      <td>154309442</td>\n",
       "      <td>155115499</td>\n",
       "      <td>158519218</td>\n",
       "      <td>189573423</td>\n",
       "      <td>185653678</td>\n",
       "      <td>165067340</td>\n",
       "    </tr>\n",
       "    <tr>\n",
       "      <th>1</th>\n",
       "      <td>3</td>\n",
       "      <td>vm_Rosado</td>\n",
       "      <td>Rosado</td>\n",
       "      <td>107681</td>\n",
       "      <td>542274</td>\n",
       "      <td>7770851</td>\n",
       "      <td>8425617</td>\n",
       "      <td>8891367</td>\n",
       "      <td>7261777</td>\n",
       "      <td>11748047</td>\n",
       "      <td>...</td>\n",
       "      <td>1777648</td>\n",
       "      <td>1419855</td>\n",
       "      <td>1409002</td>\n",
       "      <td>1391942</td>\n",
       "      <td>1097426</td>\n",
       "      <td>1972944</td>\n",
       "      <td>1265435</td>\n",
       "      <td>1394901</td>\n",
       "      <td>1931606</td>\n",
       "      <td>2213723</td>\n",
       "    </tr>\n",
       "    <tr>\n",
       "      <th>2</th>\n",
       "      <td>4</td>\n",
       "      <td>vm_Branco</td>\n",
       "      <td>Branco</td>\n",
       "      <td>14919190</td>\n",
       "      <td>15333888</td>\n",
       "      <td>9438584</td>\n",
       "      <td>9995546</td>\n",
       "      <td>8114654</td>\n",
       "      <td>9241925</td>\n",
       "      <td>11083345</td>\n",
       "      <td>...</td>\n",
       "      <td>31779668</td>\n",
       "      <td>26734500</td>\n",
       "      <td>25760681</td>\n",
       "      <td>18731315</td>\n",
       "      <td>20653091</td>\n",
       "      <td>20097830</td>\n",
       "      <td>20661836</td>\n",
       "      <td>24589607</td>\n",
       "      <td>22426954</td>\n",
       "      <td>20658933</td>\n",
       "    </tr>\n",
       "    <tr>\n",
       "      <th>3</th>\n",
       "      <td>5</td>\n",
       "      <td>VINHO  FINO DE MESA</td>\n",
       "      <td>VINHO  FINO DE MESA</td>\n",
       "      <td>4430629</td>\n",
       "      <td>4840369</td>\n",
       "      <td>5602091</td>\n",
       "      <td>7202830</td>\n",
       "      <td>7571802</td>\n",
       "      <td>8848303</td>\n",
       "      <td>14095648</td>\n",
       "      <td>...</td>\n",
       "      <td>27912934</td>\n",
       "      <td>20424983</td>\n",
       "      <td>20141631</td>\n",
       "      <td>19630158</td>\n",
       "      <td>15874354</td>\n",
       "      <td>14826143</td>\n",
       "      <td>15684588</td>\n",
       "      <td>24310834</td>\n",
       "      <td>27080445</td>\n",
       "      <td>21533487</td>\n",
       "    </tr>\n",
       "    <tr>\n",
       "      <th>4</th>\n",
       "      <td>6</td>\n",
       "      <td>vm_Tinto</td>\n",
       "      <td>Tinto</td>\n",
       "      <td>435354</td>\n",
       "      <td>428927</td>\n",
       "      <td>624499</td>\n",
       "      <td>783508</td>\n",
       "      <td>1616144</td>\n",
       "      <td>2050960</td>\n",
       "      <td>4450570</td>\n",
       "      <td>...</td>\n",
       "      <td>19121750</td>\n",
       "      <td>15354938</td>\n",
       "      <td>15572632</td>\n",
       "      <td>15228514</td>\n",
       "      <td>12021684</td>\n",
       "      <td>11150517</td>\n",
       "      <td>11433702</td>\n",
       "      <td>18202453</td>\n",
       "      <td>19337862</td>\n",
       "      <td>15258778</td>\n",
       "    </tr>\n",
       "  </tbody>\n",
       "</table>\n",
       "<p>5 rows × 56 columns</p>\n",
       "</div>"
      ],
      "text/plain": [
       "   1        VINHO DE MESA      VINHO DE MESA.1  98327606  114399031  \\\n",
       "0  2             vm_Tinto                Tinto  83300735   98522869   \n",
       "1  3            vm_Rosado               Rosado    107681     542274   \n",
       "2  4            vm_Branco               Branco  14919190   15333888   \n",
       "3  5  VINHO  FINO DE MESA  VINHO  FINO DE MESA   4430629    4840369   \n",
       "4  6             vm_Tinto                Tinto    435354     428927   \n",
       "\n",
       "   118377367  116617910  94173324  108031792  139238614  ...  221590810  \\\n",
       "0  101167932   98196747  77167303   91528090  116407222  ...  188033494   \n",
       "1    7770851    8425617   8891367    7261777   11748047  ...    1777648   \n",
       "2    9438584    9995546   8114654    9241925   11083345  ...   31779668   \n",
       "3    5602091    7202830   7571802    8848303   14095648  ...   27912934   \n",
       "4     624499     783508   1616144    2050960    4450570  ...   19121750   \n",
       "\n",
       "   206404427  209198468  166769622  176059959  177186273  180446489  \\\n",
       "0  178250072  182028785  146646365  154309442  155115499  158519218   \n",
       "1    1419855    1409002    1391942    1097426    1972944    1265435   \n",
       "2   26734500   25760681   18731315   20653091   20097830   20661836   \n",
       "3   20424983   20141631   19630158   15874354   14826143   15684588   \n",
       "4   15354938   15572632   15228514   12021684   11150517   11433702   \n",
       "\n",
       "   215557931  210012238  187939996  \n",
       "0  189573423  185653678  165067340  \n",
       "1    1394901    1931606    2213723  \n",
       "2   24589607   22426954   20658933  \n",
       "3   24310834   27080445   21533487  \n",
       "4   18202453   19337862   15258778  \n",
       "\n",
       "[5 rows x 56 columns]"
      ]
     },
     "execution_count": 9,
     "metadata": {},
     "output_type": "execute_result"
    }
   ],
   "source": [
    "# Ver as cinco primeiras entradas da base de comercio\n",
    "comercio.head()"
   ]
  },
  {
   "cell_type": "markdown",
   "id": "ecc97cfa",
   "metadata": {},
   "source": [
    "As tabelas CSV apresentam dados de vinhos e suas derivações em uma única linha, dificultando a análise. Precisaremos tratá-los para uso eficiente. A primeira tabela organiza dados por ano desde 1970, e a segunda contém valores não identificados. Analisaremos os dados de 2008 a 2022, abrangendo os últimos 15 anos.\n",
    "\n"
   ]
  },
  {
   "cell_type": "code",
   "execution_count": 10,
   "id": "0b1d7db4",
   "metadata": {},
   "outputs": [
    {
     "name": "stdout",
     "output_type": "stream",
     "text": [
      "Linhas da tabela Produção: 51\n",
      "Colunas da tabela Produção: 55\n",
      "Linhas da tabela Comercio: 60\n",
      "Colunas da tabela Comercio: 56\n"
     ]
    }
   ],
   "source": [
    "# Visualizar o tamanho do dataframe Producao\n",
    "print(f\"Linhas da tabela Produção: {producao.shape[0]}\")\n",
    "print(f\"Colunas da tabela Produção: {producao.shape[1]}\")\n",
    "# Visualizar o tamanho do dataframe Comercio \n",
    "print(f\"Linhas da tabela Comercio: {comercio.shape[0]}\")\n",
    "print(f\"Colunas da tabela Comercio: {comercio.shape[1]}\")"
   ]
  },
  {
   "cell_type": "markdown",
   "id": "e547c6c7",
   "metadata": {},
   "source": [
    "#### 5.1.2 Tratamendo e Limpeza dos dados de Produção"
   ]
  },
  {
   "cell_type": "code",
   "execution_count": 11,
   "id": "95fef75d",
   "metadata": {},
   "outputs": [],
   "source": [
    "# Alterando o nome das colunas para facilitar o tratamento\n",
    "producao[\"Categoria\"] = producao[\"id\"]\n",
    "producao[\"Nome Produto\"] = producao[\"produto\"]\n",
    "# Definindo a coluna id como index da tabela\n",
    "producao = producao.set_index('id')"
   ]
  },
  {
   "cell_type": "code",
   "execution_count": 12,
   "id": "1961696f",
   "metadata": {},
   "outputs": [
    {
     "data": {
      "text/html": [
       "<div>\n",
       "<style scoped>\n",
       "    .dataframe tbody tr th:only-of-type {\n",
       "        vertical-align: middle;\n",
       "    }\n",
       "\n",
       "    .dataframe tbody tr th {\n",
       "        vertical-align: top;\n",
       "    }\n",
       "\n",
       "    .dataframe thead th {\n",
       "        text-align: right;\n",
       "    }\n",
       "</style>\n",
       "<table border=\"1\" class=\"dataframe\">\n",
       "  <thead>\n",
       "    <tr style=\"text-align: right;\">\n",
       "      <th></th>\n",
       "      <th>2008</th>\n",
       "      <th>2009</th>\n",
       "      <th>2010</th>\n",
       "      <th>2011</th>\n",
       "      <th>2012</th>\n",
       "      <th>2013</th>\n",
       "      <th>2014</th>\n",
       "      <th>2015</th>\n",
       "      <th>2016</th>\n",
       "      <th>2017</th>\n",
       "      <th>2018</th>\n",
       "      <th>2019</th>\n",
       "      <th>2020</th>\n",
       "      <th>2021</th>\n",
       "      <th>2022</th>\n",
       "      <th>Categoria</th>\n",
       "      <th>Nome Produto</th>\n",
       "    </tr>\n",
       "    <tr>\n",
       "      <th>id</th>\n",
       "      <th></th>\n",
       "      <th></th>\n",
       "      <th></th>\n",
       "      <th></th>\n",
       "      <th></th>\n",
       "      <th></th>\n",
       "      <th></th>\n",
       "      <th></th>\n",
       "      <th></th>\n",
       "      <th></th>\n",
       "      <th></th>\n",
       "      <th></th>\n",
       "      <th></th>\n",
       "      <th></th>\n",
       "      <th></th>\n",
       "      <th></th>\n",
       "      <th></th>\n",
       "    </tr>\n",
       "  </thead>\n",
       "  <tbody>\n",
       "    <tr>\n",
       "      <th>1</th>\n",
       "      <td>287506811</td>\n",
       "      <td>205418206</td>\n",
       "      <td>195267980</td>\n",
       "      <td>257840749</td>\n",
       "      <td>212777037</td>\n",
       "      <td>196904222</td>\n",
       "      <td>196173123</td>\n",
       "      <td>210308560</td>\n",
       "      <td>86319015</td>\n",
       "      <td>255015187</td>\n",
       "      <td>218375636</td>\n",
       "      <td>144629737</td>\n",
       "      <td>124200414</td>\n",
       "      <td>173899995</td>\n",
       "      <td>195031611</td>\n",
       "      <td>1</td>\n",
       "      <td>VINHO DE MESA</td>\n",
       "    </tr>\n",
       "    <tr>\n",
       "      <th>2</th>\n",
       "      <td>241057928</td>\n",
       "      <td>164143454</td>\n",
       "      <td>157290088</td>\n",
       "      <td>210113358</td>\n",
       "      <td>175875432</td>\n",
       "      <td>163111797</td>\n",
       "      <td>157776363</td>\n",
       "      <td>169811472</td>\n",
       "      <td>75279191</td>\n",
       "      <td>1365957</td>\n",
       "      <td>188270142</td>\n",
       "      <td>121045115</td>\n",
       "      <td>103916391</td>\n",
       "      <td>146075996</td>\n",
       "      <td>162844214</td>\n",
       "      <td>2</td>\n",
       "      <td>Tinto</td>\n",
       "    </tr>\n",
       "    <tr>\n",
       "      <th>3</th>\n",
       "      <td>42942053</td>\n",
       "      <td>39211278</td>\n",
       "      <td>35408083</td>\n",
       "      <td>46007504</td>\n",
       "      <td>34938249</td>\n",
       "      <td>32066403</td>\n",
       "      <td>37438069</td>\n",
       "      <td>39557250</td>\n",
       "      <td>10727099</td>\n",
       "      <td>217527985</td>\n",
       "      <td>29229970</td>\n",
       "      <td>22032828</td>\n",
       "      <td>19568734</td>\n",
       "      <td>26432799</td>\n",
       "      <td>30198430</td>\n",
       "      <td>3</td>\n",
       "      <td>Branco</td>\n",
       "    </tr>\n",
       "    <tr>\n",
       "      <th>4</th>\n",
       "      <td>3506830</td>\n",
       "      <td>2063474</td>\n",
       "      <td>2569809</td>\n",
       "      <td>1719887</td>\n",
       "      <td>1963356</td>\n",
       "      <td>1726022</td>\n",
       "      <td>958691</td>\n",
       "      <td>939838</td>\n",
       "      <td>312725</td>\n",
       "      <td>36121245</td>\n",
       "      <td>875524</td>\n",
       "      <td>1551794</td>\n",
       "      <td>715289</td>\n",
       "      <td>1391200</td>\n",
       "      <td>1988968</td>\n",
       "      <td>4</td>\n",
       "      <td>Rosado</td>\n",
       "    </tr>\n",
       "    <tr>\n",
       "      <th>5</th>\n",
       "      <td>47334501</td>\n",
       "      <td>39900568</td>\n",
       "      <td>24805713</td>\n",
       "      <td>47598471</td>\n",
       "      <td>45200730</td>\n",
       "      <td>45782530</td>\n",
       "      <td>38464314</td>\n",
       "      <td>37148982</td>\n",
       "      <td>18070626</td>\n",
       "      <td>44537870</td>\n",
       "      <td>38707220</td>\n",
       "      <td>37615422</td>\n",
       "      <td>32516686</td>\n",
       "      <td>43474998</td>\n",
       "      <td>47511796</td>\n",
       "      <td>5</td>\n",
       "      <td>VINHO FINO DE MESA (VINÍFERA)</td>\n",
       "    </tr>\n",
       "  </tbody>\n",
       "</table>\n",
       "</div>"
      ],
      "text/plain": [
       "         2008       2009       2010       2011       2012       2013  \\\n",
       "id                                                                     \n",
       "1   287506811  205418206  195267980  257840749  212777037  196904222   \n",
       "2   241057928  164143454  157290088  210113358  175875432  163111797   \n",
       "3    42942053   39211278   35408083   46007504   34938249   32066403   \n",
       "4     3506830    2063474    2569809    1719887    1963356    1726022   \n",
       "5    47334501   39900568   24805713   47598471   45200730   45782530   \n",
       "\n",
       "         2014       2015      2016       2017       2018       2019  \\\n",
       "id                                                                    \n",
       "1   196173123  210308560  86319015  255015187  218375636  144629737   \n",
       "2   157776363  169811472  75279191    1365957  188270142  121045115   \n",
       "3    37438069   39557250  10727099  217527985   29229970   22032828   \n",
       "4      958691     939838    312725   36121245     875524    1551794   \n",
       "5    38464314   37148982  18070626   44537870   38707220   37615422   \n",
       "\n",
       "         2020       2021       2022  Categoria                   Nome Produto  \n",
       "id                                                                             \n",
       "1   124200414  173899995  195031611          1                  VINHO DE MESA  \n",
       "2   103916391  146075996  162844214          2                          Tinto  \n",
       "3    19568734   26432799   30198430          3                         Branco  \n",
       "4      715289    1391200    1988968          4                         Rosado  \n",
       "5    32516686   43474998   47511796          5  VINHO FINO DE MESA (VINÍFERA)  "
      ]
     },
     "execution_count": 12,
     "metadata": {},
     "output_type": "execute_result"
    }
   ],
   "source": [
    "# filtrando as colunas apenas dos ultimos 15 anos para analise\n",
    "producao_ultimos_15_anos = producao.columns[39:]\n",
    "producao = producao[producao_ultimos_15_anos]\n",
    "producao.head()"
   ]
  },
  {
   "cell_type": "code",
   "execution_count": 13,
   "id": "89f568b8",
   "metadata": {},
   "outputs": [],
   "source": [
    "# Definindo as colunas a serem usadas e reornenando \n",
    "producao=producao[[\"Nome Produto\",'Categoria','2008', '2009', '2010', '2011', '2012',\n",
    "       '2013', '2014', '2015', '2016', '2017', '2018', '2019', '2020', '2021',\n",
    "       '2022']]"
   ]
  },
  {
   "cell_type": "code",
   "execution_count": 14,
   "id": "4de479ab",
   "metadata": {},
   "outputs": [],
   "source": [
    "# definindo as categorias dos de cada produto \n",
    "producao[\"Categoria\"] = producao[\"Categoria\"].mask(producao[\"Categoria\"] >= 15,'derivado')"
   ]
  },
  {
   "cell_type": "code",
   "execution_count": 15,
   "id": "d2c1f3e5",
   "metadata": {
    "scrolled": false
   },
   "outputs": [],
   "source": [
    "# definindo as categorias dos de cada produto \n",
    "producao[\"Categoria\"] = producao[\"Categoria\"].replace([5,6,7,8],\"vinho fino vinífera\")\n",
    "producao[\"Categoria\"] = producao[\"Categoria\"].replace([9, 10, 11, 12, 13, 14],\"suco\")\n",
    "producao[\"Categoria\"] = producao[\"Categoria\"].replace([1,2,3,4],\"vinho mesa\")"
   ]
  },
  {
   "cell_type": "code",
   "execution_count": 16,
   "id": "d111de84",
   "metadata": {},
   "outputs": [],
   "source": [
    "# eliminando as linhas que não deveriam ser nome do produto e sim categorias \n",
    "producao = producao.drop(1, axis=0)\n",
    "producao = producao.drop(5, axis=0)\n",
    "producao = producao.drop(9, axis=0)\n",
    "producao = producao.drop(15, axis=0)"
   ]
  },
  {
   "cell_type": "code",
   "execution_count": 17,
   "id": "4377f549",
   "metadata": {},
   "outputs": [],
   "source": [
    "# Reorganizando o dataframe em função da Categoria e Nome do produto utilizando os anos como uma unica coluna\n",
    "producao = pd.melt(producao, id_vars=[\"Categoria\",\"Nome Produto\"],var_name=\"Ano\", value_name=\"Total_Produzido\")\n",
    "# Alterando o nome do produto para letras minusculas \n",
    "producao[\"Nome Produto\"] = producao[\"Nome Produto\"].str.lower()"
   ]
  },
  {
   "cell_type": "code",
   "execution_count": 18,
   "id": "613692fc",
   "metadata": {},
   "outputs": [
    {
     "data": {
      "text/html": [
       "<div>\n",
       "<style scoped>\n",
       "    .dataframe tbody tr th:only-of-type {\n",
       "        vertical-align: middle;\n",
       "    }\n",
       "\n",
       "    .dataframe tbody tr th {\n",
       "        vertical-align: top;\n",
       "    }\n",
       "\n",
       "    .dataframe thead th {\n",
       "        text-align: right;\n",
       "    }\n",
       "</style>\n",
       "<table border=\"1\" class=\"dataframe\">\n",
       "  <thead>\n",
       "    <tr style=\"text-align: right;\">\n",
       "      <th></th>\n",
       "      <th>Categoria</th>\n",
       "      <th>Nome Produto</th>\n",
       "      <th>Ano</th>\n",
       "      <th>Total_Produzido</th>\n",
       "    </tr>\n",
       "  </thead>\n",
       "  <tbody>\n",
       "    <tr>\n",
       "      <th>0</th>\n",
       "      <td>vinho mesa</td>\n",
       "      <td>tinto</td>\n",
       "      <td>2008</td>\n",
       "      <td>241057928</td>\n",
       "    </tr>\n",
       "    <tr>\n",
       "      <th>1</th>\n",
       "      <td>vinho mesa</td>\n",
       "      <td>branco</td>\n",
       "      <td>2008</td>\n",
       "      <td>42942053</td>\n",
       "    </tr>\n",
       "    <tr>\n",
       "      <th>2</th>\n",
       "      <td>vinho mesa</td>\n",
       "      <td>rosado</td>\n",
       "      <td>2008</td>\n",
       "      <td>3506830</td>\n",
       "    </tr>\n",
       "    <tr>\n",
       "      <th>3</th>\n",
       "      <td>vinho fino vinífera</td>\n",
       "      <td>tinto</td>\n",
       "      <td>2008</td>\n",
       "      <td>27583032</td>\n",
       "    </tr>\n",
       "    <tr>\n",
       "      <th>4</th>\n",
       "      <td>vinho fino vinífera</td>\n",
       "      <td>branco</td>\n",
       "      <td>2008</td>\n",
       "      <td>18812571</td>\n",
       "    </tr>\n",
       "    <tr>\n",
       "      <th>5</th>\n",
       "      <td>vinho fino vinífera</td>\n",
       "      <td>rosado</td>\n",
       "      <td>2008</td>\n",
       "      <td>938898</td>\n",
       "    </tr>\n",
       "    <tr>\n",
       "      <th>6</th>\n",
       "      <td>suco</td>\n",
       "      <td>suco de uva integral</td>\n",
       "      <td>2008</td>\n",
       "      <td>11817941</td>\n",
       "    </tr>\n",
       "    <tr>\n",
       "      <th>7</th>\n",
       "      <td>suco</td>\n",
       "      <td>suco de uva concentrado</td>\n",
       "      <td>2008</td>\n",
       "      <td>23014646</td>\n",
       "    </tr>\n",
       "    <tr>\n",
       "      <th>8</th>\n",
       "      <td>suco</td>\n",
       "      <td>suco de uva adoçado</td>\n",
       "      <td>2008</td>\n",
       "      <td>815407</td>\n",
       "    </tr>\n",
       "    <tr>\n",
       "      <th>9</th>\n",
       "      <td>suco</td>\n",
       "      <td>suco de uva orgânico</td>\n",
       "      <td>2008</td>\n",
       "      <td>0</td>\n",
       "    </tr>\n",
       "  </tbody>\n",
       "</table>\n",
       "</div>"
      ],
      "text/plain": [
       "             Categoria             Nome Produto   Ano  Total_Produzido\n",
       "0           vinho mesa                    tinto  2008        241057928\n",
       "1           vinho mesa                   branco  2008         42942053\n",
       "2           vinho mesa                   rosado  2008          3506830\n",
       "3  vinho fino vinífera                    tinto  2008         27583032\n",
       "4  vinho fino vinífera                   branco  2008         18812571\n",
       "5  vinho fino vinífera                   rosado  2008           938898\n",
       "6                 suco     suco de uva integral  2008         11817941\n",
       "7                 suco  suco de uva concentrado  2008         23014646\n",
       "8                 suco      suco de uva adoçado  2008           815407\n",
       "9                 suco     suco de uva orgânico  2008                0"
      ]
     },
     "execution_count": 18,
     "metadata": {},
     "output_type": "execute_result"
    }
   ],
   "source": [
    "# visualizando o dataframe tratado \n",
    "producao.head(10)"
   ]
  },
  {
   "cell_type": "code",
   "execution_count": 19,
   "id": "73939b4d",
   "metadata": {},
   "outputs": [
    {
     "name": "stdout",
     "output_type": "stream",
     "text": [
      "Linhas da tabela Produção apos o tratamento: 705\n",
      "Colunas da tabela Produção apos o tratamento: 4\n",
      "O primeiro ano registrado na tabela é : 2008\n",
      "O último ano registrado na tabela é : 2022\n"
     ]
    }
   ],
   "source": [
    "# Visualizar o tamanho do dataframe Producao\n",
    "print(f\"Linhas da tabela Produção apos o tratamento: {producao.shape[0]}\")\n",
    "print(f\"Colunas da tabela Produção apos o tratamento: {producao.shape[1]}\")\n",
    "# Visualizar o ano inicial e o ano final da base \n",
    "print(f\"O primeiro ano registrado na tabela é : {producao['Ano'].min()}\")\n",
    "print(f\"O último ano registrado na tabela é : {producao['Ano'].max()}\")"
   ]
  },
  {
   "cell_type": "markdown",
   "id": "aa7d6b84",
   "metadata": {},
   "source": [
    "Após tratar e limpar os dados de produção, obtivemos um dataframe maior, porém com menos colunas e dados mais organizados. Isso será crucial para a junção com os dados de comercialização, que trataremos a seguir."
   ]
  },
  {
   "cell_type": "markdown",
   "id": "8a2b5d53",
   "metadata": {},
   "source": [
    "#### 5.1.3 Tratamendo e Limpeza dos dados de Comercialização "
   ]
  },
  {
   "cell_type": "code",
   "execution_count": 20,
   "id": "598c7002",
   "metadata": {},
   "outputs": [
    {
     "data": {
      "text/html": [
       "<div>\n",
       "<style scoped>\n",
       "    .dataframe tbody tr th:only-of-type {\n",
       "        vertical-align: middle;\n",
       "    }\n",
       "\n",
       "    .dataframe tbody tr th {\n",
       "        vertical-align: top;\n",
       "    }\n",
       "\n",
       "    .dataframe thead th {\n",
       "        text-align: right;\n",
       "    }\n",
       "</style>\n",
       "<table border=\"1\" class=\"dataframe\">\n",
       "  <thead>\n",
       "    <tr style=\"text-align: right;\">\n",
       "      <th></th>\n",
       "      <th>1</th>\n",
       "      <th>VINHO DE MESA</th>\n",
       "      <th>VINHO DE MESA.1</th>\n",
       "      <th>98327606</th>\n",
       "      <th>114399031</th>\n",
       "      <th>118377367</th>\n",
       "      <th>116617910</th>\n",
       "      <th>94173324</th>\n",
       "      <th>108031792</th>\n",
       "      <th>139238614</th>\n",
       "      <th>...</th>\n",
       "      <th>221590810</th>\n",
       "      <th>206404427</th>\n",
       "      <th>209198468</th>\n",
       "      <th>166769622</th>\n",
       "      <th>176059959</th>\n",
       "      <th>177186273</th>\n",
       "      <th>180446489</th>\n",
       "      <th>215557931</th>\n",
       "      <th>210012238</th>\n",
       "      <th>187939996</th>\n",
       "    </tr>\n",
       "  </thead>\n",
       "  <tbody>\n",
       "    <tr>\n",
       "      <th>0</th>\n",
       "      <td>2</td>\n",
       "      <td>vm_Tinto</td>\n",
       "      <td>Tinto</td>\n",
       "      <td>83300735</td>\n",
       "      <td>98522869</td>\n",
       "      <td>101167932</td>\n",
       "      <td>98196747</td>\n",
       "      <td>77167303</td>\n",
       "      <td>91528090</td>\n",
       "      <td>116407222</td>\n",
       "      <td>...</td>\n",
       "      <td>188033494</td>\n",
       "      <td>178250072</td>\n",
       "      <td>182028785</td>\n",
       "      <td>146646365</td>\n",
       "      <td>154309442</td>\n",
       "      <td>155115499</td>\n",
       "      <td>158519218</td>\n",
       "      <td>189573423</td>\n",
       "      <td>185653678</td>\n",
       "      <td>165067340</td>\n",
       "    </tr>\n",
       "    <tr>\n",
       "      <th>1</th>\n",
       "      <td>3</td>\n",
       "      <td>vm_Rosado</td>\n",
       "      <td>Rosado</td>\n",
       "      <td>107681</td>\n",
       "      <td>542274</td>\n",
       "      <td>7770851</td>\n",
       "      <td>8425617</td>\n",
       "      <td>8891367</td>\n",
       "      <td>7261777</td>\n",
       "      <td>11748047</td>\n",
       "      <td>...</td>\n",
       "      <td>1777648</td>\n",
       "      <td>1419855</td>\n",
       "      <td>1409002</td>\n",
       "      <td>1391942</td>\n",
       "      <td>1097426</td>\n",
       "      <td>1972944</td>\n",
       "      <td>1265435</td>\n",
       "      <td>1394901</td>\n",
       "      <td>1931606</td>\n",
       "      <td>2213723</td>\n",
       "    </tr>\n",
       "    <tr>\n",
       "      <th>2</th>\n",
       "      <td>4</td>\n",
       "      <td>vm_Branco</td>\n",
       "      <td>Branco</td>\n",
       "      <td>14919190</td>\n",
       "      <td>15333888</td>\n",
       "      <td>9438584</td>\n",
       "      <td>9995546</td>\n",
       "      <td>8114654</td>\n",
       "      <td>9241925</td>\n",
       "      <td>11083345</td>\n",
       "      <td>...</td>\n",
       "      <td>31779668</td>\n",
       "      <td>26734500</td>\n",
       "      <td>25760681</td>\n",
       "      <td>18731315</td>\n",
       "      <td>20653091</td>\n",
       "      <td>20097830</td>\n",
       "      <td>20661836</td>\n",
       "      <td>24589607</td>\n",
       "      <td>22426954</td>\n",
       "      <td>20658933</td>\n",
       "    </tr>\n",
       "  </tbody>\n",
       "</table>\n",
       "<p>3 rows × 56 columns</p>\n",
       "</div>"
      ],
      "text/plain": [
       "   1 VINHO DE MESA VINHO DE MESA.1  98327606  114399031  118377367  116617910  \\\n",
       "0  2      vm_Tinto           Tinto  83300735   98522869  101167932   98196747   \n",
       "1  3     vm_Rosado          Rosado    107681     542274    7770851    8425617   \n",
       "2  4     vm_Branco          Branco  14919190   15333888    9438584    9995546   \n",
       "\n",
       "   94173324  108031792  139238614  ...  221590810  206404427  209198468  \\\n",
       "0  77167303   91528090  116407222  ...  188033494  178250072  182028785   \n",
       "1   8891367    7261777   11748047  ...    1777648    1419855    1409002   \n",
       "2   8114654    9241925   11083345  ...   31779668   26734500   25760681   \n",
       "\n",
       "   166769622  176059959  177186273  180446489  215557931  210012238  187939996  \n",
       "0  146646365  154309442  155115499  158519218  189573423  185653678  165067340  \n",
       "1    1391942    1097426    1972944    1265435    1394901    1931606    2213723  \n",
       "2   18731315   20653091   20097830   20661836   24589607   22426954   20658933  \n",
       "\n",
       "[3 rows x 56 columns]"
      ]
     },
     "execution_count": 20,
     "metadata": {},
     "output_type": "execute_result"
    }
   ],
   "source": [
    "# vizualizando o dataframe sem tratamento nenhum\n",
    "comercio.head(3)"
   ]
  },
  {
   "cell_type": "code",
   "execution_count": 21,
   "id": "7698bb61",
   "metadata": {},
   "outputs": [],
   "source": [
    "# alterando o nome das colunas\n",
    "comercio[\"VINHO DE MESA1\"] = comercio[\"VINHO DE MESA\"]\n",
    "comercio[\"Categoria1\"] = comercio[\"1\"]\n",
    "# excluindo a coluna '1' sem informação relevante\n",
    "comercio = comercio.drop('1',axis=1)"
   ]
  },
  {
   "cell_type": "code",
   "execution_count": 22,
   "id": "728fd627",
   "metadata": {},
   "outputs": [],
   "source": [
    "# criando uma coluna com os dados que seram usados como coluna\n",
    "comercio = comercio.T\n",
    "comercio.insert(0,column=\"id\",value = ['produto', 'produto.1','1970', '1971', '1972', '1973', '1974', '1975', '1976','1977', '1978', '1979', '1980', '1981', '1982', '1983', '1984', '1985','1986', '1987', '1988', '1989', '1990', '1991', '1992', '1993', '1994','1995', '1996', '1997', '1998', '1999', '2000', '2001', '2002', '2003','2004', '2005', '2006', '2007', '2008', '2009', '2010', '2011', '2012','2013', '2014', '2015', '2016', '2017', '2018', '2019', '2020', '2021','2022','Nome Produto','Categoria'])\n",
    "# Definindo a coluna 'id' como index\n",
    "comercio= comercio.set_index(\"id\")"
   ]
  },
  {
   "cell_type": "code",
   "execution_count": 23,
   "id": "a5ceffe8",
   "metadata": {},
   "outputs": [],
   "source": [
    "# Transpondo a matriz para que os anos fiquem como coluna\n",
    "comercio = comercio.T"
   ]
  },
  {
   "cell_type": "code",
   "execution_count": 24,
   "id": "9049f930",
   "metadata": {},
   "outputs": [],
   "source": [
    "# filtrando as colunas apenas dos ultimos 15 anos para analise\n",
    "comercio_ultimos_15_anos = comercio.columns[40:]\n",
    "comercio = comercio[comercio_ultimos_15_anos]"
   ]
  },
  {
   "cell_type": "code",
   "execution_count": 25,
   "id": "b9b2bc8b",
   "metadata": {},
   "outputs": [],
   "source": [
    "# Definindo as colunas a serem usadas e reornenando \n",
    "comercio =comercio[[\"Nome Produto\",'Categoria','2008', '2009', '2010', '2011', '2012',\n",
    "       '2013', '2014', '2015', '2016', '2017', '2018', '2019', '2020', '2021',\n",
    "       '2022']]"
   ]
  },
  {
   "cell_type": "code",
   "execution_count": 26,
   "id": "71b06890",
   "metadata": {},
   "outputs": [],
   "source": [
    "# definindo as categorias dos  produto \n",
    "comercio[\"Categoria\"] = comercio[\"Categoria\"].mask(comercio[\"Categoria\"] >24,'derivado') #outros produtos comercializados"
   ]
  },
  {
   "cell_type": "code",
   "execution_count": 27,
   "id": "740e4465",
   "metadata": {},
   "outputs": [],
   "source": [
    "# definindo as categorias dos  produto \n",
    "comercio[\"Categoria\"] = comercio[\"Categoria\"].replace([5,6,7,8],\"vinho fino vinífera\")\n",
    "comercio[\"Categoria\"] = comercio[\"Categoria\"].replace([9,10],\"derivado\")\n",
    "comercio[\"Categoria\"] = comercio[\"Categoria\"].replace([11,12,13,14],\"vinho especial\")\n",
    "comercio[\"Categoria\"] = comercio[\"Categoria\"].replace([19,20,21,22,23,24],\"suco\")\n",
    "comercio[\"Categoria\"] = comercio[\"Categoria\"].replace([15,16,17,18],\"derivado\") #espumantes\n",
    "comercio[\"Categoria\"] = comercio[\"Categoria\"].replace([11,12,13],\"suco\")\n",
    "comercio[\"Categoria\"] = comercio[\"Categoria\"].replace([14],\"suco\") #suco de uva concentrado nao faz parte da soma do suco de uva\n",
    "comercio[\"Categoria\"] = comercio[\"Categoria\"].replace([2,3,4],\"vinho mesa\")"
   ]
  },
  {
   "cell_type": "code",
   "execution_count": 28,
   "id": "75b7f2bf",
   "metadata": {},
   "outputs": [],
   "source": [
    "# eliminando as linhas que não deveriam ser nome do produto e sim categorias \n",
    "comercio = comercio.drop([3,9,15,17,23], axis=0)"
   ]
  },
  {
   "cell_type": "code",
   "execution_count": 29,
   "id": "ee779b62",
   "metadata": {},
   "outputs": [],
   "source": [
    "# Reorganizando o dataframe em função da Categoria e Nome do produto utilizando os anos como uma única coluna\n",
    "comercio = pd.melt(comercio, id_vars=[\"Categoria\",\"Nome Produto\"],var_name=\"Ano\", value_name=\"Total_Comercializado\")"
   ]
  },
  {
   "cell_type": "code",
   "execution_count": 30,
   "id": "07d1202a",
   "metadata": {},
   "outputs": [],
   "source": [
    "# Corrigindo o nome dos produtos\n",
    "comercio [\"Nome Produto\"] = comercio [\"Nome Produto\"].str.replace('vm_', '')\n",
    "comercio [\"Nome Produto\"] = comercio [\"Nome Produto\"].str.replace('ve_', '')\n",
    "comercio [\"Nome Produto\"] = comercio [\"Nome Produto\"].str.replace('es_', '')\n",
    "comercio [\"Nome Produto\"] = comercio [\"Nome Produto\"].str.replace('su_', '')\n",
    "comercio [\"Nome Produto\"] = comercio [\"Nome Produto\"].str.replace('ou_', '')\n",
    "comercio [\"Nome Produto\"] = comercio [\"Nome Produto\"].str.replace('_', ' ')\n",
    "comercio[\"Nome Produto\"] = comercio[\"Nome Produto\"].str.lower()"
   ]
  },
  {
   "cell_type": "code",
   "execution_count": 31,
   "id": "52bfc387",
   "metadata": {},
   "outputs": [
    {
     "name": "stdout",
     "output_type": "stream",
     "text": [
      "Linhas da tabela Comercialização apos o tratamento: 825\n",
      "Colunas da tabela Comercialização apos o tratamento: 4\n",
      "O primeiro ano registrado na tabela é : 2008\n",
      "O último ano registrado na tabela é : 2022\n"
     ]
    }
   ],
   "source": [
    "# Visualizar o tamanho do dataframe Comercialização\n",
    "print(f\"Linhas da tabela Comercialização apos o tratamento: {comercio.shape[0]}\")\n",
    "print(f\"Colunas da tabela Comercialização apos o tratamento: {comercio.shape[1]}\")\n",
    "# Visualizar o ano inicial e o ano final da base \n",
    "print(f\"O primeiro ano registrado na tabela é : {comercio['Ano'].min()}\")\n",
    "print(f\"O último ano registrado na tabela é : {comercio['Ano'].max()}\")"
   ]
  },
  {
   "cell_type": "markdown",
   "id": "3b8228f8",
   "metadata": {},
   "source": [
    "Após tratar e limpar os dados de comercialização, obtivemos um dataframe maior, mas com menos colunas e melhor organização, assim como fizemos com os dados de produção. Isso será importante para a junção dos dados."
   ]
  },
  {
   "cell_type": "markdown",
   "id": "ad5f833e",
   "metadata": {},
   "source": [
    "#### 5.1.4 Junção das Tabelas Produção e Comercialização"
   ]
  },
  {
   "cell_type": "markdown",
   "id": "67493594",
   "metadata": {},
   "source": [
    "As tabelas de Produção e Comercialização possuem as mesmas categorias, nomes de produtos, anos e formato. Para facilitar a análise, iremos uni-las em um único dataframe."
   ]
  },
  {
   "cell_type": "code",
   "execution_count": 32,
   "id": "5ff93693",
   "metadata": {},
   "outputs": [
    {
     "name": "stdout",
     "output_type": "stream",
     "text": [
      "As categorias de produção são: ['vinho mesa' 'vinho fino vinífera' 'suco' 'derivado']\n",
      "As categorias de comercio são: ['vinho mesa' 'vinho fino vinífera' 'derivado' 'vinho especial' 'suco']\n"
     ]
    }
   ],
   "source": [
    "# visualizando as categorias de produção e comercio\n",
    "categorias_producao = producao['Categoria'].unique()\n",
    "categorias_comercio = comercio['Categoria'].unique()\n",
    "print(f'As categorias de produção são: {categorias_producao}')\n",
    "print(f'As categorias de comercio são: {categorias_comercio}')"
   ]
  },
  {
   "cell_type": "code",
   "execution_count": 33,
   "id": "3228c0ee",
   "metadata": {},
   "outputs": [
    {
     "data": {
      "text/html": [
       "<div>\n",
       "<style scoped>\n",
       "    .dataframe tbody tr th:only-of-type {\n",
       "        vertical-align: middle;\n",
       "    }\n",
       "\n",
       "    .dataframe tbody tr th {\n",
       "        vertical-align: top;\n",
       "    }\n",
       "\n",
       "    .dataframe thead th {\n",
       "        text-align: right;\n",
       "    }\n",
       "</style>\n",
       "<table border=\"1\" class=\"dataframe\">\n",
       "  <thead>\n",
       "    <tr style=\"text-align: right;\">\n",
       "      <th></th>\n",
       "      <th>Categoria</th>\n",
       "      <th>Nome Produto</th>\n",
       "      <th>Ano</th>\n",
       "      <th>Total_Produzido</th>\n",
       "      <th>Total_Comercializado</th>\n",
       "    </tr>\n",
       "  </thead>\n",
       "  <tbody>\n",
       "    <tr>\n",
       "      <th>0</th>\n",
       "      <td>vinho mesa</td>\n",
       "      <td>tinto</td>\n",
       "      <td>2008</td>\n",
       "      <td>241057928</td>\n",
       "      <td>172020779</td>\n",
       "    </tr>\n",
       "    <tr>\n",
       "      <th>1</th>\n",
       "      <td>vinho mesa</td>\n",
       "      <td>branco</td>\n",
       "      <td>2008</td>\n",
       "      <td>42942053</td>\n",
       "      <td>26627054</td>\n",
       "    </tr>\n",
       "    <tr>\n",
       "      <th>2</th>\n",
       "      <td>vinho mesa</td>\n",
       "      <td>rosado</td>\n",
       "      <td>2008</td>\n",
       "      <td>3506830</td>\n",
       "      <td>1840779</td>\n",
       "    </tr>\n",
       "    <tr>\n",
       "      <th>3</th>\n",
       "      <td>vinho fino vinífera</td>\n",
       "      <td>tinto</td>\n",
       "      <td>2008</td>\n",
       "      <td>27583032</td>\n",
       "      <td>13920224</td>\n",
       "    </tr>\n",
       "    <tr>\n",
       "      <th>4</th>\n",
       "      <td>vinho fino vinífera</td>\n",
       "      <td>branco</td>\n",
       "      <td>2008</td>\n",
       "      <td>18812571</td>\n",
       "      <td>8934001</td>\n",
       "    </tr>\n",
       "  </tbody>\n",
       "</table>\n",
       "</div>"
      ],
      "text/plain": [
       "             Categoria Nome Produto   Ano  Total_Produzido  \\\n",
       "0           vinho mesa        tinto  2008        241057928   \n",
       "1           vinho mesa       branco  2008         42942053   \n",
       "2           vinho mesa       rosado  2008          3506830   \n",
       "3  vinho fino vinífera        tinto  2008         27583032   \n",
       "4  vinho fino vinífera       branco  2008         18812571   \n",
       "\n",
       "  Total_Comercializado  \n",
       "0            172020779  \n",
       "1             26627054  \n",
       "2              1840779  \n",
       "3             13920224  \n",
       "4              8934001  "
      ]
     },
     "execution_count": 33,
     "metadata": {},
     "output_type": "execute_result"
    }
   ],
   "source": [
    "# unindo os dataframes\n",
    "producao_comercio = pd.merge(producao,comercio,how = \"left\", on = [\"Categoria\",\"Nome Produto\",\"Ano\"])\n",
    "# visualizando as 5 primeiras linhas do dataframe unido\n",
    "producao_comercio.head()"
   ]
  },
  {
   "cell_type": "code",
   "execution_count": 34,
   "id": "2c032bed",
   "metadata": {},
   "outputs": [
    {
     "name": "stdout",
     "output_type": "stream",
     "text": [
      "<class 'pandas.core.frame.DataFrame'>\n",
      "RangeIndex: 705 entries, 0 to 704\n",
      "Data columns (total 5 columns):\n",
      " #   Column                Non-Null Count  Dtype \n",
      "---  ------                --------------  ----- \n",
      " 0   Categoria             705 non-null    object\n",
      " 1   Nome Produto          705 non-null    object\n",
      " 2   Ano                   705 non-null    object\n",
      " 3   Total_Produzido       705 non-null    int64 \n",
      " 4   Total_Comercializado  300 non-null    object\n",
      "dtypes: int64(1), object(4)\n",
      "memory usage: 27.7+ KB\n"
     ]
    }
   ],
   "source": [
    "# visualizando os tipos de dados das colunas \n",
    "producao_comercio.info()"
   ]
  },
  {
   "cell_type": "code",
   "execution_count": 35,
   "id": "5d49bc19",
   "metadata": {},
   "outputs": [],
   "source": [
    "# preenchendo os valores NaN com zero \n",
    "producao_comercio.fillna(0,inplace = True)"
   ]
  },
  {
   "cell_type": "code",
   "execution_count": 36,
   "id": "43416620",
   "metadata": {},
   "outputs": [
    {
     "name": "stdout",
     "output_type": "stream",
     "text": [
      "<class 'pandas.core.frame.DataFrame'>\n",
      "RangeIndex: 705 entries, 0 to 704\n",
      "Data columns (total 5 columns):\n",
      " #   Column                Non-Null Count  Dtype \n",
      "---  ------                --------------  ----- \n",
      " 0   Categoria             705 non-null    object\n",
      " 1   Nome Produto          705 non-null    object\n",
      " 2   Ano                   705 non-null    object\n",
      " 3   Total_Produzido       705 non-null    int64 \n",
      " 4   Total_Comercializado  705 non-null    int64 \n",
      "dtypes: int64(2), object(3)\n",
      "memory usage: 27.7+ KB\n"
     ]
    }
   ],
   "source": [
    "# corrigindo o tipo de dados da colunas Total_Produzido e Total Comercializado\n",
    "producao_comercio[\"Total_Produzido\"] = producao_comercio.Total_Produzido.astype('int64')\n",
    "producao_comercio[\"Total_Comercializado\"] = producao_comercio.Total_Comercializado.astype('int64')\n",
    "# visualizando os tipos de dados das colunas \n",
    "producao_comercio.info()"
   ]
  },
  {
   "cell_type": "code",
   "execution_count": 37,
   "id": "447f2fc8",
   "metadata": {},
   "outputs": [
    {
     "name": "stdout",
     "output_type": "stream",
     "text": [
      "Linhas da tabela Producao e Comercialização: 705\n",
      "Colunas da tabela Producao e Comercialização: 5\n",
      "O primeiro ano registrado na tabela é : 2008\n",
      "O último ano registrado na tabela é : 2022\n"
     ]
    }
   ],
   "source": [
    "# Visualizar o tamanho do dataframe Producao e Comercialização\n",
    "print(f\"Linhas da tabela Producao e Comercialização: {producao_comercio.shape[0]}\")\n",
    "print(f\"Colunas da tabela Producao e Comercialização: {producao_comercio.shape[1]}\")\n",
    "# Visualizar o ano inicial e o ano final da base \n",
    "print(f\"O primeiro ano registrado na tabela é : {producao_comercio['Ano'].min()}\")\n",
    "print(f\"O último ano registrado na tabela é : {producao_comercio['Ano'].max()}\")"
   ]
  },
  {
   "cell_type": "markdown",
   "id": "55a9d9d3",
   "metadata": {},
   "source": [
    "O tratamento e a limpeza dos dados de Produção e Comercialização foram concluídos. Os dados estão agora prontos para as primeiras análises exploratórias, que serão realizadas no próximo tópico."
   ]
  },
  {
   "cell_type": "markdown",
   "id": "3272a60c",
   "metadata": {},
   "source": [
    "## 5.2 Importação e Exportação "
   ]
  },
  {
   "cell_type": "markdown",
   "id": "08e798cd",
   "metadata": {},
   "source": [
    "<span style=\"font-size: 20px;\">**Dicionário de Variáveis**</span>\n",
    "\n",
    "\n",
    "<span style=\"font-size: 18px;\">**Importação**</span>\n",
    "\n",
    "- **`Países`**: \n",
    "  - **Descrição:** Países de origem dos vinhos comprados pelo Brasil\n",
    "  - **Finalidade:** Definir o país de origem do vinho importado\n",
    "  \n",
    "- **`Quantidade(Kg)`**: \n",
    "  - **Descrição:** Quantidade em kilos importado\n",
    "  - **Finalidade:** Quantificar o volume de importação por ano para cada país\n",
    "  \n",
    "- **`Valor(US$)`**: \n",
    "  - **Descrição:** Valor comprado em dolares\n",
    "  - **Finalidade:** Quantificar o valor de importação por ano para cada país\n",
    "\n",
    "<span style=\"font-size: 18px;\">**Exportação**</span>\n",
    "\n",
    "- **`Países`**: \n",
    "  - **Descrição:** Países comprador dos vinhos feitos pelo Brasil\n",
    "  - **Finalidade:** Definir o país consumidor dos Vinhos Brasileiros\n",
    "  \n",
    "- **`Quantidade(Kg)`**: \n",
    "  - **Descrição:** Quantidade em kilos exportado\n",
    "  - **Finalidade:** Quantificar o volume de exportação por ano e por país\n",
    "  \n",
    "- **`Valor(US$)`**: \n",
    "  - **Descrição:** Valor vendido em dolares\n",
    "  - **Finalidade:** Quantificar o volume de exportação por ano e por país\n"
   ]
  },
  {
   "cell_type": "markdown",
   "id": "06ccfaf0",
   "metadata": {},
   "source": [
    "#### 5.2.1 Tratamendo e Limpeza dos dados de Importação e Exportação"
   ]
  },
  {
   "cell_type": "markdown",
   "id": "034a1a86",
   "metadata": {},
   "source": [
    "Os dados de Importação e Exportação estão em tabelas separadas, assim como os de Produção e Comercialização. Seguindo o mesmo processo de tratamento anterior, o objetivo é unir essas tabelas em uma só. Para isso, vamos primeiro analisar a organização dos dados e, em seguida, realizar o procedimento de tratamento e limpeza."
   ]
  },
  {
   "cell_type": "code",
   "execution_count": 38,
   "id": "ffcbfc2e",
   "metadata": {},
   "outputs": [
    {
     "data": {
      "text/html": [
       "<div>\n",
       "<style scoped>\n",
       "    .dataframe tbody tr th:only-of-type {\n",
       "        vertical-align: middle;\n",
       "    }\n",
       "\n",
       "    .dataframe tbody tr th {\n",
       "        vertical-align: top;\n",
       "    }\n",
       "\n",
       "    .dataframe thead th {\n",
       "        text-align: right;\n",
       "    }\n",
       "</style>\n",
       "<table border=\"1\" class=\"dataframe\">\n",
       "  <thead>\n",
       "    <tr style=\"text-align: right;\">\n",
       "      <th></th>\n",
       "      <th>Id</th>\n",
       "      <th>País</th>\n",
       "      <th>1970</th>\n",
       "      <th>1970.1</th>\n",
       "      <th>1971</th>\n",
       "      <th>1971.1</th>\n",
       "      <th>1972</th>\n",
       "      <th>1972.1</th>\n",
       "      <th>1973</th>\n",
       "      <th>1973.1</th>\n",
       "      <th>...</th>\n",
       "      <th>2018</th>\n",
       "      <th>2018.1</th>\n",
       "      <th>2019</th>\n",
       "      <th>2019.1</th>\n",
       "      <th>2020</th>\n",
       "      <th>2020.1</th>\n",
       "      <th>2021</th>\n",
       "      <th>2021.1</th>\n",
       "      <th>2022</th>\n",
       "      <th>2022.1</th>\n",
       "    </tr>\n",
       "  </thead>\n",
       "  <tbody>\n",
       "    <tr>\n",
       "      <th>0</th>\n",
       "      <td>1</td>\n",
       "      <td>Africa do Sul</td>\n",
       "      <td>0</td>\n",
       "      <td>0.0</td>\n",
       "      <td>0</td>\n",
       "      <td>0</td>\n",
       "      <td>0</td>\n",
       "      <td>0</td>\n",
       "      <td>0</td>\n",
       "      <td>0</td>\n",
       "      <td>...</td>\n",
       "      <td>1127053</td>\n",
       "      <td>3574371</td>\n",
       "      <td>1092042</td>\n",
       "      <td>3604038</td>\n",
       "      <td>627150</td>\n",
       "      <td>1701072</td>\n",
       "      <td>859169</td>\n",
       "      <td>2508140</td>\n",
       "      <td>738116.0</td>\n",
       "      <td>2266827.0</td>\n",
       "    </tr>\n",
       "    <tr>\n",
       "      <th>1</th>\n",
       "      <td>2</td>\n",
       "      <td>Alemanha</td>\n",
       "      <td>52297</td>\n",
       "      <td>30498.0</td>\n",
       "      <td>34606</td>\n",
       "      <td>26027</td>\n",
       "      <td>134438</td>\n",
       "      <td>92103</td>\n",
       "      <td>111523</td>\n",
       "      <td>98638</td>\n",
       "      <td>...</td>\n",
       "      <td>142971</td>\n",
       "      <td>516975</td>\n",
       "      <td>101055</td>\n",
       "      <td>412794</td>\n",
       "      <td>136992</td>\n",
       "      <td>504168</td>\n",
       "      <td>106541</td>\n",
       "      <td>546967</td>\n",
       "      <td>92600.0</td>\n",
       "      <td>438595.0</td>\n",
       "    </tr>\n",
       "    <tr>\n",
       "      <th>2</th>\n",
       "      <td>3</td>\n",
       "      <td>Argélia</td>\n",
       "      <td>0</td>\n",
       "      <td>0.0</td>\n",
       "      <td>0</td>\n",
       "      <td>0</td>\n",
       "      <td>0</td>\n",
       "      <td>0</td>\n",
       "      <td>0</td>\n",
       "      <td>0</td>\n",
       "      <td>...</td>\n",
       "      <td>0</td>\n",
       "      <td>0</td>\n",
       "      <td>0</td>\n",
       "      <td>0</td>\n",
       "      <td>0</td>\n",
       "      <td>0</td>\n",
       "      <td>0</td>\n",
       "      <td>0</td>\n",
       "      <td>0.0</td>\n",
       "      <td>0.0</td>\n",
       "    </tr>\n",
       "  </tbody>\n",
       "</table>\n",
       "<p>3 rows × 108 columns</p>\n",
       "</div>"
      ],
      "text/plain": [
       "   Id           País   1970   1970.1   1971  1971.1    1972  1972.1    1973  \\\n",
       "0   1  Africa do Sul      0      0.0      0       0       0       0       0   \n",
       "1   2       Alemanha  52297  30498.0  34606   26027  134438   92103  111523   \n",
       "2   3        Argélia      0      0.0      0       0       0       0       0   \n",
       "\n",
       "   1973.1  ...     2018   2018.1     2019   2019.1    2020   2020.1    2021  \\\n",
       "0       0  ...  1127053  3574371  1092042  3604038  627150  1701072  859169   \n",
       "1   98638  ...   142971   516975   101055   412794  136992   504168  106541   \n",
       "2       0  ...        0        0        0        0       0        0       0   \n",
       "\n",
       "    2021.1      2022     2022.1  \n",
       "0  2508140  738116.0  2266827.0  \n",
       "1   546967   92600.0   438595.0  \n",
       "2        0       0.0        0.0  \n",
       "\n",
       "[3 rows x 108 columns]"
      ]
     },
     "execution_count": 38,
     "metadata": {},
     "output_type": "execute_result"
    }
   ],
   "source": [
    "# Ver as tres primeiras entradas do dataset de importacao\n",
    "importacao.head(3)"
   ]
  },
  {
   "cell_type": "code",
   "execution_count": 39,
   "id": "f7b4f62f",
   "metadata": {},
   "outputs": [
    {
     "data": {
      "text/html": [
       "<div>\n",
       "<style scoped>\n",
       "    .dataframe tbody tr th:only-of-type {\n",
       "        vertical-align: middle;\n",
       "    }\n",
       "\n",
       "    .dataframe tbody tr th {\n",
       "        vertical-align: top;\n",
       "    }\n",
       "\n",
       "    .dataframe thead th {\n",
       "        text-align: right;\n",
       "    }\n",
       "</style>\n",
       "<table border=\"1\" class=\"dataframe\">\n",
       "  <thead>\n",
       "    <tr style=\"text-align: right;\">\n",
       "      <th></th>\n",
       "      <th>Id</th>\n",
       "      <th>País</th>\n",
       "      <th>1970</th>\n",
       "      <th>1970.1</th>\n",
       "      <th>1971</th>\n",
       "      <th>1971.1</th>\n",
       "      <th>1972</th>\n",
       "      <th>1972.1</th>\n",
       "      <th>1973</th>\n",
       "      <th>1973.1</th>\n",
       "      <th>...</th>\n",
       "      <th>2018</th>\n",
       "      <th>2018.1</th>\n",
       "      <th>2019</th>\n",
       "      <th>2019.1</th>\n",
       "      <th>2020</th>\n",
       "      <th>2020.1</th>\n",
       "      <th>2021</th>\n",
       "      <th>2021.1</th>\n",
       "      <th>2022</th>\n",
       "      <th>2022.1</th>\n",
       "    </tr>\n",
       "  </thead>\n",
       "  <tbody>\n",
       "    <tr>\n",
       "      <th>0</th>\n",
       "      <td>1</td>\n",
       "      <td>Afeganistão</td>\n",
       "      <td>0</td>\n",
       "      <td>0</td>\n",
       "      <td>0</td>\n",
       "      <td>0</td>\n",
       "      <td>0</td>\n",
       "      <td>0</td>\n",
       "      <td>0</td>\n",
       "      <td>0</td>\n",
       "      <td>...</td>\n",
       "      <td>0</td>\n",
       "      <td>0</td>\n",
       "      <td>0</td>\n",
       "      <td>0</td>\n",
       "      <td>0</td>\n",
       "      <td>0</td>\n",
       "      <td>11</td>\n",
       "      <td>46</td>\n",
       "      <td>0</td>\n",
       "      <td>0</td>\n",
       "    </tr>\n",
       "    <tr>\n",
       "      <th>1</th>\n",
       "      <td>2</td>\n",
       "      <td>África do Sul</td>\n",
       "      <td>0</td>\n",
       "      <td>0</td>\n",
       "      <td>0</td>\n",
       "      <td>0</td>\n",
       "      <td>0</td>\n",
       "      <td>0</td>\n",
       "      <td>0</td>\n",
       "      <td>0</td>\n",
       "      <td>...</td>\n",
       "      <td>0</td>\n",
       "      <td>0</td>\n",
       "      <td>26</td>\n",
       "      <td>95</td>\n",
       "      <td>4</td>\n",
       "      <td>21</td>\n",
       "      <td>0</td>\n",
       "      <td>0</td>\n",
       "      <td>0</td>\n",
       "      <td>0</td>\n",
       "    </tr>\n",
       "    <tr>\n",
       "      <th>2</th>\n",
       "      <td>3</td>\n",
       "      <td>Alemanha, República Democrática</td>\n",
       "      <td>0</td>\n",
       "      <td>0</td>\n",
       "      <td>0</td>\n",
       "      <td>0</td>\n",
       "      <td>4168</td>\n",
       "      <td>2630</td>\n",
       "      <td>12000</td>\n",
       "      <td>8250</td>\n",
       "      <td>...</td>\n",
       "      <td>10794</td>\n",
       "      <td>45382</td>\n",
       "      <td>3660</td>\n",
       "      <td>25467</td>\n",
       "      <td>6261</td>\n",
       "      <td>32605</td>\n",
       "      <td>2698</td>\n",
       "      <td>6741</td>\n",
       "      <td>7630</td>\n",
       "      <td>45367</td>\n",
       "    </tr>\n",
       "  </tbody>\n",
       "</table>\n",
       "<p>3 rows × 108 columns</p>\n",
       "</div>"
      ],
      "text/plain": [
       "   Id                             País  1970  1970.1  1971  1971.1  1972  \\\n",
       "0   1                      Afeganistão     0       0     0       0     0   \n",
       "1   2                    África do Sul     0       0     0       0     0   \n",
       "2   3  Alemanha, República Democrática     0       0     0       0  4168   \n",
       "\n",
       "   1972.1   1973  1973.1  ...   2018  2018.1  2019  2019.1  2020  2020.1  \\\n",
       "0       0      0       0  ...      0       0     0       0     0       0   \n",
       "1       0      0       0  ...      0       0    26      95     4      21   \n",
       "2    2630  12000    8250  ...  10794   45382  3660   25467  6261   32605   \n",
       "\n",
       "   2021  2021.1  2022  2022.1  \n",
       "0    11      46     0       0  \n",
       "1     0       0     0       0  \n",
       "2  2698    6741  7630   45367  \n",
       "\n",
       "[3 rows x 108 columns]"
      ]
     },
     "execution_count": 39,
     "metadata": {},
     "output_type": "execute_result"
    }
   ],
   "source": [
    "# Ver as tres primeiras entradas do dataset de exportação\n",
    "exportacao.head(3)"
   ]
  },
  {
   "cell_type": "markdown",
   "id": "142ce47e",
   "metadata": {},
   "source": [
    "As tabelas CSV apresentam dados de importação e exportação por país em cada linha, com quantidades nas colunas de ano (ex: 1970) e valores em dólares nas colunas de ano + '.1' (ex: 1970.1). Isso dificulta a análise, tornando necessário o tratamento desses dados. Além disso, os dados estão organizados desde 1970. Nosso objetivo é analisar os dados de 2008 a 2022, abrangendo os últimos 15 anos da base."
   ]
  },
  {
   "cell_type": "code",
   "execution_count": 40,
   "id": "a2f43af1",
   "metadata": {},
   "outputs": [
    {
     "name": "stdout",
     "output_type": "stream",
     "text": [
      "Linhas da tabela Importação: 66\n",
      "Colunas da tabela Importação: 108\n",
      "Linhas da tabela Exportação: 128\n",
      "Colunas da tabela Exportação: 108\n"
     ]
    }
   ],
   "source": [
    "# Visualizar o tamanho do dataframe Importacao\n",
    "print(f\"Linhas da tabela Importação: {importacao.shape[0]}\")\n",
    "print(f\"Colunas da tabela Importação: {importacao.shape[1]}\")\n",
    "# Visualizar o tamanho do dataframe Exportacao\n",
    "print(f\"Linhas da tabela Exportação: {exportacao.shape[0]}\")\n",
    "print(f\"Colunas da tabela Exportação: {exportacao.shape[1]}\")"
   ]
  },
  {
   "cell_type": "markdown",
   "id": "1dd842d4",
   "metadata": {},
   "source": [
    "#### 5.2.2 Tratamendo e Limpeza dos dados de Importação "
   ]
  },
  {
   "cell_type": "code",
   "execution_count": 41,
   "id": "e823dad8",
   "metadata": {},
   "outputs": [],
   "source": [
    "# definindo o index como país para filtrar as colunas de 2008 a 2022\n",
    "importacao = importacao.set_index('País')"
   ]
  },
  {
   "cell_type": "code",
   "execution_count": 42,
   "id": "1853ddd8",
   "metadata": {},
   "outputs": [],
   "source": [
    "# filtrando as colunas de 2008 a 2022 para as analises\n",
    "colunas_15_anos = importacao.columns[-30:]\n",
    "importacao = importacao[colunas_15_anos]"
   ]
  },
  {
   "cell_type": "markdown",
   "id": "24821b11",
   "metadata": {},
   "source": [
    "Nossos dados possuem colunas duplicadas de anos: a primeira representa a quantidade e a segunda, os valores importados. Faremos o tratamento separando esses dados em duas tabelas, uma para quantidade e outra para valor importado, e depois as uniremos."
   ]
  },
  {
   "cell_type": "markdown",
   "id": "d2a1a1a1",
   "metadata": {},
   "source": [
    "##### -  Valores Vinhos Importados"
   ]
  },
  {
   "cell_type": "code",
   "execution_count": 43,
   "id": "890baf54",
   "metadata": {},
   "outputs": [],
   "source": [
    "# Pegando apenas as colunas impares que são referentes ao valor importado\n",
    "importacao_valor = importacao.iloc[:,1::2]\n",
    "# corringindo o nome das colunas\n",
    "importacao_valor.columns = importacao_valor.columns.str[:-2]\n"
   ]
  },
  {
   "cell_type": "code",
   "execution_count": 44,
   "id": "e486f437",
   "metadata": {},
   "outputs": [
    {
     "data": {
      "text/html": [
       "<div>\n",
       "<style scoped>\n",
       "    .dataframe tbody tr th:only-of-type {\n",
       "        vertical-align: middle;\n",
       "    }\n",
       "\n",
       "    .dataframe tbody tr th {\n",
       "        vertical-align: top;\n",
       "    }\n",
       "\n",
       "    .dataframe thead th {\n",
       "        text-align: right;\n",
       "    }\n",
       "</style>\n",
       "<table border=\"1\" class=\"dataframe\">\n",
       "  <thead>\n",
       "    <tr style=\"text-align: right;\">\n",
       "      <th></th>\n",
       "      <th>País</th>\n",
       "      <th>Ano</th>\n",
       "      <th>Valor Importado(US$)</th>\n",
       "    </tr>\n",
       "  </thead>\n",
       "  <tbody>\n",
       "    <tr>\n",
       "      <th>0</th>\n",
       "      <td>Africa do Sul</td>\n",
       "      <td>2008</td>\n",
       "      <td>1151699.0</td>\n",
       "    </tr>\n",
       "    <tr>\n",
       "      <th>1</th>\n",
       "      <td>Alemanha</td>\n",
       "      <td>2008</td>\n",
       "      <td>1063825.0</td>\n",
       "    </tr>\n",
       "    <tr>\n",
       "      <th>2</th>\n",
       "      <td>Argélia</td>\n",
       "      <td>2008</td>\n",
       "      <td>0.0</td>\n",
       "    </tr>\n",
       "  </tbody>\n",
       "</table>\n",
       "</div>"
      ],
      "text/plain": [
       "            País   Ano  Valor Importado(US$)\n",
       "0  Africa do Sul  2008             1151699.0\n",
       "1       Alemanha  2008             1063825.0\n",
       "2        Argélia  2008                   0.0"
      ]
     },
     "execution_count": 44,
     "metadata": {},
     "output_type": "execute_result"
    }
   ],
   "source": [
    "# Resetando o index\n",
    "importacao_valor = importacao_valor.reset_index()\n",
    "# Fazendo o melt da tabela\n",
    "importacao_valor = importacao_valor.melt(id_vars=['País'],value_vars=importacao_valor.columns)\n",
    "# Renomeando as colunas\n",
    "importacao_valor.columns = ['País','Ano','Valor Importado(US$)']\n",
    "# Exibindo os valores\n",
    "importacao_valor.head(3)"
   ]
  },
  {
   "cell_type": "markdown",
   "id": "3db085f7",
   "metadata": {},
   "source": [
    "##### -  Quantidade Vinhos Importados"
   ]
  },
  {
   "cell_type": "code",
   "execution_count": 45,
   "id": "0f80e111",
   "metadata": {},
   "outputs": [],
   "source": [
    "# separando as colunas com a quantidade de vinho de mesa importada\n",
    "importacao_quantidade = importacao.iloc[:,0::2]\n"
   ]
  },
  {
   "cell_type": "code",
   "execution_count": 46,
   "id": "82851a42",
   "metadata": {},
   "outputs": [
    {
     "data": {
      "text/html": [
       "<div>\n",
       "<style scoped>\n",
       "    .dataframe tbody tr th:only-of-type {\n",
       "        vertical-align: middle;\n",
       "    }\n",
       "\n",
       "    .dataframe tbody tr th {\n",
       "        vertical-align: top;\n",
       "    }\n",
       "\n",
       "    .dataframe thead th {\n",
       "        text-align: right;\n",
       "    }\n",
       "</style>\n",
       "<table border=\"1\" class=\"dataframe\">\n",
       "  <thead>\n",
       "    <tr style=\"text-align: right;\">\n",
       "      <th></th>\n",
       "      <th>País</th>\n",
       "      <th>Ano</th>\n",
       "      <th>Quantidade Importada(Kg)</th>\n",
       "    </tr>\n",
       "  </thead>\n",
       "  <tbody>\n",
       "    <tr>\n",
       "      <th>0</th>\n",
       "      <td>Africa do Sul</td>\n",
       "      <td>2008</td>\n",
       "      <td>315380.0</td>\n",
       "    </tr>\n",
       "    <tr>\n",
       "      <th>1</th>\n",
       "      <td>Alemanha</td>\n",
       "      <td>2008</td>\n",
       "      <td>293935.0</td>\n",
       "    </tr>\n",
       "    <tr>\n",
       "      <th>2</th>\n",
       "      <td>Argélia</td>\n",
       "      <td>2008</td>\n",
       "      <td>0.0</td>\n",
       "    </tr>\n",
       "    <tr>\n",
       "      <th>3</th>\n",
       "      <td>Arábia Saudita</td>\n",
       "      <td>2008</td>\n",
       "      <td>0.0</td>\n",
       "    </tr>\n",
       "    <tr>\n",
       "      <th>4</th>\n",
       "      <td>Argentina</td>\n",
       "      <td>2008</td>\n",
       "      <td>14417761.0</td>\n",
       "    </tr>\n",
       "  </tbody>\n",
       "</table>\n",
       "</div>"
      ],
      "text/plain": [
       "             País   Ano  Quantidade Importada(Kg)\n",
       "0   Africa do Sul  2008                  315380.0\n",
       "1        Alemanha  2008                  293935.0\n",
       "2         Argélia  2008                       0.0\n",
       "3  Arábia Saudita  2008                       0.0\n",
       "4       Argentina  2008                14417761.0"
      ]
     },
     "execution_count": 46,
     "metadata": {},
     "output_type": "execute_result"
    }
   ],
   "source": [
    "# Resetando o index\n",
    "importacao_quantidade = importacao_quantidade.reset_index()\n",
    "# Fazendo o melt da tabela\n",
    "importacao_quantidade = importacao_quantidade.melt(id_vars=['País'],value_vars=importacao_quantidade.columns)\n",
    "# Renomeando as colunas\n",
    "importacao_quantidade.columns = ['País','Ano','Quantidade Importada(Kg)']\n",
    "# Exibindo os valores\n",
    "importacao_quantidade.head()"
   ]
  },
  {
   "cell_type": "markdown",
   "id": "d3d012ac",
   "metadata": {},
   "source": [
    "##### - Tabela Final de Importação "
   ]
  },
  {
   "cell_type": "code",
   "execution_count": 47,
   "id": "a2922f44",
   "metadata": {},
   "outputs": [
    {
     "data": {
      "text/html": [
       "<div>\n",
       "<style scoped>\n",
       "    .dataframe tbody tr th:only-of-type {\n",
       "        vertical-align: middle;\n",
       "    }\n",
       "\n",
       "    .dataframe tbody tr th {\n",
       "        vertical-align: top;\n",
       "    }\n",
       "\n",
       "    .dataframe thead th {\n",
       "        text-align: right;\n",
       "    }\n",
       "</style>\n",
       "<table border=\"1\" class=\"dataframe\">\n",
       "  <thead>\n",
       "    <tr style=\"text-align: right;\">\n",
       "      <th></th>\n",
       "      <th>País</th>\n",
       "      <th>Ano</th>\n",
       "      <th>Quantidade Importada(Kg)</th>\n",
       "      <th>Valor Importado(US$)</th>\n",
       "    </tr>\n",
       "  </thead>\n",
       "  <tbody>\n",
       "    <tr>\n",
       "      <th>0</th>\n",
       "      <td>Africa do Sul</td>\n",
       "      <td>2008</td>\n",
       "      <td>315380.0</td>\n",
       "      <td>1151699.0</td>\n",
       "    </tr>\n",
       "    <tr>\n",
       "      <th>1</th>\n",
       "      <td>Alemanha</td>\n",
       "      <td>2008</td>\n",
       "      <td>293935.0</td>\n",
       "      <td>1063825.0</td>\n",
       "    </tr>\n",
       "    <tr>\n",
       "      <th>2</th>\n",
       "      <td>Argélia</td>\n",
       "      <td>2008</td>\n",
       "      <td>0.0</td>\n",
       "      <td>0.0</td>\n",
       "    </tr>\n",
       "    <tr>\n",
       "      <th>3</th>\n",
       "      <td>Arábia Saudita</td>\n",
       "      <td>2008</td>\n",
       "      <td>0.0</td>\n",
       "      <td>0.0</td>\n",
       "    </tr>\n",
       "    <tr>\n",
       "      <th>4</th>\n",
       "      <td>Argentina</td>\n",
       "      <td>2008</td>\n",
       "      <td>14417761.0</td>\n",
       "      <td>37382581.0</td>\n",
       "    </tr>\n",
       "  </tbody>\n",
       "</table>\n",
       "</div>"
      ],
      "text/plain": [
       "             País   Ano  Quantidade Importada(Kg)  Valor Importado(US$)\n",
       "0   Africa do Sul  2008                  315380.0             1151699.0\n",
       "1        Alemanha  2008                  293935.0             1063825.0\n",
       "2         Argélia  2008                       0.0                   0.0\n",
       "3  Arábia Saudita  2008                       0.0                   0.0\n",
       "4       Argentina  2008                14417761.0            37382581.0"
      ]
     },
     "execution_count": 47,
     "metadata": {},
     "output_type": "execute_result"
    }
   ],
   "source": [
    "#unindo as tabelas de quantidade importada e valor importado\n",
    "importacao = pd.merge(importacao_quantidade,importacao_valor,on =['País','Ano'])\n",
    "importacao.head()"
   ]
  },
  {
   "cell_type": "code",
   "execution_count": 48,
   "id": "12fc5813",
   "metadata": {},
   "outputs": [
    {
     "name": "stdout",
     "output_type": "stream",
     "text": [
      "Linhas da tabela Importação: 990\n",
      "Colunas da tabela Importação: 4\n",
      "O primeiro ano registrado na tabela é : 2008\n",
      "O último ano registrado na tabela é : 2022\n"
     ]
    }
   ],
   "source": [
    "# Visualizar o tamanho do dataframe Importacao\n",
    "print(f\"Linhas da tabela Importação: {importacao.shape[0]}\")\n",
    "print(f\"Colunas da tabela Importação: {importacao.shape[1]}\")\n",
    "# Visualizar o ano inicial e o ano final da base \n",
    "print(f\"O primeiro ano registrado na tabela é : {importacao['Ano'].min()}\")\n",
    "print(f\"O último ano registrado na tabela é : {importacao['Ano'].max()}\")"
   ]
  },
  {
   "cell_type": "markdown",
   "id": "600cca0d",
   "metadata": {},
   "source": [
    "Após o tratamento e a limpeza dos dados de Importação, obtivemos um dataframe maior. Da mesma forma que ocorreu com Produção e Comercialização, agora temos menos colunas, o que facilita a junção com a tabela de exportação e a análise dos dados."
   ]
  },
  {
   "cell_type": "markdown",
   "id": "87a8be10",
   "metadata": {},
   "source": [
    "#### 5.2.3 Tratamendo e Limpeza dos dados de Exportação"
   ]
  },
  {
   "cell_type": "code",
   "execution_count": 49,
   "id": "6a641fa3",
   "metadata": {},
   "outputs": [],
   "source": [
    "# definindo o index como país para filtrar as colunas de 2008 a 2022\n",
    "exportacao = exportacao.set_index('País')"
   ]
  },
  {
   "cell_type": "code",
   "execution_count": 50,
   "id": "f0192fb2",
   "metadata": {},
   "outputs": [],
   "source": [
    "# filtrando as colunas de 2008 a 2023 para as analises\n",
    "colunas_15_anos = exportacao.columns[-30:]\n",
    "exportacao = exportacao[colunas_15_anos]"
   ]
  },
  {
   "cell_type": "markdown",
   "id": "de598092",
   "metadata": {},
   "source": [
    "Seguiremos o mesmo procedimento do dataframe de importação da seção 5.2.2."
   ]
  },
  {
   "cell_type": "markdown",
   "id": "6addbacc",
   "metadata": {},
   "source": [
    "#### - Valores Vinhos Exportados"
   ]
  },
  {
   "cell_type": "code",
   "execution_count": 51,
   "id": "9022d18b",
   "metadata": {},
   "outputs": [
    {
     "data": {
      "text/html": [
       "<div>\n",
       "<style scoped>\n",
       "    .dataframe tbody tr th:only-of-type {\n",
       "        vertical-align: middle;\n",
       "    }\n",
       "\n",
       "    .dataframe tbody tr th {\n",
       "        vertical-align: top;\n",
       "    }\n",
       "\n",
       "    .dataframe thead th {\n",
       "        text-align: right;\n",
       "    }\n",
       "</style>\n",
       "<table border=\"1\" class=\"dataframe\">\n",
       "  <thead>\n",
       "    <tr style=\"text-align: right;\">\n",
       "      <th></th>\n",
       "      <th>2008.1</th>\n",
       "      <th>2009.1</th>\n",
       "      <th>2010.1</th>\n",
       "      <th>2011.1</th>\n",
       "      <th>2012.1</th>\n",
       "      <th>2013.1</th>\n",
       "      <th>2014.1</th>\n",
       "      <th>2015.1</th>\n",
       "      <th>2016.1</th>\n",
       "      <th>2017.1</th>\n",
       "      <th>2018.1</th>\n",
       "      <th>2019.1</th>\n",
       "      <th>2020.1</th>\n",
       "      <th>2021.1</th>\n",
       "      <th>2022.1</th>\n",
       "    </tr>\n",
       "    <tr>\n",
       "      <th>País</th>\n",
       "      <th></th>\n",
       "      <th></th>\n",
       "      <th></th>\n",
       "      <th></th>\n",
       "      <th></th>\n",
       "      <th></th>\n",
       "      <th></th>\n",
       "      <th></th>\n",
       "      <th></th>\n",
       "      <th></th>\n",
       "      <th></th>\n",
       "      <th></th>\n",
       "      <th></th>\n",
       "      <th></th>\n",
       "      <th></th>\n",
       "    </tr>\n",
       "  </thead>\n",
       "  <tbody>\n",
       "    <tr>\n",
       "      <th>Afeganistão</th>\n",
       "      <td>0</td>\n",
       "      <td>0</td>\n",
       "      <td>0</td>\n",
       "      <td>0</td>\n",
       "      <td>0</td>\n",
       "      <td>0</td>\n",
       "      <td>0</td>\n",
       "      <td>0</td>\n",
       "      <td>0</td>\n",
       "      <td>0</td>\n",
       "      <td>0</td>\n",
       "      <td>0</td>\n",
       "      <td>0</td>\n",
       "      <td>46</td>\n",
       "      <td>0</td>\n",
       "    </tr>\n",
       "    <tr>\n",
       "      <th>África do Sul</th>\n",
       "      <td>0</td>\n",
       "      <td>0</td>\n",
       "      <td>0</td>\n",
       "      <td>0</td>\n",
       "      <td>0</td>\n",
       "      <td>0</td>\n",
       "      <td>0</td>\n",
       "      <td>0</td>\n",
       "      <td>0</td>\n",
       "      <td>0</td>\n",
       "      <td>0</td>\n",
       "      <td>95</td>\n",
       "      <td>21</td>\n",
       "      <td>0</td>\n",
       "      <td>0</td>\n",
       "    </tr>\n",
       "    <tr>\n",
       "      <th>Alemanha, República Democrática</th>\n",
       "      <td>429970</td>\n",
       "      <td>393482</td>\n",
       "      <td>138666</td>\n",
       "      <td>144150</td>\n",
       "      <td>56342</td>\n",
       "      <td>265978</td>\n",
       "      <td>761653</td>\n",
       "      <td>44780</td>\n",
       "      <td>68109</td>\n",
       "      <td>87702</td>\n",
       "      <td>45382</td>\n",
       "      <td>25467</td>\n",
       "      <td>32605</td>\n",
       "      <td>6741</td>\n",
       "      <td>45367</td>\n",
       "    </tr>\n",
       "    <tr>\n",
       "      <th>Angola</th>\n",
       "      <td>71083</td>\n",
       "      <td>84235</td>\n",
       "      <td>189891</td>\n",
       "      <td>69001</td>\n",
       "      <td>8861</td>\n",
       "      <td>9300</td>\n",
       "      <td>23124</td>\n",
       "      <td>17089</td>\n",
       "      <td>35390</td>\n",
       "      <td>61680</td>\n",
       "      <td>709</td>\n",
       "      <td>1065</td>\n",
       "      <td>0</td>\n",
       "      <td>0</td>\n",
       "      <td>4761</td>\n",
       "    </tr>\n",
       "    <tr>\n",
       "      <th>Anguilla</th>\n",
       "      <td>0</td>\n",
       "      <td>0</td>\n",
       "      <td>0</td>\n",
       "      <td>0</td>\n",
       "      <td>0</td>\n",
       "      <td>0</td>\n",
       "      <td>0</td>\n",
       "      <td>0</td>\n",
       "      <td>0</td>\n",
       "      <td>0</td>\n",
       "      <td>0</td>\n",
       "      <td>0</td>\n",
       "      <td>0</td>\n",
       "      <td>0</td>\n",
       "      <td>0</td>\n",
       "    </tr>\n",
       "    <tr>\n",
       "      <th>Antígua e Barbuda</th>\n",
       "      <td>0</td>\n",
       "      <td>0</td>\n",
       "      <td>0</td>\n",
       "      <td>0</td>\n",
       "      <td>0</td>\n",
       "      <td>0</td>\n",
       "      <td>0</td>\n",
       "      <td>0</td>\n",
       "      <td>0</td>\n",
       "      <td>0</td>\n",
       "      <td>191</td>\n",
       "      <td>1549</td>\n",
       "      <td>1864</td>\n",
       "      <td>2268</td>\n",
       "      <td>1866</td>\n",
       "    </tr>\n",
       "    <tr>\n",
       "      <th>Antilhas Holandesas</th>\n",
       "      <td>22908</td>\n",
       "      <td>10651</td>\n",
       "      <td>12808</td>\n",
       "      <td>10188</td>\n",
       "      <td>14081</td>\n",
       "      <td>19565</td>\n",
       "      <td>7169</td>\n",
       "      <td>10545</td>\n",
       "      <td>26450</td>\n",
       "      <td>8550</td>\n",
       "      <td>0</td>\n",
       "      <td>0</td>\n",
       "      <td>0</td>\n",
       "      <td>0</td>\n",
       "      <td>0</td>\n",
       "    </tr>\n",
       "    <tr>\n",
       "      <th>Argentina</th>\n",
       "      <td>0</td>\n",
       "      <td>4523</td>\n",
       "      <td>0</td>\n",
       "      <td>55460</td>\n",
       "      <td>0</td>\n",
       "      <td>0</td>\n",
       "      <td>95130</td>\n",
       "      <td>0</td>\n",
       "      <td>0</td>\n",
       "      <td>0</td>\n",
       "      <td>59150</td>\n",
       "      <td>0</td>\n",
       "      <td>4176</td>\n",
       "      <td>13</td>\n",
       "      <td>3232</td>\n",
       "    </tr>\n",
       "    <tr>\n",
       "      <th>Aruba</th>\n",
       "      <td>0</td>\n",
       "      <td>0</td>\n",
       "      <td>0</td>\n",
       "      <td>1680</td>\n",
       "      <td>0</td>\n",
       "      <td>0</td>\n",
       "      <td>755</td>\n",
       "      <td>0</td>\n",
       "      <td>0</td>\n",
       "      <td>0</td>\n",
       "      <td>0</td>\n",
       "      <td>0</td>\n",
       "      <td>0</td>\n",
       "      <td>0</td>\n",
       "      <td>0</td>\n",
       "    </tr>\n",
       "    <tr>\n",
       "      <th>Austrália</th>\n",
       "      <td>99280</td>\n",
       "      <td>9195</td>\n",
       "      <td>17960</td>\n",
       "      <td>40704</td>\n",
       "      <td>56045</td>\n",
       "      <td>101715</td>\n",
       "      <td>43709</td>\n",
       "      <td>48011</td>\n",
       "      <td>13799</td>\n",
       "      <td>7500</td>\n",
       "      <td>6902</td>\n",
       "      <td>4682</td>\n",
       "      <td>3413</td>\n",
       "      <td>4034</td>\n",
       "      <td>12299</td>\n",
       "    </tr>\n",
       "  </tbody>\n",
       "</table>\n",
       "</div>"
      ],
      "text/plain": [
       "                                 2008.1  2009.1  2010.1  2011.1  2012.1  \\\n",
       "País                                                                      \n",
       "Afeganistão                           0       0       0       0       0   \n",
       "África do Sul                         0       0       0       0       0   \n",
       "Alemanha, República Democrática  429970  393482  138666  144150   56342   \n",
       "Angola                            71083   84235  189891   69001    8861   \n",
       "Anguilla                              0       0       0       0       0   \n",
       "Antígua e Barbuda                     0       0       0       0       0   \n",
       "Antilhas Holandesas               22908   10651   12808   10188   14081   \n",
       "Argentina                             0    4523       0   55460       0   \n",
       "Aruba                                 0       0       0    1680       0   \n",
       "Austrália                         99280    9195   17960   40704   56045   \n",
       "\n",
       "                                 2013.1  2014.1  2015.1  2016.1  2017.1  \\\n",
       "País                                                                      \n",
       "Afeganistão                           0       0       0       0       0   \n",
       "África do Sul                         0       0       0       0       0   \n",
       "Alemanha, República Democrática  265978  761653   44780   68109   87702   \n",
       "Angola                             9300   23124   17089   35390   61680   \n",
       "Anguilla                              0       0       0       0       0   \n",
       "Antígua e Barbuda                     0       0       0       0       0   \n",
       "Antilhas Holandesas               19565    7169   10545   26450    8550   \n",
       "Argentina                             0   95130       0       0       0   \n",
       "Aruba                                 0     755       0       0       0   \n",
       "Austrália                        101715   43709   48011   13799    7500   \n",
       "\n",
       "                                 2018.1  2019.1  2020.1  2021.1  2022.1  \n",
       "País                                                                     \n",
       "Afeganistão                           0       0       0      46       0  \n",
       "África do Sul                         0      95      21       0       0  \n",
       "Alemanha, República Democrática   45382   25467   32605    6741   45367  \n",
       "Angola                              709    1065       0       0    4761  \n",
       "Anguilla                              0       0       0       0       0  \n",
       "Antígua e Barbuda                   191    1549    1864    2268    1866  \n",
       "Antilhas Holandesas                   0       0       0       0       0  \n",
       "Argentina                         59150       0    4176      13    3232  \n",
       "Aruba                                 0       0       0       0       0  \n",
       "Austrália                          6902    4682    3413    4034   12299  "
      ]
     },
     "execution_count": 51,
     "metadata": {},
     "output_type": "execute_result"
    }
   ],
   "source": [
    "# Pegando apenas as colunas impares que são referentes ao valor importado\n",
    "exportacao_valor = exportacao.iloc[:,1::2]\n",
    "exportacao_valor.head(10)"
   ]
  },
  {
   "cell_type": "code",
   "execution_count": 52,
   "id": "9ced2863",
   "metadata": {},
   "outputs": [],
   "source": [
    "# corringindo o nome das colunas\n",
    "exportacao_valor.columns = exportacao_valor.columns.str[:-2]"
   ]
  },
  {
   "cell_type": "code",
   "execution_count": 53,
   "id": "a14ea4b2",
   "metadata": {},
   "outputs": [
    {
     "data": {
      "text/html": [
       "<div>\n",
       "<style scoped>\n",
       "    .dataframe tbody tr th:only-of-type {\n",
       "        vertical-align: middle;\n",
       "    }\n",
       "\n",
       "    .dataframe tbody tr th {\n",
       "        vertical-align: top;\n",
       "    }\n",
       "\n",
       "    .dataframe thead th {\n",
       "        text-align: right;\n",
       "    }\n",
       "</style>\n",
       "<table border=\"1\" class=\"dataframe\">\n",
       "  <thead>\n",
       "    <tr style=\"text-align: right;\">\n",
       "      <th></th>\n",
       "      <th>País</th>\n",
       "      <th>Ano</th>\n",
       "      <th>Valor Exportado(US$)</th>\n",
       "    </tr>\n",
       "  </thead>\n",
       "  <tbody>\n",
       "    <tr>\n",
       "      <th>0</th>\n",
       "      <td>Afeganistão</td>\n",
       "      <td>2008</td>\n",
       "      <td>0</td>\n",
       "    </tr>\n",
       "    <tr>\n",
       "      <th>1</th>\n",
       "      <td>África do Sul</td>\n",
       "      <td>2008</td>\n",
       "      <td>0</td>\n",
       "    </tr>\n",
       "    <tr>\n",
       "      <th>2</th>\n",
       "      <td>Alemanha, República Democrática</td>\n",
       "      <td>2008</td>\n",
       "      <td>429970</td>\n",
       "    </tr>\n",
       "    <tr>\n",
       "      <th>3</th>\n",
       "      <td>Angola</td>\n",
       "      <td>2008</td>\n",
       "      <td>71083</td>\n",
       "    </tr>\n",
       "    <tr>\n",
       "      <th>4</th>\n",
       "      <td>Anguilla</td>\n",
       "      <td>2008</td>\n",
       "      <td>0</td>\n",
       "    </tr>\n",
       "    <tr>\n",
       "      <th>5</th>\n",
       "      <td>Antígua e Barbuda</td>\n",
       "      <td>2008</td>\n",
       "      <td>0</td>\n",
       "    </tr>\n",
       "    <tr>\n",
       "      <th>6</th>\n",
       "      <td>Antilhas Holandesas</td>\n",
       "      <td>2008</td>\n",
       "      <td>22908</td>\n",
       "    </tr>\n",
       "    <tr>\n",
       "      <th>7</th>\n",
       "      <td>Argentina</td>\n",
       "      <td>2008</td>\n",
       "      <td>0</td>\n",
       "    </tr>\n",
       "    <tr>\n",
       "      <th>8</th>\n",
       "      <td>Aruba</td>\n",
       "      <td>2008</td>\n",
       "      <td>0</td>\n",
       "    </tr>\n",
       "    <tr>\n",
       "      <th>9</th>\n",
       "      <td>Austrália</td>\n",
       "      <td>2008</td>\n",
       "      <td>99280</td>\n",
       "    </tr>\n",
       "  </tbody>\n",
       "</table>\n",
       "</div>"
      ],
      "text/plain": [
       "                              País   Ano  Valor Exportado(US$)\n",
       "0                      Afeganistão  2008                     0\n",
       "1                    África do Sul  2008                     0\n",
       "2  Alemanha, República Democrática  2008                429970\n",
       "3                           Angola  2008                 71083\n",
       "4                         Anguilla  2008                     0\n",
       "5                Antígua e Barbuda  2008                     0\n",
       "6              Antilhas Holandesas  2008                 22908\n",
       "7                        Argentina  2008                     0\n",
       "8                            Aruba  2008                     0\n",
       "9                        Austrália  2008                 99280"
      ]
     },
     "execution_count": 53,
     "metadata": {},
     "output_type": "execute_result"
    }
   ],
   "source": [
    "# Resetando o index\n",
    "exportacao_valor = exportacao_valor.reset_index()\n",
    "# Fazendo o melt da tabela\n",
    "exportacao_valor = exportacao_valor.melt(id_vars=['País'],value_vars=exportacao_valor.columns)\n",
    "# Renomeando as colunas\n",
    "exportacao_valor.columns = ['País','Ano','Valor Exportado(US$)']\n",
    "# Exibindo os valores\n",
    "exportacao_valor.head(10)"
   ]
  },
  {
   "cell_type": "markdown",
   "id": "7d8a5e78",
   "metadata": {},
   "source": [
    "#### - Quantidade Vinhos Exportados"
   ]
  },
  {
   "cell_type": "code",
   "execution_count": 54,
   "id": "42ea1828",
   "metadata": {},
   "outputs": [
    {
     "data": {
      "text/html": [
       "<div>\n",
       "<style scoped>\n",
       "    .dataframe tbody tr th:only-of-type {\n",
       "        vertical-align: middle;\n",
       "    }\n",
       "\n",
       "    .dataframe tbody tr th {\n",
       "        vertical-align: top;\n",
       "    }\n",
       "\n",
       "    .dataframe thead th {\n",
       "        text-align: right;\n",
       "    }\n",
       "</style>\n",
       "<table border=\"1\" class=\"dataframe\">\n",
       "  <thead>\n",
       "    <tr style=\"text-align: right;\">\n",
       "      <th></th>\n",
       "      <th>2008</th>\n",
       "      <th>2009</th>\n",
       "      <th>2010</th>\n",
       "      <th>2011</th>\n",
       "      <th>2012</th>\n",
       "      <th>2013</th>\n",
       "      <th>2014</th>\n",
       "      <th>2015</th>\n",
       "      <th>2016</th>\n",
       "      <th>2017</th>\n",
       "      <th>2018</th>\n",
       "      <th>2019</th>\n",
       "      <th>2020</th>\n",
       "      <th>2021</th>\n",
       "      <th>2022</th>\n",
       "    </tr>\n",
       "    <tr>\n",
       "      <th>País</th>\n",
       "      <th></th>\n",
       "      <th></th>\n",
       "      <th></th>\n",
       "      <th></th>\n",
       "      <th></th>\n",
       "      <th></th>\n",
       "      <th></th>\n",
       "      <th></th>\n",
       "      <th></th>\n",
       "      <th></th>\n",
       "      <th></th>\n",
       "      <th></th>\n",
       "      <th></th>\n",
       "      <th></th>\n",
       "      <th></th>\n",
       "    </tr>\n",
       "  </thead>\n",
       "  <tbody>\n",
       "    <tr>\n",
       "      <th>Afeganistão</th>\n",
       "      <td>0</td>\n",
       "      <td>0</td>\n",
       "      <td>0</td>\n",
       "      <td>0</td>\n",
       "      <td>0</td>\n",
       "      <td>0</td>\n",
       "      <td>0</td>\n",
       "      <td>0</td>\n",
       "      <td>0</td>\n",
       "      <td>0</td>\n",
       "      <td>0</td>\n",
       "      <td>0</td>\n",
       "      <td>0</td>\n",
       "      <td>11</td>\n",
       "      <td>0</td>\n",
       "    </tr>\n",
       "    <tr>\n",
       "      <th>África do Sul</th>\n",
       "      <td>0</td>\n",
       "      <td>0</td>\n",
       "      <td>0</td>\n",
       "      <td>0</td>\n",
       "      <td>0</td>\n",
       "      <td>0</td>\n",
       "      <td>0</td>\n",
       "      <td>0</td>\n",
       "      <td>0</td>\n",
       "      <td>0</td>\n",
       "      <td>0</td>\n",
       "      <td>26</td>\n",
       "      <td>4</td>\n",
       "      <td>0</td>\n",
       "      <td>0</td>\n",
       "    </tr>\n",
       "    <tr>\n",
       "      <th>Alemanha, República Democrática</th>\n",
       "      <td>265742</td>\n",
       "      <td>225086</td>\n",
       "      <td>27715</td>\n",
       "      <td>36070</td>\n",
       "      <td>8189</td>\n",
       "      <td>61699</td>\n",
       "      <td>213348</td>\n",
       "      <td>10680</td>\n",
       "      <td>14012</td>\n",
       "      <td>15467</td>\n",
       "      <td>10794</td>\n",
       "      <td>3660</td>\n",
       "      <td>6261</td>\n",
       "      <td>2698</td>\n",
       "      <td>7630</td>\n",
       "    </tr>\n",
       "    <tr>\n",
       "      <th>Angola</th>\n",
       "      <td>25721</td>\n",
       "      <td>54786</td>\n",
       "      <td>33557</td>\n",
       "      <td>13889</td>\n",
       "      <td>2833</td>\n",
       "      <td>1573</td>\n",
       "      <td>12182</td>\n",
       "      <td>1908</td>\n",
       "      <td>7359</td>\n",
       "      <td>10170</td>\n",
       "      <td>477</td>\n",
       "      <td>345</td>\n",
       "      <td>0</td>\n",
       "      <td>0</td>\n",
       "      <td>4068</td>\n",
       "    </tr>\n",
       "    <tr>\n",
       "      <th>Anguilla</th>\n",
       "      <td>0</td>\n",
       "      <td>0</td>\n",
       "      <td>0</td>\n",
       "      <td>0</td>\n",
       "      <td>0</td>\n",
       "      <td>0</td>\n",
       "      <td>0</td>\n",
       "      <td>0</td>\n",
       "      <td>0</td>\n",
       "      <td>0</td>\n",
       "      <td>0</td>\n",
       "      <td>0</td>\n",
       "      <td>0</td>\n",
       "      <td>0</td>\n",
       "      <td>0</td>\n",
       "    </tr>\n",
       "  </tbody>\n",
       "</table>\n",
       "</div>"
      ],
      "text/plain": [
       "                                   2008    2009   2010   2011  2012   2013  \\\n",
       "País                                                                         \n",
       "Afeganistão                           0       0      0      0     0      0   \n",
       "África do Sul                         0       0      0      0     0      0   \n",
       "Alemanha, República Democrática  265742  225086  27715  36070  8189  61699   \n",
       "Angola                            25721   54786  33557  13889  2833   1573   \n",
       "Anguilla                              0       0      0      0     0      0   \n",
       "\n",
       "                                   2014   2015   2016   2017   2018  2019  \\\n",
       "País                                                                        \n",
       "Afeganistão                           0      0      0      0      0     0   \n",
       "África do Sul                         0      0      0      0      0    26   \n",
       "Alemanha, República Democrática  213348  10680  14012  15467  10794  3660   \n",
       "Angola                            12182   1908   7359  10170    477   345   \n",
       "Anguilla                              0      0      0      0      0     0   \n",
       "\n",
       "                                 2020  2021  2022  \n",
       "País                                               \n",
       "Afeganistão                         0    11     0  \n",
       "África do Sul                       4     0     0  \n",
       "Alemanha, República Democrática  6261  2698  7630  \n",
       "Angola                              0     0  4068  \n",
       "Anguilla                            0     0     0  "
      ]
     },
     "execution_count": 54,
     "metadata": {},
     "output_type": "execute_result"
    }
   ],
   "source": [
    "# separando as colunas com a quantidade de vinho de mesa importada\n",
    "exportacao_quantidade = exportacao.iloc[:,0::2]\n",
    "exportacao_quantidade.head()"
   ]
  },
  {
   "cell_type": "code",
   "execution_count": 55,
   "id": "f4a29e30",
   "metadata": {},
   "outputs": [
    {
     "data": {
      "text/html": [
       "<div>\n",
       "<style scoped>\n",
       "    .dataframe tbody tr th:only-of-type {\n",
       "        vertical-align: middle;\n",
       "    }\n",
       "\n",
       "    .dataframe tbody tr th {\n",
       "        vertical-align: top;\n",
       "    }\n",
       "\n",
       "    .dataframe thead th {\n",
       "        text-align: right;\n",
       "    }\n",
       "</style>\n",
       "<table border=\"1\" class=\"dataframe\">\n",
       "  <thead>\n",
       "    <tr style=\"text-align: right;\">\n",
       "      <th></th>\n",
       "      <th>País</th>\n",
       "      <th>Ano</th>\n",
       "      <th>Quantidade Exportada(Kg)</th>\n",
       "    </tr>\n",
       "  </thead>\n",
       "  <tbody>\n",
       "    <tr>\n",
       "      <th>0</th>\n",
       "      <td>Afeganistão</td>\n",
       "      <td>2008</td>\n",
       "      <td>0</td>\n",
       "    </tr>\n",
       "    <tr>\n",
       "      <th>1</th>\n",
       "      <td>África do Sul</td>\n",
       "      <td>2008</td>\n",
       "      <td>0</td>\n",
       "    </tr>\n",
       "    <tr>\n",
       "      <th>2</th>\n",
       "      <td>Alemanha, República Democrática</td>\n",
       "      <td>2008</td>\n",
       "      <td>265742</td>\n",
       "    </tr>\n",
       "    <tr>\n",
       "      <th>3</th>\n",
       "      <td>Angola</td>\n",
       "      <td>2008</td>\n",
       "      <td>25721</td>\n",
       "    </tr>\n",
       "    <tr>\n",
       "      <th>4</th>\n",
       "      <td>Anguilla</td>\n",
       "      <td>2008</td>\n",
       "      <td>0</td>\n",
       "    </tr>\n",
       "  </tbody>\n",
       "</table>\n",
       "</div>"
      ],
      "text/plain": [
       "                              País   Ano  Quantidade Exportada(Kg)\n",
       "0                      Afeganistão  2008                         0\n",
       "1                    África do Sul  2008                         0\n",
       "2  Alemanha, República Democrática  2008                    265742\n",
       "3                           Angola  2008                     25721\n",
       "4                         Anguilla  2008                         0"
      ]
     },
     "execution_count": 55,
     "metadata": {},
     "output_type": "execute_result"
    }
   ],
   "source": [
    "# Resetando o index\n",
    "exportacao_quantidade = exportacao_quantidade.reset_index()\n",
    "# Fazendo o melt da tabela\n",
    "exportacao_quantidade = exportacao_quantidade.melt(id_vars=['País'],value_vars=exportacao_quantidade.columns)\n",
    "# Renomeando as colunas\n",
    "exportacao_quantidade.columns = ['País','Ano','Quantidade Exportada(Kg)']\n",
    "# Exibindo os valores\n",
    "exportacao_quantidade.head()"
   ]
  },
  {
   "cell_type": "markdown",
   "id": "f4a29e30",
   "metadata": {},
   "source": [
    "#### - Tabela Final de Exportação"
   ]
  },
  {
   "cell_type": "code",
   "execution_count": 56,
   "id": "0523bcfe",
   "metadata": {},
   "outputs": [
    {
     "data": {
      "text/html": [
       "<div>\n",
       "<style scoped>\n",
       "    .dataframe tbody tr th:only-of-type {\n",
       "        vertical-align: middle;\n",
       "    }\n",
       "\n",
       "    .dataframe tbody tr th {\n",
       "        vertical-align: top;\n",
       "    }\n",
       "\n",
       "    .dataframe thead th {\n",
       "        text-align: right;\n",
       "    }\n",
       "</style>\n",
       "<table border=\"1\" class=\"dataframe\">\n",
       "  <thead>\n",
       "    <tr style=\"text-align: right;\">\n",
       "      <th></th>\n",
       "      <th>País</th>\n",
       "      <th>Ano</th>\n",
       "      <th>Quantidade Exportada(Kg)</th>\n",
       "      <th>Valor Exportado(US$)</th>\n",
       "    </tr>\n",
       "  </thead>\n",
       "  <tbody>\n",
       "    <tr>\n",
       "      <th>0</th>\n",
       "      <td>Afeganistão</td>\n",
       "      <td>2008</td>\n",
       "      <td>0</td>\n",
       "      <td>0</td>\n",
       "    </tr>\n",
       "    <tr>\n",
       "      <th>1</th>\n",
       "      <td>África do Sul</td>\n",
       "      <td>2008</td>\n",
       "      <td>0</td>\n",
       "      <td>0</td>\n",
       "    </tr>\n",
       "    <tr>\n",
       "      <th>2</th>\n",
       "      <td>Alemanha, República Democrática</td>\n",
       "      <td>2008</td>\n",
       "      <td>265742</td>\n",
       "      <td>429970</td>\n",
       "    </tr>\n",
       "    <tr>\n",
       "      <th>3</th>\n",
       "      <td>Angola</td>\n",
       "      <td>2008</td>\n",
       "      <td>25721</td>\n",
       "      <td>71083</td>\n",
       "    </tr>\n",
       "    <tr>\n",
       "      <th>4</th>\n",
       "      <td>Anguilla</td>\n",
       "      <td>2008</td>\n",
       "      <td>0</td>\n",
       "      <td>0</td>\n",
       "    </tr>\n",
       "    <tr>\n",
       "      <th>5</th>\n",
       "      <td>Antígua e Barbuda</td>\n",
       "      <td>2008</td>\n",
       "      <td>0</td>\n",
       "      <td>0</td>\n",
       "    </tr>\n",
       "    <tr>\n",
       "      <th>6</th>\n",
       "      <td>Antilhas Holandesas</td>\n",
       "      <td>2008</td>\n",
       "      <td>17938</td>\n",
       "      <td>22908</td>\n",
       "    </tr>\n",
       "    <tr>\n",
       "      <th>7</th>\n",
       "      <td>Argentina</td>\n",
       "      <td>2008</td>\n",
       "      <td>0</td>\n",
       "      <td>0</td>\n",
       "    </tr>\n",
       "    <tr>\n",
       "      <th>8</th>\n",
       "      <td>Aruba</td>\n",
       "      <td>2008</td>\n",
       "      <td>0</td>\n",
       "      <td>0</td>\n",
       "    </tr>\n",
       "    <tr>\n",
       "      <th>9</th>\n",
       "      <td>Austrália</td>\n",
       "      <td>2008</td>\n",
       "      <td>218726</td>\n",
       "      <td>99280</td>\n",
       "    </tr>\n",
       "    <tr>\n",
       "      <th>10</th>\n",
       "      <td>Áustria</td>\n",
       "      <td>2008</td>\n",
       "      <td>0</td>\n",
       "      <td>0</td>\n",
       "    </tr>\n",
       "    <tr>\n",
       "      <th>11</th>\n",
       "      <td>Bahamas</td>\n",
       "      <td>2008</td>\n",
       "      <td>0</td>\n",
       "      <td>0</td>\n",
       "    </tr>\n",
       "    <tr>\n",
       "      <th>12</th>\n",
       "      <td>Bangladesh</td>\n",
       "      <td>2008</td>\n",
       "      <td>0</td>\n",
       "      <td>0</td>\n",
       "    </tr>\n",
       "    <tr>\n",
       "      <th>13</th>\n",
       "      <td>Barbados</td>\n",
       "      <td>2008</td>\n",
       "      <td>0</td>\n",
       "      <td>0</td>\n",
       "    </tr>\n",
       "    <tr>\n",
       "      <th>14</th>\n",
       "      <td>Barein</td>\n",
       "      <td>2008</td>\n",
       "      <td>0</td>\n",
       "      <td>0</td>\n",
       "    </tr>\n",
       "  </tbody>\n",
       "</table>\n",
       "</div>"
      ],
      "text/plain": [
       "                               País   Ano  Quantidade Exportada(Kg)  \\\n",
       "0                       Afeganistão  2008                         0   \n",
       "1                     África do Sul  2008                         0   \n",
       "2   Alemanha, República Democrática  2008                    265742   \n",
       "3                            Angola  2008                     25721   \n",
       "4                          Anguilla  2008                         0   \n",
       "5                 Antígua e Barbuda  2008                         0   \n",
       "6               Antilhas Holandesas  2008                     17938   \n",
       "7                         Argentina  2008                         0   \n",
       "8                             Aruba  2008                         0   \n",
       "9                         Austrália  2008                    218726   \n",
       "10                          Áustria  2008                         0   \n",
       "11                          Bahamas  2008                         0   \n",
       "12                       Bangladesh  2008                         0   \n",
       "13                         Barbados  2008                         0   \n",
       "14                           Barein  2008                         0   \n",
       "\n",
       "    Valor Exportado(US$)  \n",
       "0                      0  \n",
       "1                      0  \n",
       "2                 429970  \n",
       "3                  71083  \n",
       "4                      0  \n",
       "5                      0  \n",
       "6                  22908  \n",
       "7                      0  \n",
       "8                      0  \n",
       "9                  99280  \n",
       "10                     0  \n",
       "11                     0  \n",
       "12                     0  \n",
       "13                     0  \n",
       "14                     0  "
      ]
     },
     "execution_count": 56,
     "metadata": {},
     "output_type": "execute_result"
    }
   ],
   "source": [
    "exportacao = pd.merge(exportacao_quantidade,exportacao_valor,on =['País','Ano'])\n",
    "exportacao.head(15)"
   ]
  },
  {
   "cell_type": "code",
   "execution_count": 57,
   "id": "9426a0b5",
   "metadata": {},
   "outputs": [
    {
     "name": "stdout",
     "output_type": "stream",
     "text": [
      "O primeiro ano registrado na tabela é : 2008\n",
      "O último ano registrado na tabela é : 2022\n"
     ]
    }
   ],
   "source": [
    "# Visualizar o ano inicial e o ano final da base \n",
    "print(f\"O primeiro ano registrado na tabela é : {exportacao['Ano'].min()}\")\n",
    "print(f\"O último ano registrado na tabela é : {exportacao['Ano'].max()}\")"
   ]
  },
  {
   "cell_type": "markdown",
   "id": "e14a5552",
   "metadata": {},
   "source": [
    "### 5.2.4 Junção das Tabelas Importação e Exportação"
   ]
  },
  {
   "cell_type": "code",
   "execution_count": 58,
   "id": "e1f8077e",
   "metadata": {},
   "outputs": [],
   "source": [
    "# juntando os dataframes\n",
    "importacao_exportacao = pd.merge(importacao,exportacao,on =['País','Ano'])"
   ]
  },
  {
   "cell_type": "markdown",
   "id": "afc4277a",
   "metadata": {},
   "source": [
    "## 5.3 Mercado Global de Vinhos"
   ]
  },
  {
   "cell_type": "markdown",
   "id": "ffef8eb6",
   "metadata": {},
   "source": [
    "### 5.3.1  Tratamento e Limpeza dos dados de Mercado Global de Vinhos"
   ]
  },
  {
   "cell_type": "markdown",
   "id": "687e6c04",
   "metadata": {},
   "source": [
    "<span style=\"font-size: 20px;\">**Dicionário de Variáveis**</span>\n",
    "\n",
    "\n",
    "<span style=\"font-size: 18px;\">**Mercado Global de Vinhos**</span>\n",
    "\n",
    "- **`Continente`**: \n",
    "  - **Descrição:** Continente de Origem do País\n",
    "\n",
    "  \n",
    "- **`País`**: \n",
    "  - **Descrição:** País ou Região dos dados \n",
    "\n",
    "  \n",
    "- **`Produto`**: \n",
    "  - **Descrição:** Tipo do Produto da Analise \n",
    "\n",
    "- **`Categoria`**: \n",
    "  - **Descrição:** Categoria dos dados coletados \n",
    "\n",
    "- **`Ano`**: \n",
    "  - **Descrição:** Ano correspondente do dado \n",
    "\n",
    "- **`Unidade`**: \n",
    "  - **Descrição:** Unidade de medida do dado \n",
    "\n",
    "- **`Quantidade`**: \n",
    "  - **Descrição:** Valor do dado\n"
   ]
  },
  {
   "cell_type": "code",
   "execution_count": 59,
   "id": "53999e12",
   "metadata": {},
   "outputs": [
    {
     "data": {
      "text/html": [
       "<div>\n",
       "<style scoped>\n",
       "    .dataframe tbody tr th:only-of-type {\n",
       "        vertical-align: middle;\n",
       "    }\n",
       "\n",
       "    .dataframe tbody tr th {\n",
       "        vertical-align: top;\n",
       "    }\n",
       "\n",
       "    .dataframe thead th {\n",
       "        text-align: right;\n",
       "    }\n",
       "</style>\n",
       "<table border=\"1\" class=\"dataframe\">\n",
       "  <thead>\n",
       "    <tr style=\"text-align: right;\">\n",
       "      <th></th>\n",
       "      <th>Continent</th>\n",
       "      <th>Region/Country</th>\n",
       "      <th>Product</th>\n",
       "      <th>Variable</th>\n",
       "      <th>Year</th>\n",
       "      <th>Unit</th>\n",
       "      <th>Quantity</th>\n",
       "    </tr>\n",
       "  </thead>\n",
       "  <tbody>\n",
       "    <tr>\n",
       "      <th>0</th>\n",
       "      <td>Asia</td>\n",
       "      <td>Afghanistan</td>\n",
       "      <td>Wine</td>\n",
       "      <td>Consumption</td>\n",
       "      <td>2008.0</td>\n",
       "      <td>1000 hl</td>\n",
       "      <td>1.0</td>\n",
       "    </tr>\n",
       "    <tr>\n",
       "      <th>1</th>\n",
       "      <td>Asia</td>\n",
       "      <td>Afghanistan</td>\n",
       "      <td>Wine</td>\n",
       "      <td>Imports</td>\n",
       "      <td>2008.0</td>\n",
       "      <td>1000 hl</td>\n",
       "      <td>1.0</td>\n",
       "    </tr>\n",
       "    <tr>\n",
       "      <th>2</th>\n",
       "      <td>Asia</td>\n",
       "      <td>Afghanistan</td>\n",
       "      <td>Wine</td>\n",
       "      <td>Production</td>\n",
       "      <td>2008.0</td>\n",
       "      <td>1000 hl</td>\n",
       "      <td>0.0</td>\n",
       "    </tr>\n",
       "    <tr>\n",
       "      <th>3</th>\n",
       "      <td>Asia</td>\n",
       "      <td>Afghanistan</td>\n",
       "      <td>Wine</td>\n",
       "      <td>Consumption</td>\n",
       "      <td>2009.0</td>\n",
       "      <td>1000 hl</td>\n",
       "      <td>3.0</td>\n",
       "    </tr>\n",
       "    <tr>\n",
       "      <th>4</th>\n",
       "      <td>Asia</td>\n",
       "      <td>Afghanistan</td>\n",
       "      <td>Wine</td>\n",
       "      <td>Imports</td>\n",
       "      <td>2009.0</td>\n",
       "      <td>1000 hl</td>\n",
       "      <td>3.0</td>\n",
       "    </tr>\n",
       "  </tbody>\n",
       "</table>\n",
       "</div>"
      ],
      "text/plain": [
       "  Continent Region/Country Product     Variable    Year     Unit  Quantity\n",
       "0      Asia    Afghanistan    Wine  Consumption  2008.0  1000 hl       1.0\n",
       "1      Asia    Afghanistan    Wine      Imports  2008.0  1000 hl       1.0\n",
       "2      Asia    Afghanistan    Wine   Production  2008.0  1000 hl       0.0\n",
       "3      Asia    Afghanistan    Wine  Consumption  2009.0  1000 hl       3.0\n",
       "4      Asia    Afghanistan    Wine      Imports  2009.0  1000 hl       3.0"
      ]
     },
     "execution_count": 59,
     "metadata": {},
     "output_type": "execute_result"
    }
   ],
   "source": [
    "# Visualizando as 5 primeiras linhas do dataset de Mercado\n",
    "mercado.head()"
   ]
  },
  {
   "cell_type": "code",
   "execution_count": 60,
   "id": "96bd1ea1",
   "metadata": {},
   "outputs": [
    {
     "name": "stdout",
     "output_type": "stream",
     "text": [
      "<class 'pandas.core.frame.DataFrame'>\n",
      "RangeIndex: 11769 entries, 0 to 11768\n",
      "Data columns (total 7 columns):\n",
      " #   Column      Non-Null Count  Dtype  \n",
      "---  ------      --------------  -----  \n",
      " 0   Continente  11768 non-null  object \n",
      " 1   País        11767 non-null  object \n",
      " 2   Produto     11767 non-null  object \n",
      " 3   Categoria   11767 non-null  object \n",
      " 4   Ano         11767 non-null  float64\n",
      " 5   Unidade     11767 non-null  object \n",
      " 6   Quantidade  11767 non-null  float64\n",
      "dtypes: float64(2), object(5)\n",
      "memory usage: 643.7+ KB\n"
     ]
    }
   ],
   "source": [
    "# alterando o nome das colunas\n",
    "mercado.columns = ['Continente', 'País', 'Produto', 'Categoria', 'Ano', 'Unidade',\n",
    "       'Quantidade']\n",
    "# Visualizando o tipo de dados de cada coluna\n",
    "mercado.info()"
   ]
  },
  {
   "cell_type": "code",
   "execution_count": 61,
   "id": "fb657968",
   "metadata": {},
   "outputs": [
    {
     "data": {
      "text/plain": [
       "array(['Wine', nan], dtype=object)"
      ]
     },
     "execution_count": 61,
     "metadata": {},
     "output_type": "execute_result"
    }
   ],
   "source": [
    "# Vizualizando o tipo de produto presente na base \n",
    "mercado['Produto'].unique()"
   ]
  },
  {
   "cell_type": "code",
   "execution_count": 62,
   "id": "90809de1",
   "metadata": {},
   "outputs": [],
   "source": [
    "# removendo as duas ultimas linhas do dataframe que não correspondem a dados do dataframe \n",
    "mercado = mercado.iloc[:-2]"
   ]
  },
  {
   "cell_type": "code",
   "execution_count": 63,
   "id": "fce04da8",
   "metadata": {},
   "outputs": [
    {
     "name": "stdout",
     "output_type": "stream",
     "text": [
      "Linhas da tabela Mercado Global de Vinhos: 11767\n",
      "Colunas da tabela Mercado Global de Vinhos: 7\n",
      "O primeiro ano registrado na tabela é : 2008.0\n",
      "O último ano registrado na tabela é : 2022.0\n"
     ]
    }
   ],
   "source": [
    "# Visualizar o tamanho do dataframe Mercado Global de Vinhos\n",
    "print(f\"Linhas da tabela Mercado Global de Vinhos: {mercado.shape[0]}\")\n",
    "print(f\"Colunas da tabela Mercado Global de Vinhos: {mercado.shape[1]}\")\n",
    "# Visualizar o ano inicial e o ano final da base \n",
    "print(f\"O primeiro ano registrado na tabela é : {mercado['Ano'].min()}\")\n",
    "print(f\"O último ano registrado na tabela é : {mercado['Ano'].max()}\")"
   ]
  },
  {
   "cell_type": "code",
   "execution_count": 64,
   "id": "760862ec",
   "metadata": {},
   "outputs": [
    {
     "data": {
      "text/plain": [
       "array(['Consumption', 'Imports', 'Production', 'Exports'], dtype=object)"
      ]
     },
     "execution_count": 64,
     "metadata": {},
     "output_type": "execute_result"
    }
   ],
   "source": [
    "# Excluindo a coluna Produto pois toda a tabela se trata apenas de um produto Vinho \n",
    "mercado.drop('Produto',axis = 1,inplace = True)\n",
    "# visuzalizando os dados referentes a categoria \n",
    "mercado['Categoria'].unique()"
   ]
  },
  {
   "cell_type": "code",
   "execution_count": 65,
   "id": "4c13965e",
   "metadata": {},
   "outputs": [
    {
     "data": {
      "text/plain": [
       "array(['Consumo', 'Importação', 'Produção', 'Exportação'], dtype=object)"
      ]
     },
     "execution_count": 65,
     "metadata": {},
     "output_type": "execute_result"
    }
   ],
   "source": [
    "# traduzindo para o portugues a coluna categoria\n",
    "mercado['Categoria'].replace({'Consumption': 'Consumo',\n",
    "                               'Imports': 'Importação', \n",
    "                               'Production': 'Produção',\n",
    "                                'Exports': 'Exportação'},\n",
    "                                inplace=True)\n",
    "mercado['Categoria'].unique()"
   ]
  },
  {
   "cell_type": "code",
   "execution_count": 66,
   "id": "dd73c14f",
   "metadata": {},
   "outputs": [
    {
     "data": {
      "text/plain": [
       "array(['Asia', 'Europa', 'Africa', 'Oceania', 'America', 'Global'],\n",
       "      dtype=object)"
      ]
     },
     "execution_count": 66,
     "metadata": {},
     "output_type": "execute_result"
    }
   ],
   "source": [
    "# Traduzindo para o portugues a coluna de continente\n",
    "mercado['Continente'].replace('Europe','Europa', inplace=True)\n",
    "mercado['Continente'].unique()"
   ]
  },
  {
   "cell_type": "code",
   "execution_count": 67,
   "id": "29fa7ba0",
   "metadata": {},
   "outputs": [
    {
     "data": {
      "text/plain": [
       "array(['2008', '2009', '2010', '2011', '2012', '2013', '2014', '2015',\n",
       "       '2016', '2017', '2018', '2019', '2020', '2021', '2022'],\n",
       "      dtype=object)"
      ]
     },
     "execution_count": 67,
     "metadata": {},
     "output_type": "execute_result"
    }
   ],
   "source": [
    "# Corrigindo a escrita da coluna Ano\n",
    "mercado['Ano'] = mercado['Ano'].astype(str)\n",
    "mercado['Ano'] = mercado['Ano'].str[:-2]\n",
    "mercado['Ano'].unique()"
   ]
  },
  {
   "cell_type": "code",
   "execution_count": 68,
   "id": "e4502587",
   "metadata": {},
   "outputs": [
    {
     "data": {
      "text/plain": [
       "array(['1000\\xa0hl'], dtype=object)"
      ]
     },
     "execution_count": 68,
     "metadata": {},
     "output_type": "execute_result"
    }
   ],
   "source": [
    "# a coluna Unidade esta em hectolitro ao inves de litro primeiro vamos converter para litro\n",
    "mercado['Unidade'].unique()"
   ]
  },
  {
   "cell_type": "code",
   "execution_count": 69,
   "id": "07e25b27",
   "metadata": {},
   "outputs": [],
   "source": [
    "# convertendo para litro\n",
    "mercado['Unidade'] = 100_000\n",
    "# agora vamos multiplicar a coluna unidade por quantidade para saber o valor em litro \n",
    "mercado['Quantidade'] = mercado['Unidade'] * mercado['Quantidade']\n",
    "# podemos apagar a coluna Unidade e deixar somente a coluna Quantidade\n",
    "mercado.drop('Unidade',axis= 1,inplace = True)\n",
    "# Renomeando a coluna Quantidade \n",
    "mercado.rename(columns={'Quantidade':'Quantidade(L)'},inplace=True)"
   ]
  },
  {
   "cell_type": "code",
   "execution_count": 70,
   "id": "bdd3fcfa",
   "metadata": {},
   "outputs": [
    {
     "data": {
      "text/html": [
       "<div>\n",
       "<style scoped>\n",
       "    .dataframe tbody tr th:only-of-type {\n",
       "        vertical-align: middle;\n",
       "    }\n",
       "\n",
       "    .dataframe tbody tr th {\n",
       "        vertical-align: top;\n",
       "    }\n",
       "\n",
       "    .dataframe thead th {\n",
       "        text-align: right;\n",
       "    }\n",
       "</style>\n",
       "<table border=\"1\" class=\"dataframe\">\n",
       "  <thead>\n",
       "    <tr style=\"text-align: right;\">\n",
       "      <th></th>\n",
       "      <th>Continente</th>\n",
       "      <th>País</th>\n",
       "      <th>Categoria</th>\n",
       "      <th>Quantidade(L)</th>\n",
       "    </tr>\n",
       "  </thead>\n",
       "  <tbody>\n",
       "    <tr>\n",
       "      <th>0</th>\n",
       "      <td>Africa</td>\n",
       "      <td>Algeria</td>\n",
       "      <td>Consumo</td>\n",
       "      <td>4.328000e+08</td>\n",
       "    </tr>\n",
       "    <tr>\n",
       "      <th>1</th>\n",
       "      <td>Africa</td>\n",
       "      <td>Algeria</td>\n",
       "      <td>Exportação</td>\n",
       "      <td>6.600000e+06</td>\n",
       "    </tr>\n",
       "    <tr>\n",
       "      <th>2</th>\n",
       "      <td>Africa</td>\n",
       "      <td>Algeria</td>\n",
       "      <td>Importação</td>\n",
       "      <td>9.850000e+07</td>\n",
       "    </tr>\n",
       "    <tr>\n",
       "      <th>3</th>\n",
       "      <td>Africa</td>\n",
       "      <td>Algeria</td>\n",
       "      <td>Produção</td>\n",
       "      <td>4.513000e+08</td>\n",
       "    </tr>\n",
       "    <tr>\n",
       "      <th>4</th>\n",
       "      <td>Africa</td>\n",
       "      <td>Angola</td>\n",
       "      <td>Consumo</td>\n",
       "      <td>1.197200e+09</td>\n",
       "    </tr>\n",
       "    <tr>\n",
       "      <th>5</th>\n",
       "      <td>Africa</td>\n",
       "      <td>Angola</td>\n",
       "      <td>Exportação</td>\n",
       "      <td>1.290000e+07</td>\n",
       "    </tr>\n",
       "    <tr>\n",
       "      <th>6</th>\n",
       "      <td>Africa</td>\n",
       "      <td>Angola</td>\n",
       "      <td>Importação</td>\n",
       "      <td>1.229100e+09</td>\n",
       "    </tr>\n",
       "    <tr>\n",
       "      <th>7</th>\n",
       "      <td>Africa</td>\n",
       "      <td>Angola</td>\n",
       "      <td>Produção</td>\n",
       "      <td>0.000000e+00</td>\n",
       "    </tr>\n",
       "    <tr>\n",
       "      <th>8</th>\n",
       "      <td>Africa</td>\n",
       "      <td>Benin</td>\n",
       "      <td>Consumo</td>\n",
       "      <td>5.630000e+07</td>\n",
       "    </tr>\n",
       "    <tr>\n",
       "      <th>9</th>\n",
       "      <td>Africa</td>\n",
       "      <td>Benin</td>\n",
       "      <td>Exportação</td>\n",
       "      <td>4.300000e+06</td>\n",
       "    </tr>\n",
       "  </tbody>\n",
       "</table>\n",
       "</div>"
      ],
      "text/plain": [
       "  Continente     País   Categoria  Quantidade(L)\n",
       "0     Africa  Algeria     Consumo   4.328000e+08\n",
       "1     Africa  Algeria  Exportação   6.600000e+06\n",
       "2     Africa  Algeria  Importação   9.850000e+07\n",
       "3     Africa  Algeria    Produção   4.513000e+08\n",
       "4     Africa   Angola     Consumo   1.197200e+09\n",
       "5     Africa   Angola  Exportação   1.290000e+07\n",
       "6     Africa   Angola  Importação   1.229100e+09\n",
       "7     Africa   Angola    Produção   0.000000e+00\n",
       "8     Africa    Benin     Consumo   5.630000e+07\n",
       "9     Africa    Benin  Exportação   4.300000e+06"
      ]
     },
     "execution_count": 70,
     "metadata": {},
     "output_type": "execute_result"
    }
   ],
   "source": [
    "# Somando os dados dos 15 anos por país\n",
    "total_por_pais = mercado.groupby(['Continente','País','Categoria'])['Quantidade(L)'].sum().reset_index()\n",
    "total_por_pais.head(10)"
   ]
  },
  {
   "cell_type": "code",
   "execution_count": 71,
   "id": "89534dc4",
   "metadata": {},
   "outputs": [
    {
     "data": {
      "text/html": [
       "<div>\n",
       "<style scoped>\n",
       "    .dataframe tbody tr th:only-of-type {\n",
       "        vertical-align: middle;\n",
       "    }\n",
       "\n",
       "    .dataframe tbody tr th {\n",
       "        vertical-align: top;\n",
       "    }\n",
       "\n",
       "    .dataframe thead th {\n",
       "        text-align: right;\n",
       "    }\n",
       "</style>\n",
       "<table border=\"1\" class=\"dataframe\">\n",
       "  <thead>\n",
       "    <tr style=\"text-align: right;\">\n",
       "      <th>Categoria</th>\n",
       "      <th>Consumo</th>\n",
       "      <th>Exportação</th>\n",
       "      <th>Importação</th>\n",
       "      <th>Produção</th>\n",
       "    </tr>\n",
       "    <tr>\n",
       "      <th>País</th>\n",
       "      <th></th>\n",
       "      <th></th>\n",
       "      <th></th>\n",
       "      <th></th>\n",
       "    </tr>\n",
       "  </thead>\n",
       "  <tbody>\n",
       "    <tr>\n",
       "      <th>Afghanistan</th>\n",
       "      <td>1800000.0</td>\n",
       "      <td>NaN</td>\n",
       "      <td>1700000.0</td>\n",
       "      <td>0.0</td>\n",
       "    </tr>\n",
       "    <tr>\n",
       "      <th>Albania</th>\n",
       "      <td>335200000.0</td>\n",
       "      <td>0.0</td>\n",
       "      <td>58200000.0</td>\n",
       "      <td>280800000.0</td>\n",
       "    </tr>\n",
       "    <tr>\n",
       "      <th>Algeria</th>\n",
       "      <td>432800000.0</td>\n",
       "      <td>6600000.0</td>\n",
       "      <td>98500000.0</td>\n",
       "      <td>451300000.0</td>\n",
       "    </tr>\n",
       "    <tr>\n",
       "      <th>American Samoa</th>\n",
       "      <td>400000.0</td>\n",
       "      <td>NaN</td>\n",
       "      <td>200000.0</td>\n",
       "      <td>0.0</td>\n",
       "    </tr>\n",
       "    <tr>\n",
       "      <th>Andorra</th>\n",
       "      <td>NaN</td>\n",
       "      <td>NaN</td>\n",
       "      <td>NaN</td>\n",
       "      <td>0.0</td>\n",
       "    </tr>\n",
       "  </tbody>\n",
       "</table>\n",
       "</div>"
      ],
      "text/plain": [
       "Categoria           Consumo  Exportação  Importação     Produção\n",
       "País                                                            \n",
       "Afghanistan       1800000.0         NaN   1700000.0          0.0\n",
       "Albania         335200000.0         0.0  58200000.0  280800000.0\n",
       "Algeria         432800000.0   6600000.0  98500000.0  451300000.0\n",
       "American Samoa     400000.0         NaN    200000.0          0.0\n",
       "Andorra                 NaN         NaN         NaN          0.0"
      ]
     },
     "execution_count": 71,
     "metadata": {},
     "output_type": "execute_result"
    }
   ],
   "source": [
    "# Abrindo os dados para que cada categoria vire uma coluna \n",
    "total_aberto = total_por_pais.pivot(index='País',columns='Categoria',values='Quantidade(L)')\n",
    "total_aberto.head()"
   ]
  },
  {
   "cell_type": "code",
   "execution_count": 72,
   "id": "61525a41",
   "metadata": {},
   "outputs": [],
   "source": [
    "# substituindo os valores nulos por 0\n",
    "total_aberto.fillna(0,inplace=True)\n",
    "# Resetando o index da tabela \n",
    "total_aberto = total_aberto.reset_index()"
   ]
  },
  {
   "cell_type": "code",
   "execution_count": 73,
   "id": "316aaa04",
   "metadata": {},
   "outputs": [],
   "source": [
    "# Ordenando os dados do Mercado Global de Vinhos Total do maior para o menor pela importação\n",
    "total_aberto.sort_values(by = 'Importação',ascending=False,inplace = True)\n",
    "# Retirnado a primeira linha que é referente ao total mundial \n",
    "total_aberto = total_aberto.iloc[1:]\n",
    "# pegando apenas os top 40 que mais importaram vinho nos ultimos 15 anos \n",
    "total_aberto = total_aberto[:40]"
   ]
  },
  {
   "cell_type": "code",
   "execution_count": 74,
   "id": "49edd77c",
   "metadata": {},
   "outputs": [
    {
     "name": "stdout",
     "output_type": "stream",
     "text": [
      "['Germany' 'United Kingdom' 'United States of America' 'France' 'Russia'\n",
      " 'China, mainland' 'Netherlands' 'Canada' 'Belgium' 'Japan' 'Italy'\n",
      " 'Sweden' 'Portugal' 'Denmark' 'Switzerland' 'Czech Republic' 'Poland'\n",
      " 'Brazil' 'Australia' 'Norway' 'Lithuania' 'Angola' 'Ireland' 'Austria'\n",
      " 'Spain' 'Finland' 'Slovakia' 'Latvia' 'Mexico' 'Belarus'\n",
      " 'China, Hong Kong SAR' 'Romania' 'Korea (the Republic of)' 'Ukraine'\n",
      " 'New Zealand' \"Côte d'Ivoire\" 'United Arab Emirates' 'Namibia'\n",
      " 'Singapore' 'Nigeria']\n"
     ]
    }
   ],
   "source": [
    "# Lista dos 40 países que mais importaram vinhos nos ultimos anos \n",
    "lista_de_paises = total_aberto['País'].unique()\n",
    "print(lista_de_paises)"
   ]
  },
  {
   "cell_type": "code",
   "execution_count": 75,
   "id": "5d7b1d21",
   "metadata": {},
   "outputs": [
    {
     "data": {
      "text/html": [
       "<div>\n",
       "<style scoped>\n",
       "    .dataframe tbody tr th:only-of-type {\n",
       "        vertical-align: middle;\n",
       "    }\n",
       "\n",
       "    .dataframe tbody tr th {\n",
       "        vertical-align: top;\n",
       "    }\n",
       "\n",
       "    .dataframe thead th {\n",
       "        text-align: right;\n",
       "    }\n",
       "</style>\n",
       "<table border=\"1\" class=\"dataframe\">\n",
       "  <thead>\n",
       "    <tr style=\"text-align: right;\">\n",
       "      <th></th>\n",
       "      <th>Continente</th>\n",
       "      <th>País</th>\n",
       "      <th>Categoria</th>\n",
       "      <th>Ano</th>\n",
       "      <th>Quantidade(L)</th>\n",
       "    </tr>\n",
       "  </thead>\n",
       "  <tbody>\n",
       "    <tr>\n",
       "      <th>225</th>\n",
       "      <td>Africa</td>\n",
       "      <td>Angola</td>\n",
       "      <td>Consumo</td>\n",
       "      <td>2008</td>\n",
       "      <td>116000000.0</td>\n",
       "    </tr>\n",
       "    <tr>\n",
       "      <th>226</th>\n",
       "      <td>Africa</td>\n",
       "      <td>Angola</td>\n",
       "      <td>Exportação</td>\n",
       "      <td>2008</td>\n",
       "      <td>0.0</td>\n",
       "    </tr>\n",
       "    <tr>\n",
       "      <th>227</th>\n",
       "      <td>Africa</td>\n",
       "      <td>Angola</td>\n",
       "      <td>Importação</td>\n",
       "      <td>2008</td>\n",
       "      <td>116000000.0</td>\n",
       "    </tr>\n",
       "    <tr>\n",
       "      <th>228</th>\n",
       "      <td>Africa</td>\n",
       "      <td>Angola</td>\n",
       "      <td>Produção</td>\n",
       "      <td>2008</td>\n",
       "      <td>0.0</td>\n",
       "    </tr>\n",
       "    <tr>\n",
       "      <th>229</th>\n",
       "      <td>Africa</td>\n",
       "      <td>Angola</td>\n",
       "      <td>Consumo</td>\n",
       "      <td>2009</td>\n",
       "      <td>79800000.0</td>\n",
       "    </tr>\n",
       "  </tbody>\n",
       "</table>\n",
       "</div>"
      ],
      "text/plain": [
       "    Continente    País   Categoria   Ano  Quantidade(L)\n",
       "225     Africa  Angola     Consumo  2008    116000000.0\n",
       "226     Africa  Angola  Exportação  2008            0.0\n",
       "227     Africa  Angola  Importação  2008    116000000.0\n",
       "228     Africa  Angola    Produção  2008            0.0\n",
       "229     Africa  Angola     Consumo  2009     79800000.0"
      ]
     },
     "execution_count": 75,
     "metadata": {},
     "output_type": "execute_result"
    }
   ],
   "source": [
    "# criando um dataframe com as categorias em uma coluna apenas com os 40 países que mais importaram \n",
    "mercado_top40 = mercado[mercado['País'].isin(lista_de_paises)]\n",
    "mercado_top40.head()"
   ]
  },
  {
   "cell_type": "code",
   "execution_count": 76,
   "id": "4860f742",
   "metadata": {},
   "outputs": [
    {
     "data": {
      "text/plain": [
       "array(['Angola', 'Austrália', 'Áustria', 'Bielorrússia', 'Bélgica',\n",
       "       'Canadá', 'Hong Kong', 'China', 'Costa do Marfim',\n",
       "       'República Tcheca', 'Dinamarca', 'Finlândia', 'França', 'Alemanha',\n",
       "       'Irlanda', 'Itália', 'Japão', 'Coreia do Sul', 'Letônia',\n",
       "       'Lituânia', 'México', 'Namíbia', 'Países Baixos', 'Nova Zelândia',\n",
       "       'Nigéria', 'Noruega', 'Polônia', 'Portugal', 'Romênia', 'Rússia',\n",
       "       'Singapura', 'Eslováquia', 'Espanha', 'Suécia', 'Suíça', 'Ucrânia',\n",
       "       'Emirados Árabes Unidos', 'Reino Unido', 'Estados Unidos'],\n",
       "      dtype=object)"
      ]
     },
     "execution_count": 76,
     "metadata": {},
     "output_type": "execute_result"
    }
   ],
   "source": [
    "# Dicionário de tradução dos países para o português\n",
    "paises_traduzidos = {\n",
    "    'Angola': 'Angola', 'Australia': 'Austrália', 'Austria': 'Áustria', 'Belarus': 'Bielorrússia', 'Belgium': 'Bélgica',\n",
    "    'Brazil': 'Brasil', 'Canada': 'Canadá', 'China, Hong Kong SAR': 'Hong Kong', 'China, mainland': 'China', \"Côte d'Ivoire\": 'Costa do Marfim',\n",
    "    'Czech Republic': 'República Tcheca', 'Denmark': 'Dinamarca', 'Finland': 'Finlândia', 'France': 'França', 'Germany': 'Alemanha',\n",
    "    'Ireland': 'Irlanda', 'Italy': 'Itália', 'Japan': 'Japão', 'Korea (the Republic of)': 'Coreia do Sul', 'Latvia': 'Letônia',\n",
    "    'Lithuania': 'Lituânia', 'Mexico': 'México', 'Namibia': 'Namíbia', 'Netherlands': 'Países Baixos', 'New Zealand': 'Nova Zelândia',\n",
    "    'Norway': 'Noruega', 'Paraguay': 'Paraguai', 'Poland': 'Polônia', 'Portugal': 'Portugal', 'Romania': 'Romênia', 'Russia': 'Rússia',\n",
    "    'Singapore': 'Singapura', 'Slovakia': 'Eslováquia', 'Spain': 'Espanha', 'Sweden': 'Suécia', 'Switzerland': 'Suíça', 'Ukraine': 'Ucrânia',\n",
    "    'United Arab Emirates': 'Emirados Árabes Unidos', 'United Kingdom': 'Reino Unido', 'United States of America': 'Estados Unidos',\n",
    "    'Nigeria': 'Nigéria' \n",
    "}\n",
    "# Substituindo o nome dos países \n",
    "mercado_top40['País'] = mercado_top40['País'].replace(paises_traduzidos)\n",
    "# excluindo o Brasil da Lista de Países \n",
    "mercado_top40 = mercado_top40[mercado_top40['País'] != 'Brasil']\n",
    "# verificando se foi alterado o nome dos países\n",
    "mercado_top40['País'].unique()"
   ]
  },
  {
   "cell_type": "code",
   "execution_count": 77,
   "id": "5f126b9d",
   "metadata": {},
   "outputs": [],
   "source": [
    "# Substituindo o nome dos países no dataframe aberto \n",
    "total_aberto['País'] = total_aberto['País'].replace(paises_traduzidos)\n",
    "# excluindo o Brasil da Lista de Países \n",
    "total_aberto = total_aberto[total_aberto['País'] != 'Brasil']"
   ]
  },
  {
   "cell_type": "code",
   "execution_count": 78,
   "id": "bb7771f4",
   "metadata": {},
   "outputs": [],
   "source": [
    "# excluindo a coluna Exportação do dataframe aberto\n",
    "total_aberto.drop('Exportação',axis=1  ,inplace= True)\n",
    "# Alterando o nome das colunas \n",
    "total_aberto.columns = ['País','Consumo Total 15 anos(L)','Importação Total 15 anos(L)','Produção Total 15 anos(L)']"
   ]
  },
  {
   "cell_type": "markdown",
   "id": "9c9014ef",
   "metadata": {},
   "source": [
    "### 5.3.2  Tratamento e Limpeza dos dados de População dos Países "
   ]
  },
  {
   "cell_type": "markdown",
   "id": "a5f9df23",
   "metadata": {},
   "source": [
    "<span style=\"font-size: 20px;\">**Dicionário de Variáveis**</span>\n",
    "\n",
    "\n",
    "<span style=\"font-size: 18px;\">**População**</span>\n",
    "\n",
    "\n",
    "- **`País`**: \n",
    "  - **Descrição:** País ou Região dos dados \n",
    "\n",
    "  \n",
    "- **`População`**: \n",
    "  - **Descrição:** Total Populacional do País censo ou estimativa mais recente \n",
    "\n",
    "\n"
   ]
  },
  {
   "cell_type": "code",
   "execution_count": 79,
   "id": "d8698bff",
   "metadata": {},
   "outputs": [
    {
     "data": {
      "text/html": [
       "<div>\n",
       "<style scoped>\n",
       "    .dataframe tbody tr th:only-of-type {\n",
       "        vertical-align: middle;\n",
       "    }\n",
       "\n",
       "    .dataframe tbody tr th {\n",
       "        vertical-align: top;\n",
       "    }\n",
       "\n",
       "    .dataframe thead th {\n",
       "        text-align: right;\n",
       "    }\n",
       "</style>\n",
       "<table border=\"1\" class=\"dataframe\">\n",
       "  <thead>\n",
       "    <tr style=\"text-align: right;\">\n",
       "      <th></th>\n",
       "      <th>Unnamed: 0</th>\n",
       "      <th>Posição</th>\n",
       "      <th>País (ou território dependente)</th>\n",
       "      <th>Estimativa da ONU</th>\n",
       "      <th>Crescimento desde a última estimativa</th>\n",
       "      <th>Estimativa Oficial</th>\n",
       "    </tr>\n",
       "  </thead>\n",
       "  <tbody>\n",
       "    <tr>\n",
       "      <th>0</th>\n",
       "      <td>NaN</td>\n",
       "      <td>1</td>\n",
       "      <td>Índia</td>\n",
       "      <td>1 429 921 746</td>\n",
       "      <td>+269.108.746</td>\n",
       "      <td>Estimativa oficial</td>\n",
       "    </tr>\n",
       "    <tr>\n",
       "      <th>1</th>\n",
       "      <td>NaN</td>\n",
       "      <td>2</td>\n",
       "      <td>China</td>\n",
       "      <td>1 426 391 281</td>\n",
       "      <td>+87.778.313</td>\n",
       "      <td>Censo oficial</td>\n",
       "    </tr>\n",
       "    <tr>\n",
       "      <th>2</th>\n",
       "      <td>NaN</td>\n",
       "      <td>3</td>\n",
       "      <td>Estados Unidos</td>\n",
       "      <td>339 987 103</td>\n",
       "      <td>+31.241.565</td>\n",
       "      <td>Censo oficial</td>\n",
       "    </tr>\n",
       "    <tr>\n",
       "      <th>3</th>\n",
       "      <td>NaN</td>\n",
       "      <td>4</td>\n",
       "      <td>Indonésia</td>\n",
       "      <td>277 184 719</td>\n",
       "      <td>+33.168.546</td>\n",
       "      <td>Estimativa oficial</td>\n",
       "    </tr>\n",
       "    <tr>\n",
       "      <th>4</th>\n",
       "      <td>NaN</td>\n",
       "      <td>5</td>\n",
       "      <td>Paquistão</td>\n",
       "      <td>240 215 932</td>\n",
       "      <td>+65.636.932</td>\n",
       "      <td>Estimativa oficial</td>\n",
       "    </tr>\n",
       "  </tbody>\n",
       "</table>\n",
       "</div>"
      ],
      "text/plain": [
       "   Unnamed: 0 Posição País (ou território dependente) Estimativa da ONU  \\\n",
       "0         NaN       1                           Índia     1 429 921 746   \n",
       "1         NaN       2                           China     1 426 391 281   \n",
       "2         NaN       3                  Estados Unidos       339 987 103   \n",
       "3         NaN       4                       Indonésia       277 184 719   \n",
       "4         NaN       5                       Paquistão       240 215 932   \n",
       "\n",
       "  Crescimento desde a última estimativa  Estimativa Oficial  \n",
       "0                          +269.108.746  Estimativa oficial  \n",
       "1                           +87.778.313       Censo oficial  \n",
       "2                           +31.241.565       Censo oficial  \n",
       "3                           +33.168.546  Estimativa oficial  \n",
       "4                           +65.636.932  Estimativa oficial  "
      ]
     },
     "execution_count": 79,
     "metadata": {},
     "output_type": "execute_result"
    }
   ],
   "source": [
    "# Exibindos as primeiras linhas do dataset\n",
    "populacao.head()"
   ]
  },
  {
   "cell_type": "code",
   "execution_count": 80,
   "id": "bde58105",
   "metadata": {},
   "outputs": [],
   "source": [
    "# excluindo colunas que não seram usadas na analise \n",
    "populacao = populacao.drop(['Unnamed: 0','Posição','Crescimento desde a última estimativa','Estimativa Oficial'],axis=1)\n",
    "# Alterando o nome das colunas \n",
    "populacao.columns = ['País', 'População']"
   ]
  },
  {
   "cell_type": "code",
   "execution_count": 81,
   "id": "5e4a5a3e",
   "metadata": {},
   "outputs": [],
   "source": [
    "# obseravando a lista de países no site percebe-se que existe uma diferença na ortografia de alguns países  \n",
    "# Por isso sera feito a correção antes de fazer a união com a outra tabela \n",
    "paises_errados = {'Polónia' :'Polônia', 'Letónia': 'Letônia',  'Hong Kong (China)': 'Hong Kong',\n",
    "                    'Chéquia':'República Tcheca','Roménia': 'Romênia'}\n",
    "# corrigindo o nome dos países no dataframe de população\n",
    "populacao['País'] = populacao['País'].replace(paises_errados)\n",
    "\n",
    "#filtrando apenas os países que usaremos na nossa analise \n",
    "populacao = populacao[populacao['País'].isin(total_aberto['País'].unique().tolist())]"
   ]
  },
  {
   "cell_type": "code",
   "execution_count": 82,
   "id": "b2b7aeeb",
   "metadata": {},
   "outputs": [
    {
     "data": {
      "text/html": [
       "<div>\n",
       "<style scoped>\n",
       "    .dataframe tbody tr th:only-of-type {\n",
       "        vertical-align: middle;\n",
       "    }\n",
       "\n",
       "    .dataframe tbody tr th {\n",
       "        vertical-align: top;\n",
       "    }\n",
       "\n",
       "    .dataframe thead th {\n",
       "        text-align: right;\n",
       "    }\n",
       "</style>\n",
       "<table border=\"1\" class=\"dataframe\">\n",
       "  <thead>\n",
       "    <tr style=\"text-align: right;\">\n",
       "      <th></th>\n",
       "      <th>País</th>\n",
       "      <th>População</th>\n",
       "    </tr>\n",
       "  </thead>\n",
       "  <tbody>\n",
       "    <tr>\n",
       "      <th>1</th>\n",
       "      <td>China</td>\n",
       "      <td>1426391281</td>\n",
       "    </tr>\n",
       "    <tr>\n",
       "      <th>2</th>\n",
       "      <td>Estados Unidos</td>\n",
       "      <td>339987103</td>\n",
       "    </tr>\n",
       "    <tr>\n",
       "      <th>5</th>\n",
       "      <td>Nigéria</td>\n",
       "      <td>223899057</td>\n",
       "    </tr>\n",
       "    <tr>\n",
       "      <th>8</th>\n",
       "      <td>Rússia</td>\n",
       "      <td>146140931</td>\n",
       "    </tr>\n",
       "    <tr>\n",
       "      <th>9</th>\n",
       "      <td>México</td>\n",
       "      <td>134127189</td>\n",
       "    </tr>\n",
       "    <tr>\n",
       "      <th>11</th>\n",
       "      <td>Japão</td>\n",
       "      <td>124127899</td>\n",
       "    </tr>\n",
       "    <tr>\n",
       "      <th>18</th>\n",
       "      <td>Alemanha</td>\n",
       "      <td>83783942</td>\n",
       "    </tr>\n",
       "    <tr>\n",
       "      <th>20</th>\n",
       "      <td>Reino Unido</td>\n",
       "      <td>69505718</td>\n",
       "    </tr>\n",
       "    <tr>\n",
       "      <th>21</th>\n",
       "      <td>França</td>\n",
       "      <td>65273511</td>\n",
       "    </tr>\n",
       "    <tr>\n",
       "      <th>22</th>\n",
       "      <td>Itália</td>\n",
       "      <td>60461826</td>\n",
       "    </tr>\n",
       "  </tbody>\n",
       "</table>\n",
       "</div>"
      ],
      "text/plain": [
       "              País   População\n",
       "1            China  1426391281\n",
       "2   Estados Unidos   339987103\n",
       "5          Nigéria   223899057\n",
       "8           Rússia   146140931\n",
       "9           México   134127189\n",
       "11           Japão   124127899\n",
       "18        Alemanha    83783942\n",
       "20     Reino Unido    69505718\n",
       "21          França    65273511\n",
       "22          Itália    60461826"
      ]
     },
     "execution_count": 82,
     "metadata": {},
     "output_type": "execute_result"
    }
   ],
   "source": [
    "# corringindo a coluna de populaçao retirando o espaço em branco dentro do numero e transformando a coluna para tipo numerico\n",
    "populacao['População'] = populacao['População'].str.replace(' ','').astype(int)\n",
    "populacao.head(10)"
   ]
  },
  {
   "cell_type": "markdown",
   "id": "732aae17",
   "metadata": {},
   "source": [
    "### 5.3.3  Tratamento e Limpeza dos dados de Cotação de Moeda "
   ]
  },
  {
   "cell_type": "markdown",
   "id": "a5f302da",
   "metadata": {},
   "source": [
    "<span style=\"font-size: 20px;\">**Dicionário de Variáveis**</span>\n",
    "\n",
    "\n",
    "<span style=\"font-size: 18px;\">**Cotações de Moedas comparadas ao Real**</span>\n",
    "\n",
    "\n",
    "- **`País`**: \n",
    "  - **Descrição:** País ou Região dos dados \n",
    "\n",
    "  \n",
    "- **`Cotação`**: \n",
    "  - **Descrição:** Valor da moeda em real"
   ]
  },
  {
   "cell_type": "code",
   "execution_count": 83,
   "id": "ca56957b",
   "metadata": {},
   "outputs": [
    {
     "data": {
      "text/html": [
       "<div>\n",
       "<style scoped>\n",
       "    .dataframe tbody tr th:only-of-type {\n",
       "        vertical-align: middle;\n",
       "    }\n",
       "\n",
       "    .dataframe tbody tr th {\n",
       "        vertical-align: top;\n",
       "    }\n",
       "\n",
       "    .dataframe thead th {\n",
       "        text-align: right;\n",
       "    }\n",
       "</style>\n",
       "<table border=\"1\" class=\"dataframe\">\n",
       "  <thead>\n",
       "    <tr style=\"text-align: right;\">\n",
       "      <th></th>\n",
       "      <th>País</th>\n",
       "      <th>Cotação em Real</th>\n",
       "    </tr>\n",
       "  </thead>\n",
       "  <tbody>\n",
       "    <tr>\n",
       "      <th>0</th>\n",
       "      <td>Lituânia</td>\n",
       "      <td>5.4600</td>\n",
       "    </tr>\n",
       "    <tr>\n",
       "      <th>1</th>\n",
       "      <td>Costa do Marfim</td>\n",
       "      <td>0.0088</td>\n",
       "    </tr>\n",
       "    <tr>\n",
       "      <th>2</th>\n",
       "      <td>Namíbia</td>\n",
       "      <td>0.2800</td>\n",
       "    </tr>\n",
       "    <tr>\n",
       "      <th>3</th>\n",
       "      <td>México</td>\n",
       "      <td>0.2700</td>\n",
       "    </tr>\n",
       "    <tr>\n",
       "      <th>4</th>\n",
       "      <td>Coreia do Sul</td>\n",
       "      <td>0.0040</td>\n",
       "    </tr>\n",
       "    <tr>\n",
       "      <th>5</th>\n",
       "      <td>Hong Kong</td>\n",
       "      <td>0.6100</td>\n",
       "    </tr>\n",
       "    <tr>\n",
       "      <th>6</th>\n",
       "      <td>Bielorrússia</td>\n",
       "      <td>1.5800</td>\n",
       "    </tr>\n",
       "    <tr>\n",
       "      <th>7</th>\n",
       "      <td>Japão</td>\n",
       "      <td>0.0380</td>\n",
       "    </tr>\n",
       "    <tr>\n",
       "      <th>8</th>\n",
       "      <td>Portugal</td>\n",
       "      <td>5.4600</td>\n",
       "    </tr>\n",
       "    <tr>\n",
       "      <th>9</th>\n",
       "      <td>Singapura</td>\n",
       "      <td>3.4100</td>\n",
       "    </tr>\n",
       "  </tbody>\n",
       "</table>\n",
       "</div>"
      ],
      "text/plain": [
       "              País  Cotação em Real\n",
       "0         Lituânia           5.4600\n",
       "1  Costa do Marfim           0.0088\n",
       "2          Namíbia           0.2800\n",
       "3           México           0.2700\n",
       "4    Coreia do Sul           0.0040\n",
       "5        Hong Kong           0.6100\n",
       "6     Bielorrússia           1.5800\n",
       "7            Japão           0.0380\n",
       "8         Portugal           5.4600\n",
       "9        Singapura           3.4100"
      ]
     },
     "execution_count": 83,
     "metadata": {},
     "output_type": "execute_result"
    }
   ],
   "source": [
    "# Cotação das moedas em comparação ao real para valores de referentes a Maio de 2024 segundo o https://wise.com/us/currency-converter/\n",
    "cotacoes = {\n",
    "    'Lituânia': 5.46, 'Costa do Marfim': 0.0088, 'Namíbia': 0.28, 'México': 0.27, 'Coreia do Sul': 0.004,\n",
    "    'Hong Kong': 0.61, 'Bielorrússia': 1.58, 'Japão': 0.038, 'Portugal': 5.46, 'Singapura': 3.41,\n",
    "    'República Tcheca': 0.24, 'Canadá': 3.86, 'Estados Unidos': 5.17, 'Suécia': 0.50, 'Austrália': 3.45,\n",
    "    'Irlanda': 5.46, 'Países Baixos': 5.46, 'Noruega': 0.51, 'Eslováquia': 5.46, 'Nova Zelândia': 3.23,\n",
    "    'Áustria': 5.46, 'Reino Unido': 6.45, 'Alemanha': 5.46, 'Dinamarca': 0.73, 'Letônia': 5.46, 'Itália': 5.46,\n",
    "    'Espanha': 5.46, 'Suíça': 5.70, 'França': 5.46, 'Bélgica': 5.46, 'Rússia': 0.065, 'China': 0.72,\n",
    "    'Paraguai': 0.00068, 'Romênia': 1.13, 'Finlândia': 5.46, 'Ucrânia': 0.13, 'Angola': 0.0061,\n",
    "    'Polônia': 0.91, 'Emirados Árabes Unidos': 1.11, 'Nigéria': 0.012\n",
    "}\n",
    "# transformando a o dicionario em dataframe\n",
    "cotacao = pd.DataFrame(list(cotacoes.items()), columns=['País', 'Cotação em Real']).round(6)\n",
    "cotacao.head(10)"
   ]
  },
  {
   "cell_type": "markdown",
   "id": "4e46e8fb",
   "metadata": {},
   "source": [
    "### 5.3.4  Junção dos dados de Mercado Global de Vinho, População e Cotação em Real"
   ]
  },
  {
   "cell_type": "code",
   "execution_count": 84,
   "id": "35851b05",
   "metadata": {},
   "outputs": [],
   "source": [
    "# juntando o dados total de Consumo,Importação e Produção  com os dados de Populacao\n",
    "df1 = pd.merge(total_aberto,populacao,on = 'País',how='left')\n",
    "# juntando o dados total de Consumo,Importação, Produção e Populacao com os dados de Cotação\n",
    "dados_externos = pd.merge(df1,cotacao,on = 'País',how ='left')"
   ]
  },
  {
   "cell_type": "code",
   "execution_count": 85,
   "id": "b37e19cc",
   "metadata": {},
   "outputs": [
    {
     "data": {
      "text/html": [
       "<div>\n",
       "<style scoped>\n",
       "    .dataframe tbody tr th:only-of-type {\n",
       "        vertical-align: middle;\n",
       "    }\n",
       "\n",
       "    .dataframe tbody tr th {\n",
       "        vertical-align: top;\n",
       "    }\n",
       "\n",
       "    .dataframe thead th {\n",
       "        text-align: right;\n",
       "    }\n",
       "</style>\n",
       "<table border=\"1\" class=\"dataframe\">\n",
       "  <thead>\n",
       "    <tr style=\"text-align: right;\">\n",
       "      <th></th>\n",
       "      <th>País</th>\n",
       "      <th>Consumo Total 15 anos(L)</th>\n",
       "      <th>Importação Total 15 anos(L)</th>\n",
       "      <th>Produção Total 15 anos(L)</th>\n",
       "      <th>Cotação em Real</th>\n",
       "      <th>Consumo Per Capita Média por ano(L)</th>\n",
       "    </tr>\n",
       "  </thead>\n",
       "  <tbody>\n",
       "    <tr>\n",
       "      <th>0</th>\n",
       "      <td>Alemanha</td>\n",
       "      <td>3.010620e+10</td>\n",
       "      <td>2.226990e+10</td>\n",
       "      <td>1.314530e+10</td>\n",
       "      <td>5.460</td>\n",
       "      <td>23.955426</td>\n",
       "    </tr>\n",
       "    <tr>\n",
       "      <th>1</th>\n",
       "      <td>Reino Unido</td>\n",
       "      <td>1.951400e+10</td>\n",
       "      <td>1.977290e+10</td>\n",
       "      <td>6.980000e+07</td>\n",
       "      <td>6.450</td>\n",
       "      <td>18.716925</td>\n",
       "    </tr>\n",
       "    <tr>\n",
       "      <th>2</th>\n",
       "      <td>Estados Unidos</td>\n",
       "      <td>4.649480e+10</td>\n",
       "      <td>1.691680e+10</td>\n",
       "      <td>3.479240e+10</td>\n",
       "      <td>5.170</td>\n",
       "      <td>9.116973</td>\n",
       "    </tr>\n",
       "    <tr>\n",
       "      <th>3</th>\n",
       "      <td>França</td>\n",
       "      <td>4.091480e+10</td>\n",
       "      <td>9.762800e+09</td>\n",
       "      <td>6.657170e+10</td>\n",
       "      <td>5.460</td>\n",
       "      <td>41.788059</td>\n",
       "    </tr>\n",
       "    <tr>\n",
       "      <th>4</th>\n",
       "      <td>Rússia</td>\n",
       "      <td>1.504420e+10</td>\n",
       "      <td>6.605900e+09</td>\n",
       "      <td>7.741200e+09</td>\n",
       "      <td>0.065</td>\n",
       "      <td>6.862873</td>\n",
       "    </tr>\n",
       "  </tbody>\n",
       "</table>\n",
       "</div>"
      ],
      "text/plain": [
       "             País  Consumo Total 15 anos(L)  Importação Total 15 anos(L)  \\\n",
       "0        Alemanha              3.010620e+10                 2.226990e+10   \n",
       "1     Reino Unido              1.951400e+10                 1.977290e+10   \n",
       "2  Estados Unidos              4.649480e+10                 1.691680e+10   \n",
       "3          França              4.091480e+10                 9.762800e+09   \n",
       "4          Rússia              1.504420e+10                 6.605900e+09   \n",
       "\n",
       "   Produção Total 15 anos(L)  Cotação em Real  \\\n",
       "0               1.314530e+10            5.460   \n",
       "1               6.980000e+07            6.450   \n",
       "2               3.479240e+10            5.170   \n",
       "3               6.657170e+10            5.460   \n",
       "4               7.741200e+09            0.065   \n",
       "\n",
       "   Consumo Per Capita Média por ano(L)  \n",
       "0                            23.955426  \n",
       "1                            18.716925  \n",
       "2                             9.116973  \n",
       "3                            41.788059  \n",
       "4                             6.862873  "
      ]
     },
     "execution_count": 85,
     "metadata": {},
     "output_type": "execute_result"
    }
   ],
   "source": [
    "# Criação da coluna de Consumo Per Capita Média por ano(L)\n",
    "dados_externos['Consumo Per Capita Média por ano(L)'] = (dados_externos['Consumo Total 15 anos(L)'] / 15) / dados_externos['População']\n",
    "# Exclusão da coluna População \n",
    "dados_externos.drop('População',axis=1,inplace = True)\n",
    "# Visualização do Dataframe de Dados Externos finalizado \n",
    "dados_externos.head()"
   ]
  },
  {
   "cell_type": "code",
   "execution_count": 86,
   "id": "cd43ec8f",
   "metadata": {},
   "outputs": [
    {
     "data": {
      "text/html": [
       "<div>\n",
       "<style scoped>\n",
       "    .dataframe tbody tr th:only-of-type {\n",
       "        vertical-align: middle;\n",
       "    }\n",
       "\n",
       "    .dataframe tbody tr th {\n",
       "        vertical-align: top;\n",
       "    }\n",
       "\n",
       "    .dataframe thead th {\n",
       "        text-align: right;\n",
       "    }\n",
       "</style>\n",
       "<table border=\"1\" class=\"dataframe\">\n",
       "  <thead>\n",
       "    <tr style=\"text-align: right;\">\n",
       "      <th></th>\n",
       "      <th>Continente</th>\n",
       "      <th>País</th>\n",
       "      <th>Categoria</th>\n",
       "      <th>Ano</th>\n",
       "      <th>Quantidade(L)</th>\n",
       "    </tr>\n",
       "  </thead>\n",
       "  <tbody>\n",
       "    <tr>\n",
       "      <th>225</th>\n",
       "      <td>Africa</td>\n",
       "      <td>Angola</td>\n",
       "      <td>Consumo</td>\n",
       "      <td>2008</td>\n",
       "      <td>116000000.0</td>\n",
       "    </tr>\n",
       "    <tr>\n",
       "      <th>226</th>\n",
       "      <td>Africa</td>\n",
       "      <td>Angola</td>\n",
       "      <td>Exportação</td>\n",
       "      <td>2008</td>\n",
       "      <td>0.0</td>\n",
       "    </tr>\n",
       "    <tr>\n",
       "      <th>227</th>\n",
       "      <td>Africa</td>\n",
       "      <td>Angola</td>\n",
       "      <td>Importação</td>\n",
       "      <td>2008</td>\n",
       "      <td>116000000.0</td>\n",
       "    </tr>\n",
       "    <tr>\n",
       "      <th>228</th>\n",
       "      <td>Africa</td>\n",
       "      <td>Angola</td>\n",
       "      <td>Produção</td>\n",
       "      <td>2008</td>\n",
       "      <td>0.0</td>\n",
       "    </tr>\n",
       "    <tr>\n",
       "      <th>229</th>\n",
       "      <td>Africa</td>\n",
       "      <td>Angola</td>\n",
       "      <td>Consumo</td>\n",
       "      <td>2009</td>\n",
       "      <td>79800000.0</td>\n",
       "    </tr>\n",
       "  </tbody>\n",
       "</table>\n",
       "</div>"
      ],
      "text/plain": [
       "    Continente    País   Categoria   Ano  Quantidade(L)\n",
       "225     Africa  Angola     Consumo  2008    116000000.0\n",
       "226     Africa  Angola  Exportação  2008            0.0\n",
       "227     Africa  Angola  Importação  2008    116000000.0\n",
       "228     Africa  Angola    Produção  2008            0.0\n",
       "229     Africa  Angola     Consumo  2009     79800000.0"
      ]
     },
     "execution_count": 86,
     "metadata": {},
     "output_type": "execute_result"
    }
   ],
   "source": [
    "# Visualização dos dados dos 40 maiores importadores ao longo dos 15 anos \n",
    "mercado_top40.head()"
   ]
  },
  {
   "cell_type": "markdown",
   "id": "c14ba3df",
   "metadata": {},
   "source": [
    "# 6. Análise dos Dados"
   ]
  },
  {
   "cell_type": "markdown",
   "id": "4e2930f8",
   "metadata": {},
   "source": [
    "Nesta seção, analisaremos os dados dos DataFrames tratados anteriormente com o objetivo de obter insights que possam orientar melhorias nas exportações de vinhos do Brasil para o resto do mundo.\n",
    "\n",
    "Para auxiliar na análise, definiremos uma função que estabelece um padrão de apresentação dos dados nos gráficos."
   ]
  },
  {
   "cell_type": "code",
   "execution_count": 87,
   "id": "6b4af05d",
   "metadata": {},
   "outputs": [],
   "source": [
    "# criando um função de costumização para usar nos graficos verticais\n",
    "def grafico_vertical(ax,valor,titulo):\n",
    "    # Removendo a caixa ao redor do gráfico\n",
    "    ax.spines['top'].set_visible(False)\n",
    "    ax.spines['right'].set_visible(False)\n",
    "    ax.spines['left'].set_visible(False)\n",
    "    ax.spines['bottom'].set_visible(False)\n",
    "    # Ajustando a altura do eixo y\n",
    "    ax.set_ylim(0, valor.max() * 1.1)  # aumenta o limite superior e inferior em 10%\n",
    "    #removendo o tick do eixo x\n",
    "    ax.xaxis.set_ticks_position('none')\n",
    "    # Removendo o label do eixo y\n",
    "    ax.set_ylabel('',fontsize=10)\n",
    "    # Removendo o label do eixo x\n",
    "    ax.set_xlabel('',fontsize=10)\n",
    "    # Removendo os valores do eixo y\n",
    "    ax.yaxis.set_ticks([])  # Remove as marcações do eixo y\n",
    "    ax.yaxis.set_ticklabels([])  # Remove os rótulos do eixo y\n",
    "    # Ajustando o tamanho das fontes dos ticks\n",
    "    ax.tick_params(axis='both', which='major', labelsize=10)\n",
    "    # Definindo o título do gráfico em negrito e tamanho 12\n",
    "    ax.set_title(titulo, fontweight='bold', fontsize=12)\n",
    "    # ajustando as porporções\n",
    "    plt.tight_layout()\n"
   ]
  },
  {
   "cell_type": "code",
   "execution_count": 88,
   "id": "2b25b129",
   "metadata": {},
   "outputs": [],
   "source": [
    "# criando um função de costumização para usar nos graficos horizontais\n",
    "def grafico_horizontal(ax,valor,titulo):\n",
    "    # Removendo a caixa ao redor do gráfico\n",
    "    ax.spines['top'].set_visible(False)\n",
    "    ax.spines['right'].set_visible(False)\n",
    "    ax.spines['left'].set_visible(False)\n",
    "    ax.spines['bottom'].set_visible(False)\n",
    "    # Ajustando a altura do eixo y\n",
    "    ax.set_xlim(0, valor.max() * 1.1)  # aumenta o limite superior em 10%\n",
    "    #removendo o tick do eixo y\n",
    "    ax.yaxis.set_ticks_position('none')\n",
    "    # Removendo o label do eixo y\n",
    "    ax.set_ylabel('',fontsize=10)\n",
    "    # Removendo o label do eixo x\n",
    "    ax.set_xlabel('',fontsize=10)\n",
    "    # Removendo os valores do eixo y\n",
    "    ax.xaxis.set_ticks([])  # Remove as marcações do eixo x\n",
    "    ax.xaxis.set_ticklabels([])  # Remove os rótulos do eixo x\n",
    "    # Ajustando o tamanho das fontes dos ticks\n",
    "    ax.tick_params(axis='both', which='major', labelsize=10)\n",
    "    # Definindo o título do gráfico em negrito e tamanho 12\n",
    "    ax.set_title(titulo, fontweight='bold', fontsize=12)\n",
    "    # ajustando as porporções\n",
    "    plt.tight_layout()"
   ]
  },
  {
   "cell_type": "markdown",
   "id": "b0ccb8bf",
   "metadata": {},
   "source": [
    "## 6.1 Análise dos Dados de Produção e Comercio"
   ]
  },
  {
   "cell_type": "markdown",
   "id": "56aa36d9",
   "metadata": {},
   "source": [
    "### 6.1.1 Produção de Vinhos no Brasil"
   ]
  },
  {
   "cell_type": "markdown",
   "id": "8f50f9b6",
   "metadata": {},
   "source": [
    "A produção vinícola no Brasil nos últimos 15 anos, produziu cerca de 3,87 bilhões de litros de vinhos, com uma média de 230 milhões de litros produzidos por ano. Dos 3,87 bilhões produzidos, 3,23 bilhões foram vinhos de mesa e 630 milhões (aproximadamente 17%) em vinho fino."
   ]
  },
  {
   "cell_type": "code",
   "execution_count": 89,
   "id": "65a604cc",
   "metadata": {},
   "outputs": [],
   "source": [
    "# Como o intuito é apenas a analise da producao de vinhos \n",
    "producao_vinhos = producao[(producao['Categoria'] == 'vinho mesa') | (producao['Categoria'] == 'vinho fino vinífera')]"
   ]
  },
  {
   "cell_type": "code",
   "execution_count": 90,
   "id": "4fd0ebb6",
   "metadata": {},
   "outputs": [],
   "source": [
    "# calculando a quantidade de vinhos produzidas \n",
    "quantidade_produzida = producao_vinhos.groupby('Categoria')['Total_Produzido'].sum()\n",
    "# ordenando os valores em ordem decrescente\n",
    "quantidade_produzida.sort_values(ascending=False,inplace = True)\n",
    "# dividindo os valores por bilhão para ficar melhor a visualização\n",
    "quantidade_produzida = quantidade_produzida / 1_000_000_000"
   ]
  },
  {
   "cell_type": "code",
   "execution_count": 91,
   "id": "4848a8fd",
   "metadata": {},
   "outputs": [
    {
     "data": {
      "image/png": "[encoded data removed]",
      "text/plain": [
       "<Figure size 300x300 with 1 Axes>"
      ]
     },
     "metadata": {},
     "output_type": "display_data"
    }
   ],
   "source": [
    "# definindo o tamanho da figura\n",
    "plt.figure(figsize=(3,3))\n",
    "# criando o grafico de quantidade de vinhos produzida\n",
    "ax = sns.barplot(x = quantidade_produzida.index,y = quantidade_produzida.values, color = '#118DFF')\n",
    "# criando rotulo de dados no grafico \n",
    "for p in ax.patches:\n",
    "    ax.annotate(f'{p.get_height():.2f} Bi',\n",
    "                (p.get_x() + p.get_width() / 2., p.get_height()),\n",
    "                ha='center', va='center', xytext=(0, 10),\n",
    "                textcoords='offset points')\n",
    "# adicionando o titulo no grafico \n",
    "grafico_vertical(ax,quantidade_produzida,'Vinhos mais Produzidos (em Litros)')\n"
   ]
  },
  {
   "cell_type": "markdown",
   "id": "7da72ab2",
   "metadata": {},
   "source": [
    "A produção durante esses 15 anos teve uma média de 230 milhões de litros vendidos por ano, porém\n",
    "com alguns pontos de instabilidade da produção vinícola.\n",
    "\n",
    "Isso se deve a muitos fatores externos que podem atrapalhar a produção dos vinhos, como a\n",
    "instabilidade climática e crises financeiras no país."
   ]
  },
  {
   "cell_type": "code",
   "execution_count": 92,
   "id": "c9dc9c65",
   "metadata": {},
   "outputs": [],
   "source": [
    "# criando uma variavel para analisar a produção de vinhos por ano \n",
    "producao_por_ano = producao_vinhos.groupby('Ano')['Total_Produzido'].sum()\n",
    "# dividindo o valor por milhão para facilitar a vizualização \n",
    "producao_por_ano = producao_por_ano / 1_000_000\n",
    "#criando um dataframe \n",
    "producao_por_ano = producao_por_ano.reset_index()\n",
    "# criando uma coluna com a Média\n",
    "producao_por_ano['Média'] = producao_por_ano['Total_Produzido'].mean()\n",
    "# Arredondando os valores\n",
    "producao_por_ano = producao_por_ano.round(0)\n"
   ]
  },
  {
   "cell_type": "code",
   "execution_count": 93,
   "id": "250aab23",
   "metadata": {},
   "outputs": [
    {
     "data": {
      "image/png": "[encoded data removed]",
      "text/plain": [
       "<Figure size 1200x500 with 1 Axes>"
      ]
     },
     "metadata": {},
     "output_type": "display_data"
    }
   ],
   "source": [
    "\n",
    "#criando o grafico 1 \n",
    "plt.figure(figsize=(12,5))\n",
    "ax = sns.barplot(data = producao_por_ano, x =  'Ano', y = 'Total_Produzido' ,color = '#118DFF' )\n",
    "# criando rotulo de dados no grafico \n",
    "for p in ax.patches:\n",
    "    ax.annotate(f'{p.get_height():.0f} Mi',\n",
    "                (p.get_x() + p.get_width() / 2., p.get_height()),\n",
    "                ha='center', va='center', xytext=(0, 10),\n",
    "                textcoords='offset points')\n",
    "\n",
    "# criando o grafico 2 \n",
    "sns.lineplot(data = producao_por_ano, x =  'Ano', y = 'Média' ,color = 'orange', marker = 'o',linestyle = '--')\n",
    "\n",
    "\n",
    "# Adicionando legendas para cada gráfico\n",
    "line = plt.Line2D([], [], color='orange', marker='o', linestyle='--', label='Media Produção')\n",
    "bar = plt.Rectangle((0, 0), 1, 1, fc='#118DFF', edgecolor='none', label='Produção')\n",
    "plt.legend(handles=[line, bar], loc='upper right')\n",
    "# chamando nossa função de grafico \n",
    "grafico_vertical(ax,producao_por_ano['Total_Produzido'],'Produção por ano (em Litros)')\n",
    "plt.show()\n"
   ]
  },
  {
   "cell_type": "markdown",
   "id": "c48934bf",
   "metadata": {},
   "source": [
    "Em 2016, tanto no Brasil quanto na Europa, houve uma grande instabilidade climática, com uma queda\n",
    "de 56% na produção. No Rio Grande do Sul, nossa maior fonte de produção de vinho, ocorreu o que\n",
    "chamam de fenômeno “El Niño” que afetou o clima com chuvas muito intensas e frio excessivo.\n",
    "Em 2019 ocorreu outra crise climática que afetou muito a produção de vinho, menor do que ocorreu\n",
    "em 2016, mas ainda assim afetou em 30% a produção produzindo cerca de 182 milhões de litros.\n",
    "Em 2020 teve uma produção ainda menor mundialmente, pois com a pandemia, praticamente toda a\n",
    "produção de cultivo, não somentes dos vinhos foi afetada, com aproximadamente 157 milhões de\n",
    "litros produzidos nacionalmente."
   ]
  },
  {
   "cell_type": "markdown",
   "id": "318683f2",
   "metadata": {},
   "source": [
    "Mas vale o destaque para os anos de 2008, 2011 e 2017 que a produção esteve igual ou superior a 300\n",
    "milhões de litros produzidos.\n",
    "\n",
    "Isso se deve a fatores que grandes centros de produções de vinho europeus estavam em crise nesses\n",
    "anos e o mercado necessitando de vinhos, esses países acabaram importando vinhos brasileiros e\n",
    "demandou que a nossa produção fosse aumentando para aguentar a demanda.\n"
   ]
  },
  {
   "cell_type": "code",
   "execution_count": 94,
   "id": "78a981e2",
   "metadata": {},
   "outputs": [],
   "source": [
    "# calculando a produção entre 2008 e 2015\n",
    "producao_2008_2015 =  (producao_vinhos.groupby('Ano')['Total_Produzido'].sum()[:8].sum() / 1_000_000_000).round(1)\n",
    "# calculando a produção entre 2016 e 2022\n",
    "producao_2016_2022 =  (producao_vinhos.groupby('Ano')['Total_Produzido'].sum()[8:].sum() / 1_000_000_000).round(1)\n",
    "# criando um dataframe com esse intervalo \n",
    "intervalo = {'2008 - 2015': producao_2008_2015, '2016 - 2022': producao_2016_2022} \n",
    "df_intervalo = pd.DataFrame(list(intervalo.items()),columns =['Periodo','Valor'])\n",
    "\n"
   ]
  },
  {
   "cell_type": "code",
   "execution_count": 95,
   "id": "7044abae",
   "metadata": {},
   "outputs": [
    {
     "data": {
      "image/png": "[encoded data removed]",
      "text/plain": [
       "<Figure size 300x300 with 1 Axes>"
      ]
     },
     "metadata": {},
     "output_type": "display_data"
    }
   ],
   "source": [
    "# definindo o tamanho da figura\n",
    "plt.figure(figsize=(3,3))\n",
    "# criando o grafico do período\n",
    "grafico_periodo = sns.barplot(data = df_intervalo , x = 'Periodo', y = 'Valor',color = '#118DFF')\n",
    "# adicionando o rotulo de dados\n",
    "for p in grafico_periodo.patches:\n",
    "    grafico_periodo.annotate(f'{p.get_height():.1f} Bi',\n",
    "                (p.get_x() + p.get_width() / 2., p.get_height()),\n",
    "                ha='center', va='center', xytext=(0, 10),\n",
    "                textcoords='offset points')\n",
    "# chamando a função que costumiza o gráfico\n",
    "grafico_vertical(grafico_periodo,df_intervalo['Valor'],'Produção por ano')\n",
    "# exibindo o gráfico \n",
    "plt.show()"
   ]
  },
  {
   "cell_type": "markdown",
   "id": "600ae93c",
   "metadata": {},
   "source": [
    "Entre 2008 e 2015 a produção teve uma produção de 2,09 bilhoes de litros e uma média de 261\n",
    "milhões de litros produzidos por ano, sendo uma das melhores fases de produção do Brasil. Contudo\n",
    "nos 7 anos seguintes 2016 até 2022, a produção teve uma queda de 30% e 1,46 bilhões de litros\n",
    "produzidos, com médias de 208 milhões de litros produzidos por ano."
   ]
  },
  {
   "cell_type": "code",
   "execution_count": 96,
   "id": "094a3bbb",
   "metadata": {},
   "outputs": [],
   "source": [
    "estados = {\n",
    "    'Rio Grande do Sul': 46.97,\n",
    "    'São Paulo': 8.44,\n",
    "    'Pernambuco': 8.26,\n",
    "    'Paraná': 4.00,\n",
    "    'Bahia': 2.07,\n",
    "    'Minas Gerais': 1.35,\n",
    "    'Espírito Santo': 0.20,\n",
    "    'Paraíba': 0.11,\n",
    "    'Goiás': 0.11,\n",
    "    'Distrito Federal': 0.06\n",
    "}\n",
    "\n",
    "area = pd.DataFrame(list(estados.items()), columns=['Estado', 'Area'])\n"
   ]
  },
  {
   "cell_type": "code",
   "execution_count": 97,
   "id": "83e8af18",
   "metadata": {},
   "outputs": [
    {
     "data": {
      "image/png": "[encoded data removed]",
      "text/plain": [
       "<Figure size 1200x400 with 1 Axes>"
      ]
     },
     "metadata": {},
     "output_type": "display_data"
    }
   ],
   "source": [
    "# modificando o tamanho da figura\n",
    "plt.figure(figsize=(12,4))\n",
    "# criando o gráfico\n",
    "grafico_area = sns.barplot(data = area , x = 'Estado' , y = 'Area', color = '#E66C37')\n",
    "# adicionando o rotulo de dados\n",
    "for p in grafico_area.patches:\n",
    "    grafico_area.annotate(f'{p.get_height():.2f} Mil',\n",
    "                (p.get_x() + p.get_width() / 2., p.get_height()),\n",
    "                ha='center', va='center', xytext=(0, 10),\n",
    "                textcoords='offset points')\n",
    "# chamando a função que costumiza o gráfico\n",
    "grafico_vertical(grafico_area,area['Area'],'Área por Estado (em Hectares)')\n",
    "# exibindo o grafico\n",
    "plt.show()"
   ]
  },
  {
   "cell_type": "markdown",
   "id": "a311b257",
   "metadata": {},
   "source": [
    "O Brasil em 2022 possui um total de 75,5 mil hecatres destinados a produção de vinhos.\n",
    "O Rio Grande do Sul é responsável por 60% desses hectares com um pouco mais de 46 mil hectares\n",
    "logo em seguida vem São Paulo e Pernambuco com um pouco mais de 8 mil hectares"
   ]
  },
  {
   "cell_type": "markdown",
   "id": "1f9bc913",
   "metadata": {},
   "source": [
    "Essa concentração no Rio Grande do Sul vem de muitos fatores climáticos que ajudam na produção\n",
    "de vinho.\n",
    "\n",
    "Para um bom cultivo do vinho é necessário alguns fatores:\n",
    "- Temperaturas entre 20°C e 25°C\n",
    "- Solo úmido e aerado\n",
    "- Altitude entre 300m ate 2000m\n",
    "- entre outros"
   ]
  },
  {
   "cell_type": "markdown",
   "id": "289c2633",
   "metadata": {},
   "source": [
    "### 6.1.2 Comércio de Vinhos no Brasil"
   ]
  },
  {
   "cell_type": "code",
   "execution_count": 98,
   "id": "aabb96ec",
   "metadata": {},
   "outputs": [],
   "source": [
    "comercio_vinhos  = comercio[(comercio['Categoria'] == 'vinho mesa') | (comercio['Categoria'] == 'vinho fino vinífera')]\n"
   ]
  },
  {
   "cell_type": "code",
   "execution_count": 99,
   "id": "7bbe7f7b",
   "metadata": {},
   "outputs": [],
   "source": [
    "# calculando o total comercializado de vinhos por tipo\n",
    "quantidade_comercializada = comercio_vinhos.groupby('Categoria')['Total_Comercializado'].sum()\n",
    "# ordenando os valores em ordem decrescente\n",
    "quantidade_comercializada.sort_values(ascending=False,inplace = True)\n",
    "# dividindo os valores por bilhão para ficar melhor a visualização\n",
    "quantidade_comercializada = quantidade_comercializada / 1_000_000_000"
   ]
  },
  {
   "cell_type": "code",
   "execution_count": 100,
   "id": "901722aa",
   "metadata": {},
   "outputs": [
    {
     "data": {
      "image/png": "[encoded data removed]",
      "text/plain": [
       "<Figure size 300x300 with 1 Axes>"
      ]
     },
     "metadata": {},
     "output_type": "display_data"
    }
   ],
   "source": [
    "# definindo o tamanho da figura\n",
    "plt.figure(figsize=(3,3))\n",
    "# criando o grafico de quantidade de vinhos produzida\n",
    "ax = sns.barplot(x = quantidade_comercializada.index,y = quantidade_comercializada.values, color = '#2AA60F')\n",
    "# criando rotulo de dados no grafico \n",
    "for p in ax.patches:\n",
    "    ax.annotate(f'{p.get_height():.2f} Bi',\n",
    "                (p.get_x() + p.get_width() / 2., p.get_height()),\n",
    "                ha='center', va='center', xytext=(0, 10),\n",
    "                textcoords='offset points')\n",
    "# chamando a função de modificar o grafico\n",
    "grafico_vertical(ax,quantidade_comercializada,'Vinhos mais Comercializados')\n",
    "plt.show()"
   ]
  },
  {
   "cell_type": "markdown",
   "id": "4a96e619",
   "metadata": {},
   "source": [
    "Nos últimos 15 anos, a comercialização de vinhos brasileiros chegou a 3,37 bilhões de litros comercializados, tendo uma média de 220 milhões de litros comercializados por ano. Dos 3,37 bilhões de litros comercializados, um pouco mais de 90% vem dos vinhos de mesa, com cerca de 3,04 bilhões de litros comercializado, os outros 10% vem dos vinhos finos que contribuem com cerca de 330 milhões de litros."
   ]
  },
  {
   "cell_type": "code",
   "execution_count": 101,
   "id": "aac9ccbd",
   "metadata": {},
   "outputs": [],
   "source": [
    "# criando uma variavel para analisar a comercialização de vinhos por ano \n",
    "comercializacao_por_ano = comercio_vinhos.groupby('Ano')['Total_Comercializado'].sum()\n",
    "# dividindo o valor por milhão para facilitar a vizualização \n",
    "comercializacao_por_ano = comercializacao_por_ano / 1_000_000\n",
    "#criando um dataframe \n",
    "comercializacao_por_ano = comercializacao_por_ano.reset_index()\n",
    "# criando uma coluna com a Média\n",
    "comercializacao_por_ano['Média'] = comercializacao_por_ano['Total_Comercializado'].mean()\n",
    "# Arredondando os valores\n",
    "comercializacao_por_ano = comercializacao_por_ano.round(0)\n"
   ]
  },
  {
   "cell_type": "code",
   "execution_count": 102,
   "id": "3e7dfb54",
   "metadata": {},
   "outputs": [
    {
     "data": {
      "image/png": "[encoded data removed]",
      "text/plain": [
       "<Figure size 1200x500 with 1 Axes>"
      ]
     },
     "metadata": {},
     "output_type": "display_data"
    }
   ],
   "source": [
    "\n",
    "#criando o grafico 1 \n",
    "plt.figure(figsize=(12,5))\n",
    "grafico_comercio_ano = sns.barplot(data = comercializacao_por_ano, x =  'Ano', y = 'Total_Comercializado' ,color = '#2AA60F' )\n",
    "# criando rotulo de dados no grafico \n",
    "for p in grafico_comercio_ano.patches:\n",
    "    grafico_comercio_ano.annotate(f'{p.get_height():.0f} Mi',\n",
    "                (p.get_x() + p.get_width() / 2., p.get_height()),\n",
    "                ha='center', va='center', xytext=(0, 10),\n",
    "                textcoords='offset points')\n",
    "# criando o grafico 2 \n",
    "sns.lineplot(data = comercializacao_por_ano, x =  'Ano', y = 'Média' ,color = 'orange', marker = 'o',linestyle = '--')\n",
    "# Adicionando legendas para cada gráfico\n",
    "line = plt.Line2D([], [], color='orange', marker='o', linestyle='--', label='Média Comercialização')\n",
    "bar = plt.Rectangle((0, 0), 1, 1, fc='#2AA60F', edgecolor='none', label='Comercializado')\n",
    "plt.legend(handles=[line, bar], loc='upper right')\n",
    "# chamando nossa função de grafico \n",
    "grafico_vertical(grafico_comercio_ano,comercializacao_por_ano['Total_Comercializado'],'Comercialização por ano (em Litros)')\n",
    "plt.show()"
   ]
  },
  {
   "cell_type": "markdown",
   "id": "31aaa2c9",
   "metadata": {},
   "source": [
    "A comercialização dos vinhos brasileiros nesses 15 anos tiveram uma média de 220 milhões de litros comercializados por ano, não foram tão instáveis quanto a produção, e nos anos em que não alcançaram a média, os valores foram bem próximo de atingir.\n",
    "\n",
    "O ano de 2016 foi o pior tanto em quesito de produção como de comercialização e nesse caso impactou bastante não só no ano em que ocorreu como nos anos seguintes. Como citado anteriormente, a mudança climática extrema foi o principal influenciador nessa queda dos vinhos, que além de afetar a produção deles, também afeta a disponibilidade deles no mercado e o aumento do valor dos vinhos em quase 30% no ano de 2016 afetou o seu rendimento até sua normalização em 2020.\n",
    "\n",
    "Em 2020 que houve o contra ponto entre a produção e comércio, pelo fato da pandemia e a necessitade de ficar em casa, a produção teve uma queda, porém a comercialização teve um aumento de quase 25% relacionada ao ano anterior e isso vem de fatores como a otimização da entrega dos vinhos com o e-commerce, a procura maior das pessoas em entender melhor sobre os vinhos e buscarem experimentar."
   ]
  },
  {
   "cell_type": "code",
   "execution_count": 103,
   "id": "091070f0",
   "metadata": {},
   "outputs": [],
   "source": [
    "# calculando a comercialização entre 2008 e 2015\n",
    "comercio_2008_2015 =  (comercio_vinhos.groupby('Ano')['Total_Comercializado'].sum()[:8].sum() / 1_000_000_000)\n",
    "# calculando a comercialização entre 2016 e 2022\n",
    "comercio_2016_2022 =  (comercio_vinhos.groupby('Ano')['Total_Comercializado'].sum()[8:].sum() / 1_000_000_000)\n",
    "# criando um dataframe com esse intervalo \n",
    "intervalo_comercio = {'2008 - 2015': comercio_2008_2015, '2016 - 2022': comercio_2016_2022} \n",
    "df_intervalo_comercio = pd.DataFrame(list(intervalo_comercio.items()),columns =['Periodo','Valor'])\n"
   ]
  },
  {
   "cell_type": "code",
   "execution_count": 104,
   "id": "7b98269c",
   "metadata": {},
   "outputs": [
    {
     "data": {
      "image/png": "[encoded data removed]",
      "text/plain": [
       "<Figure size 300x300 with 1 Axes>"
      ]
     },
     "metadata": {},
     "output_type": "display_data"
    }
   ],
   "source": [
    "# definindo o tamanho da figura\n",
    "plt.figure(figsize=(3,3))\n",
    "# criando o grafico do período\n",
    "grafico_periodo_comercio = sns.barplot(data = df_intervalo_comercio , x = 'Periodo', y = 'Valor',color = '#2AA60F')\n",
    "# adicionando o rotulo de dados\n",
    "for p in grafico_periodo_comercio.patches:\n",
    "    grafico_periodo_comercio.annotate(f'{p.get_height():.2f} Bi',\n",
    "                (p.get_x() + p.get_width() / 2., p.get_height()),\n",
    "                ha='center', va='center', xytext=(0, 10),\n",
    "                textcoords='offset points')\n",
    "# chamando a função que costumiza o gráfico\n",
    "grafico_vertical(grafico_periodo_comercio,df_intervalo_comercio['Valor'],'Comercialização por ano (em Litros)')\n",
    "# exibindo o gráfico \n",
    "plt.show()"
   ]
  },
  {
   "cell_type": "markdown",
   "id": "11020cd6",
   "metadata": {},
   "source": [
    "Fazendo a mesma comparação feita em produção, o intervalo de 2008 até 2015 de comercialização teve 1,92 bilhões de litros comercializados e uma média de 240 milhões de litros por ano. Já no período de 2016 até 2022 teve 1,45 bilhões de litros comercializados e uma média de 207 milhões de litros, uma queda de um pouco mais de 25%."
   ]
  },
  {
   "cell_type": "markdown",
   "id": "879bbde6",
   "metadata": {},
   "source": [
    "## 6.2 Análise dos Dados de Importação e Exportação "
   ]
  },
  {
   "cell_type": "markdown",
   "id": "9565db51",
   "metadata": {},
   "source": [
    "### 6.2.1 Análise dos Dados de Importação "
   ]
  },
  {
   "cell_type": "code",
   "execution_count": 105,
   "id": "8f2cc167",
   "metadata": {},
   "outputs": [
    {
     "name": "stdout",
     "output_type": "stream",
     "text": [
      "Total Importado em Dolares(US$) :4.42 Bilhões\n",
      "Total Importado em Litros :1.42 Bilhões\n"
     ]
    }
   ],
   "source": [
    "# Calculando a quantidade total importada\n",
    "total_importado = importacao_exportacao['Quantidade Importada(Kg)'].sum() / 1_000_000_000\n",
    "# Calculando o valor total importado\n",
    "total_importado_valor = importacao_exportacao['Valor Importado(US$)'].sum() / 1_000_000_000\n",
    "# imprimindo o valor total importado\n",
    "print(f'Total Importado em Dolares(US$) :{total_importado_valor.round(2)} Bilhões')\n",
    "# imprimindo a quantidade total importada\n",
    "print(f'Total Importado em Litros :{total_importado.round(2)} Bilhões')\n"
   ]
  },
  {
   "cell_type": "markdown",
   "id": "85c1e59d",
   "metadata": {},
   "source": [
    "Durante o período analisado (2008-2022), o Brasil importou 1,42 bilhões de litros de vinho,\n",
    "gerando um valor comercializado de quase 4,5 bilhões de dólares.\n"
   ]
  },
  {
   "cell_type": "code",
   "execution_count": 106,
   "id": "b01a3f32",
   "metadata": {},
   "outputs": [],
   "source": [
    "# calculando as importações ao longo dos anos\n",
    "importacao_anos = importacao_exportacao.groupby('Ano')[['Quantidade Importada(Kg)','Valor Importado(US$)']].sum()\n",
    "# dividindo tudo por 1 Milhão para facilitar a visualização no grafico \n",
    "importacao_anos = importacao_anos / 1_000_000\n",
    "# Redefinindo o índice para que 'Ano' se torne uma coluna novamente\n",
    "importacao_anos = importacao_anos.reset_index()\n"
   ]
  },
  {
   "cell_type": "code",
   "execution_count": 107,
   "id": "94d82c39",
   "metadata": {},
   "outputs": [
    {
     "data": {
      "image/png": "[encoded data removed]",
      "text/plain": [
       "<Figure size 1200x400 with 1 Axes>"
      ]
     },
     "metadata": {},
     "output_type": "display_data"
    }
   ],
   "source": [
    "# definindo o tamanho da figura\n",
    "plt.figure(figsize=(12,4))\n",
    "# Criando o gráfico de linha de valor de importação por ano\n",
    "grafico_linha_importacao_valor = sns.lineplot(data=importacao_anos, x='Ano', y='Valor Importado(US$)', marker='o', color='#136620', linewidth=3)  # Ajustando a largura da linha\n",
    "\n",
    "# Criando rótulo de dados no gráfico de valor\n",
    "for index, row in importacao_anos.iterrows():\n",
    "    plt.text(row['Ano'], row['Valor Importado(US$)'] + 15, f'{row[\"Valor Importado(US$)\"]:.0f} M', ha='center', va='bottom', fontsize=9)\n",
    "\n",
    "# Criando o gráfico de linha de quantidade de importação por ano \n",
    "grafico_linha_importacao_quantidade = sns.lineplot(data=importacao_anos, x='Ano', y='Quantidade Importada(Kg)', marker='o', color='#006EBE', linewidth=3) \n",
    "\n",
    "# Criando rótulo de dados no gráfico de quantidade\n",
    "for index, row in importacao_anos.iterrows():\n",
    "    plt.text(row['Ano'], row['Quantidade Importada(Kg)'] + 15, f'{row[\"Quantidade Importada(Kg)\"]:.0f} M', ha='center', va='bottom', fontsize=9) \n",
    "\n",
    "# Adicionando legendas para cada gráfico\n",
    "line1 = plt.Line2D([], [], color='#136620', marker='o', linestyle='--', label='Valor Importado(US$)')\n",
    "line2 = plt.Line2D([], [], color='#006EBE', marker='o', linestyle='--', label='Quantidade Importada(Kg)')\n",
    "plt.legend(handles=[line1, line2], loc='upper left')\n",
    "\n",
    "grafico_vertical(grafico_linha_importacao_valor,importacao_anos['Valor Importado(US$)'],'Importação entre 2008 e 2022')\n",
    "plt.show()"
   ]
  },
  {
   "cell_type": "markdown",
   "id": "ec1b5b43",
   "metadata": {},
   "source": [
    "A partir do gráfico acima, considerando a importação dos vinhos da série histórica de 2008 a 2022, nota-se que a importação vem **crescendo anualmente**, apesar de que em alguns casos pontuais houve retração. Apesar disso, a evolução da importação nesses 15 anos é crescente, inclusive em alguns momentos críticos como na pandemia da Covid-19 entre os anos de 2020 e 2021 que mesmo com as restrições de deslocamentos, eventos e o mercado retraído em vários setores, o Brasil importou de forma bastante acentuada, saindo de 113M de litros em 2019 para 154M de litros em 2021, um **aumento de 36,3%** em volume de litros comercializados.\n",
    "\n",
    "Após 3 anos consecutivos de aumento do volume importado, em 2022 houve uma **retração de 4,5%** em comparação ao ano anterior (2021)."
   ]
  },
  {
   "cell_type": "code",
   "execution_count": 108,
   "id": "58a08f57",
   "metadata": {},
   "outputs": [],
   "source": [
    "# calculando a importacao por país\n",
    "importacao_por_pais = importacao_exportacao.groupby('País')[['Quantidade Importada(Kg)','Valor Importado(US$)']].sum()\n",
    "# dividindo por 1 milhão \n",
    "importacao_por_pais = (importacao_por_pais / 1_000_000).round(1)\n",
    "#ordenando por quantidade e criando um dataframe por quantidade dos top 10 países\n",
    "importacao_por_pais.sort_values(by = 'Quantidade Importada(Kg)',ascending = False,inplace = True)\n",
    "importacao_por_pais_quantidade = importacao_por_pais.head(10)\n",
    "#ordenando por valor e criando um dataframe por valor dos top 10 países\n",
    "importacao_por_pais.sort_values(by = 'Valor Importado(US$)',ascending = False,inplace = True)\n",
    "importacao_por_pais_valor = importacao_por_pais.head(10)\n"
   ]
  },
  {
   "cell_type": "code",
   "execution_count": 109,
   "id": "e172ea8d",
   "metadata": {},
   "outputs": [
    {
     "data": {
      "image/png": "[encoded data removed]",
      "text/plain": [
       "<Figure size 1000x400 with 2 Axes>"
      ]
     },
     "metadata": {},
     "output_type": "display_data"
    }
   ],
   "source": [
    "# criando a figura com os dois graficos\n",
    "fig,(ax1,ax2) = plt.subplots(1,2,figsize=(10,4))\n",
    "\n",
    "#criando o grafico de valor importado\n",
    "ax1 = sns.barplot(data = importacao_por_pais_valor,x ='Valor Importado(US$)',y = 'País',color = '#136620',ax=ax1)\n",
    "# adicionando o rotulo de dados no grafico de valor importado\n",
    "for p in ax1.patches:\n",
    "    width = p.get_width()\n",
    "    ax1.annotate(f'{width:.1f} Mi',\n",
    "                 (p.get_x() + width, p.get_y() + p.get_height() / 2),\n",
    "                 ha='center', va='center', xytext=(25, 0),\n",
    "                 textcoords='offset points')\n",
    "# chamando a função de costumização para graficos na horizontal\n",
    "grafico_horizontal(ax1,importacao_por_pais_valor['Valor Importado(US$)'],'Top 10 Países que mais importaram (US$)')\n",
    "\n",
    "\n",
    "#criando o grafico de quantidade importada\n",
    "ax2 = sns.barplot(data = importacao_por_pais_quantidade,x ='Quantidade Importada(Kg)',y = 'País',color = '#12239E',ax=ax2)\n",
    "# adicionando o rotulo de dados no grafico de quantidade importada\n",
    "for p in ax2.patches:\n",
    "    width = p.get_width()\n",
    "    ax2.annotate(f'{width:.1f} Mi',\n",
    "                 (p.get_x() + width, p.get_y() + p.get_height() / 2),\n",
    "                 ha='center', va='center', xytext=(25, 0),\n",
    "                 textcoords='offset points')\n",
    "# chamando a função de costumização para graficos na horizontal\n",
    "grafico_horizontal(ax2,importacao_por_pais_quantidade['Quantidade Importada(Kg)'],'Top 10 Países que mais importaram (Litros)')\n"
   ]
  },
  {
   "cell_type": "markdown",
   "id": "6df29596",
   "metadata": {},
   "source": [
    "Os três principais países que o Brasil mais importou foram Chile, Argentina e Portugal, sendo **Chile a principal fonte de importação de vinhos para o Brasil**, com aproximadamente 2,5 vezes a quantidade vendida para o segundo colocado (Argentina). Representando uma venda de quase 1.8 bilhões de dólares, ou seja, aproximadamente 40% da importação de vinhos brasileiros são importados dos chilenos.\n",
    "\n",
    "Ponto a se observar relativo a precificação dos produtos: para os países da França e Espanha, nota-se que a importação em quantidade de litros realizada da Espanha (61,9M) é superior ao da França (61,2M), mas em valor, a França (US$ 337,2M) supera a Espanha (US$ 210,9M), uma diferença considerável, mostrando que existe possibilidade de uma melhor arrecadação e posicionamento de preços para os espanhóis. Isso fica claro no gráfico abaixo quando é analisado o valor por litro.\n"
   ]
  },
  {
   "cell_type": "code",
   "execution_count": 110,
   "id": "596d696a",
   "metadata": {},
   "outputs": [],
   "source": [
    "top_importacao_por_pais = importacao_por_pais.head(10)\n",
    "# criando a coluna de valor do litro importado\n",
    "top_importacao_por_pais['Valor do Litro Importado (US$)'] = top_importacao_por_pais['Valor Importado(US$)'] / top_importacao_por_pais['Quantidade Importada(Kg)']\n",
    "# substituindo os valores 'inf' e '-inf' por NaN\n",
    "top_importacao_por_pais.replace([np.inf, -np.inf], np.nan, inplace=True)\n",
    "# substituindo os valores NaN por 0\n",
    "top_importacao_por_pais.fillna(0,inplace=True)\n",
    "# ordenando os valores de forma decrescente pelo valor do litro\n",
    "top_importacao_por_pais.sort_values(by='Valor do Litro Importado (US$)',ascending=False,inplace=True)\n",
    "# criando um dataframe com o Top10 de valor do litro importado\n",
    "valor_por_litro_importado = top_importacao_por_pais.head(10)"
   ]
  },
  {
   "cell_type": "code",
   "execution_count": 111,
   "id": "88e09680",
   "metadata": {},
   "outputs": [
    {
     "data": {
      "image/png": "[encoded data removed]",
      "text/plain": [
       "<Figure size 400x400 with 1 Axes>"
      ]
     },
     "metadata": {},
     "output_type": "display_data"
    }
   ],
   "source": [
    "# definindo o tamanho da figura\n",
    "plt.figure(figsize=(4,4))\n",
    "# criando o grafico de valor por litro importado\n",
    "grafico_valor_por_litro_importado = sns.barplot(data = valor_por_litro_importado,x = 'Valor do Litro Importado (US$)',y= 'País',color = '#12239E')\n",
    "# adicionando o rotulo de dados no grafico de valor por litro\n",
    "for p in grafico_valor_por_litro_importado.patches:\n",
    "    width = p.get_width()\n",
    "    grafico_valor_por_litro_importado.annotate(f'$ {width:.1f}',\n",
    "                 (p.get_x() + width, p.get_y() + p.get_height() / 2),\n",
    "                 ha='center', va='center', xytext=(25, 0),\n",
    "                 textcoords='offset points')\n",
    "# chamando a função de costumização para graficos na horizontal\n",
    "grafico_horizontal(grafico_valor_por_litro_importado,valor_por_litro_importado['Valor do Litro Importado (US$)'],'Valor do Litro Importado (US$)')"
   ]
  },
  {
   "cell_type": "markdown",
   "id": "723ccee2",
   "metadata": {},
   "source": [
    "Quando observado o valor por litro importado em dólares, fica claro que existe uma diferença considerável entre França e Espanha e por conta disso, apesar de importarmos quantidades parecidas, o valor importado da França é bastante superior ao da Espanha.\n",
    "\n",
    "Destaque para o maior preço por litro que é pago da Nova Zelândia, que fica em 10º no ranking dos maiores importadores de vinhos para o Brasil"
   ]
  },
  {
   "cell_type": "markdown",
   "id": "9086149f",
   "metadata": {},
   "source": [
    "Olhando em perspectiva nacional ao longo do tempo, podemos verificar quais são os países que mais apresentaram aumento percentual tanto em quantidade importada quanto em valor importado."
   ]
  },
  {
   "cell_type": "code",
   "execution_count": 112,
   "id": "789765ad",
   "metadata": {},
   "outputs": [],
   "source": [
    "#criando o dataframe de quantidade de importacao por país e por ano\n",
    "quantidade_importacao = importacao[['País','Ano','Quantidade Importada(Kg)']]\n",
    "# substituindo os valores NaN por 0\n",
    "quantidade_importacao.fillna(0,inplace=True)\n",
    "# abrindo o dataframe por ano com o pivot\n",
    "quantidade_importacao = quantidade_importacao.pivot(index='País',columns='Ano',values='Quantidade Importada(Kg)')\n"
   ]
  },
  {
   "cell_type": "code",
   "execution_count": 113,
   "id": "f11b21ca",
   "metadata": {},
   "outputs": [],
   "source": [
    "# calculando a taxa de crescimento anual composta de importacao de vinhos para cada país(CARG Importação)\n",
    "carg_quantidade_importacao = (quantidade_importacao.iloc[:, -1] / quantidade_importacao.iloc[:, 0]) ** (1 / (quantidade_importacao.shape[1] - 1)) - 1\n",
    "# substituindo os valores 'inf' e '-inf' por NaN\n",
    "carg_quantidade_importacao.replace([np.inf, -np.inf], np.nan, inplace=True)\n",
    "# substituindo os valores NaN por 0\n",
    "carg_quantidade_importacao.fillna(0,inplace=True)\n",
    "# ordenando os países com maior CARG Producao\n",
    "carg_quantidade_importacao = carg_quantidade_importacao.sort_values(ascending=False)\n",
    "# selecionando os top 10 com maior taxa de crescimento anual composta de importação de vinho \n",
    "top10_taxa_de_importacao_quantidade = carg_quantidade_importacao.head(10)\n",
    "# transformando o valor em porcentagem \n",
    "top10_taxa_de_importacao_quantidade = (top10_taxa_de_importacao_quantidade * 100).round(2)\n",
    "# criando o dataframe\n",
    "top10_taxa_de_importacao_quantidade = pd.DataFrame(top10_taxa_de_importacao_quantidade, columns=['Taxa de Crescimento anual de Quantidade de Vinho Importada'])"
   ]
  },
  {
   "cell_type": "code",
   "execution_count": 114,
   "id": "28330648",
   "metadata": {},
   "outputs": [],
   "source": [
    "#criando o dataframe de valor de importacao por país e por ano\n",
    "valor_importacao = importacao[['País','Ano','Valor Importado(US$)']]\n",
    "# substituindo os valores NaN por 0\n",
    "valor_importacao.fillna(0,inplace=True)\n",
    "# abrindo o dataframe por ano com o pivot\n",
    "valor_importacao = valor_importacao.pivot(index='País',columns='Ano',values='Valor Importado(US$)')"
   ]
  },
  {
   "cell_type": "code",
   "execution_count": 115,
   "id": "4b06d010",
   "metadata": {},
   "outputs": [],
   "source": [
    "# calculando a taxa de crescimento anual composta de importacao de vinhos para cada país(CARG Importação)\n",
    "carg_valor_importacao = (valor_importacao.iloc[:, -1] / valor_importacao.iloc[:, 0]) ** (1 / (valor_importacao.shape[1] - 1)) - 1\n",
    "# substituindo os valores 'inf' e '-inf' por NaN\n",
    "carg_valor_importacao.replace([np.inf, -np.inf], np.nan, inplace=True)\n",
    "# substituindo os valores NaN por 0\n",
    "carg_valor_importacao.fillna(0,inplace=True)\n",
    "# ordenando os países com maior CARG Producao\n",
    "carg_valor_importacao = carg_valor_importacao.sort_values(ascending=False)\n",
    "# selecionando os top 10 com maior taxa de crescimento anual composta de importação de vinho \n",
    "top10_taxa_de_importacao_valor = carg_valor_importacao.head(10)\n",
    "# transformando o valor em porcentagem \n",
    "top10_taxa_de_importacao_valor = (top10_taxa_de_importacao_valor * 100).round(2)\n",
    "# criando o dataframe\n",
    "top10_taxa_de_importacao_valor = pd.DataFrame(top10_taxa_de_importacao_valor, columns=['Taxa de Crescimento anual de Valor de Vinho Importada'])"
   ]
  },
  {
   "cell_type": "code",
   "execution_count": 116,
   "id": "1f0166d9",
   "metadata": {},
   "outputs": [
    {
     "data": {
      "image/png": "[encoded data removed]",
      "text/plain": [
       "<Figure size 1600x500 with 2 Axes>"
      ]
     },
     "metadata": {},
     "output_type": "display_data"
    }
   ],
   "source": [
    "# criando a figura com os dois graficos\n",
    "fig,(ax1,ax2) = plt.subplots(1,2,figsize=(16,5))\n",
    "\n",
    "#criando o grafico do top 10 com maior crescimento de importação por quantidade importada\n",
    "ax1 = sns.barplot(data = top10_taxa_de_importacao_quantidade,x ='Taxa de Crescimento anual de Quantidade de Vinho Importada',y = 'País',color = '#A1343C',ax=ax1)\n",
    "# adicionando o rotulo de dados no grafico de valor importado\n",
    "for p in ax1.patches:\n",
    "    width = p.get_width()\n",
    "    ax1.annotate(f'{width:.2f} %',\n",
    "                 (p.get_x() + width, p.get_y() + p.get_height() / 2),\n",
    "                 ha='center', va='center', xytext=(-25, 0),\n",
    "                 textcoords='offset points')\n",
    "# chamando a função de costumização para graficos na horizontal\n",
    "grafico_horizontal(ax1,top10_taxa_de_importacao_quantidade['Taxa de Crescimento anual de Quantidade de Vinho Importada'],'Países com Maior Crescimento em Quantidade (Litros) Importado \\n no Mercado Brasileiro entre 2008 e 2022')\n",
    "\n",
    "\n",
    "#criando o grafico de quantidade importada\n",
    "ax2 = sns.barplot(data = top10_taxa_de_importacao_valor,x ='Taxa de Crescimento anual de Valor de Vinho Importada',y = 'País',color = '#A1343C',ax=ax2)\n",
    "# adicionando o rotulo de dados no grafico de quantidade importada\n",
    "for p in ax2.patches:\n",
    "    width = p.get_width()\n",
    "    ax2.annotate(f'{width:.2f} %',\n",
    "                 (p.get_x() + width, p.get_y() + p.get_height() / 2),\n",
    "                 ha='center', va='center', xytext=(-25, 0),\n",
    "                 textcoords='offset points')\n",
    "# chamando a função de costumização para graficos na horizontal\n",
    "grafico_horizontal(ax2,top10_taxa_de_importacao_valor['Taxa de Crescimento anual de Valor de Vinho Importada'],'Países com Maior Crescimento em Valor (US$) Importado \\n no Mercado Brasileiro entre 2008 e 2022')"
   ]
  },
  {
   "cell_type": "markdown",
   "id": "eac058d7",
   "metadata": {},
   "source": [
    "Analisando a importação de vinhos pelo Brasil ao longo do tempo, observamos que os principais países fornecedores que tiveram aumento nesses últimos 15 anos são a Espanha, seguida pelos Estados Unidos e Reino Unido em termos de quantidade importada. No entanto, ao compararmos os valores importados, percebemos uma discrepância interessante.\n",
    "\n",
    "Embora a Espanha e o Reino Unido tenham liderado em termos de volume importado, o valor por litro de seus vinhos é relativamente baixo em comparação com outros fornecedores. Isso sugere que, apesar do alto volume, os vinhos desses países têm um preço médio mais baixo, refletindo uma preferência do mercado brasileiro por opções mais acessíveis.\n",
    "\n",
    "Por outro lado, os Estados Unidos não apenas fornecem uma quantidade significativa de vinho para o Brasil, mas também mostram um aumento proporcional no valor importado. Isso indica que os vinhos americanos, apesar de seu preço mais elevado, são valorizados pelo mercado brasileiro, refletindo uma demanda por produtos de alta qualidade e maior valor agregado.\n",
    "\n",
    "Esses insights podem orientar estratégias de importação para cada mercado. Enquanto os vinhos da Espanha e Reino Unido podem ser promovidos com foco em seu bom custo-benefício e disponibilidade em grande volume, os vinhos dos Estados Unidos podem ser posicionados como produtos premium, destacando sua qualidade e exclusividade.\n",
    "\n",
    "Dessa forma, compreendendo as preferências e comportamentos do mercado brasileiro em relação aos vinhos importados, é possível ajustar as estratégias de importação para maximizar as oportunidades de crescimento e atender às demandas dos consumidores.\n",
    "\n",
    "\n",
    "\n"
   ]
  },
  {
   "cell_type": "markdown",
   "id": "e664ce08",
   "metadata": {},
   "source": [
    "### 6.2.2 Análise dos Dados de Exportação "
   ]
  },
  {
   "cell_type": "code",
   "execution_count": 117,
   "id": "5547d8f6",
   "metadata": {},
   "outputs": [],
   "source": [
    "exportacao_total_anos = importacao_exportacao.groupby('Ano')[['Quantidade Exportada(Kg)','Valor Exportado(US$)']].sum()\n",
    "exportacao_total_anos = exportacao_total_anos / 1_000_000\n",
    "exportacao_total_anos.reset_index(inplace=True)"
   ]
  },
  {
   "cell_type": "code",
   "execution_count": 118,
   "id": "49dd63e4",
   "metadata": {},
   "outputs": [
    {
     "data": {
      "image/png": "[encoded data removed]",
      "text/plain": [
       "<Figure size 1200x400 with 2 Axes>"
      ]
     },
     "metadata": {},
     "output_type": "display_data"
    }
   ],
   "source": [
    "# criando a figura com os dois graficos\n",
    "fig,(ax1,ax2) = plt.subplots(2,1,figsize=(12,4))\n",
    "#criando Exportação por quantidade \n",
    "grafico_exportacao_linha_quantidade = sns.lineplot(data = exportacao_total_anos, x = 'Ano',y ='Quantidade Exportada(Kg)',ax = ax1,color = '#0068BB',marker = 'o')\n",
    "# Criando rótulo de dados no gráfico de linha de quantidade\n",
    "for index, row in exportacao_total_anos.iterrows():\n",
    "    ax1.text(row['Ano'], row['Quantidade Exportada(Kg)'] + 2, f'{row[\"Quantidade Exportada(Kg)\"]:.2f} M', \n",
    "             ha='center', va='bottom', fontsize=9)\n",
    "# chamando a função de costumização do grafico\n",
    "grafico_vertical(grafico_exportacao_linha_quantidade,exportacao_total_anos['Quantidade Exportada(Kg)'],'Quantidade Exportada 2008 - 2022')\n",
    "\n",
    "#criando Exportação por quantidade \n",
    "grafico_exportacao_linha_valor = sns.lineplot(data = exportacao_total_anos, x = 'Ano',y ='Valor Exportado(US$)',ax = ax2,color = '#136620',marker = 'o')\n",
    "# Criando rótulo de dados no gráfico de linha de quantidade\n",
    "for index, row in exportacao_total_anos.iterrows():\n",
    "    ax2.text(row['Ano'], row['Valor Exportado(US$)'] + 1, f'$ {row[\"Valor Exportado(US$)\"]:.2f} M', \n",
    "             ha='center', va='bottom', fontsize=9)\n",
    "# chamando a função de costumização do grafico\n",
    "grafico_vertical(grafico_exportacao_linha_valor,exportacao_total_anos['Valor Exportado(US$)'],'Valor Exportada 2008 - 2022')"
   ]
  },
  {
   "cell_type": "markdown",
   "id": "70ec837a",
   "metadata": {},
   "source": [
    "Os gráficos acima mostram em numeros a quantidade de litros de vinho exportado e a quantidade de valores arrecadado por ano, desde 2008 o brasil vende mais de 400 mil litros de vinho todo ano, arrecadando em média por ano 5 milhões de dólares pelas vendas, destacasse dois pontos importantes nesta análise, os periodos de 2009 e 2013. Onde temos mudanças interessantes nos resultados.\n",
    "\n",
    "O ano de 2009 foi marcado por um aumento significativo no volume de vinho exportado pelo Brasil. No entanto, apesar do aumento nas vendas, o faturamento permaneceu abaixo do esperado. Isso pode ser atribuído a uma série de fatores, incluindo a concorrência acirrada no mercado internacional, a desvalorização da moeda brasileira e a falta de estratégias eficazes de posicionamento e marketing. Embora as exportações tenham aumentado em termos de volume, a rentabilidade foi afetada negativamente.\n",
    "\n",
    "Por outro lado, o ano de 2013 trouxe um cenário diferente. Embora as vendas tenham diminuído em comparação com o ano anterior, o faturamento aumentou significativamente. Esse fenômeno pode ser atribuído a uma série de fatores, incluindo uma estratégia de preços mais assertiva, uma maior ênfase na qualidade em vez da quantidade, e um aumento no consumo de vinho pelo principal importador do vinho brasileiro a Russia, além da valorização da moeda brasileira e uma maior conscientização sobre os vinhos brasileiros em mercados específicos também contribuíram para esse aumento no faturamento."
   ]
  },
  {
   "cell_type": "markdown",
   "id": "6849c12e",
   "metadata": {},
   "source": [
    "Analisaremos agora um caso particular de exportação que é **Brasil x Rússia**"
   ]
  },
  {
   "cell_type": "code",
   "execution_count": 119,
   "id": "7334bbba",
   "metadata": {},
   "outputs": [],
   "source": [
    "# criando o dataframe da exportação apenas da Rússia \n",
    "exportacao_russia = importacao_exportacao[importacao_exportacao['País'] == 'Rússia']\n",
    "# eliminando coluna de importação\n",
    "exportacao_russia.drop(['Quantidade Importada(Kg)','Valor Importado(US$)'],axis=1,inplace=True)\n",
    "# dividindo os valores por 1 milhão \n",
    "exportacao_russia['Quantidade Exportada(Kg)'] = exportacao_russia['Quantidade Exportada(Kg)'] / 1_000_000\n",
    "exportacao_russia['Valor Exportado(US$)'] = exportacao_russia['Valor Exportado(US$)'] / 1_000_000"
   ]
  },
  {
   "cell_type": "code",
   "execution_count": 120,
   "id": "68c14bec",
   "metadata": {},
   "outputs": [
    {
     "data": {
      "image/png": "[encoded data removed]",
      "text/plain": [
       "<Figure size 1200x300 with 1 Axes>"
      ]
     },
     "metadata": {},
     "output_type": "display_data"
    }
   ],
   "source": [
    "# criando a figura\n",
    "plt.figure(figsize = (12,3))\n",
    "# criando o grafico de quantidade\n",
    "quantidade_russia = sns.lineplot(data = exportacao_russia, x = 'Ano' ,y = 'Quantidade Exportada(Kg)', color= '#F1B951',marker='o')\n",
    "\n",
    "# Criando rótulo de dados no gráfico de quantidade da Rússia\n",
    "for index, row in exportacao_russia.iterrows():\n",
    "    plt.text(row['Ano'], row['Quantidade Exportada(Kg)'] + 1, f'{row[\"Quantidade Exportada(Kg)\"]:.0f} M', ha='center', va='bottom', fontsize=9) \n",
    "\n",
    "\n",
    "# criando o grafico de valor\n",
    "valor_russia = sns.lineplot(data = exportacao_russia, x = 'Ano' ,y = 'Valor Exportado(US$)', color= '#5E8EAC',marker='o')\n",
    "\n",
    "# Criando rótulo de dados no gráfico de valor da Rússia\n",
    "for index, row in exportacao_russia.iterrows():\n",
    "    plt.text(row['Ano'], row['Valor Exportado(US$)'] + 1, f'{row[\"Valor Exportado(US$)\"]:.0f} M', ha='center', va='bottom', fontsize=9)\n",
    "\n",
    "# Adicionando legendas para cada gráfico\n",
    "russia_quantidade = plt.Line2D([], [], color='#F1B951', marker='o', linestyle='--', label='Total de Litros')\n",
    "russia_valor = plt.Line2D([], [], color='#5E8EAC', marker='o', linestyle='--', label='Valor (US$)')\n",
    "plt.legend(handles=[russia_quantidade, russia_valor], loc='upper right') \n",
    "# chamando a função de costumização de grafico\n",
    "grafico_vertical(quantidade_russia,exportacao_russia['Quantidade Exportada(Kg)'],'Litros e Valor Exportado - Russia')\n",
    "plt.grid()\n",
    "\n"
   ]
  },
  {
   "cell_type": "markdown",
   "id": "36ce8043",
   "metadata": {},
   "source": [
    "As exportações de vinho do Brasil para a Rússia entre 2008 e 2022 passaram por diversas flutuações, refletindo mudanças nas condições econômicas globais, nas relações comerciais entre os dois países e na competitividade dos vinhos brasileiros no mercado russo.\n",
    "\n",
    "**Crescimento Inicial e pico de vendas (2008-2014)**\n",
    "\n",
    "A partir de 2008 a Russia se mostrou um forte importador do vinho brasileiro, no periodo destacado houve um crescimento gradual nas exportações de vinho Esse crescimento foi impulsionado por vários fatores:\n",
    "- Aumento da Produção e Qualidade\n",
    "- Diversificação de Mercados\n",
    "- Acordos Comerciais\n",
    "\n",
    "**Estagnação e Redução nas vendas (2014-2022)**\n",
    "\n",
    "A partir de 2014, as exportações de vinho brasileiro para a Rússia enfrentaram desafios significativos devido a uma série de fatores:\n",
    "- Crise Econômica na Rússia: A queda dos preços do petróleo e as sanções internacionais relacionadas à crise na Ucrânia afetaram a economia russa, reduzindo o poder de compra da população.\n",
    "- Sanções e Contra-Sanções: As sanções econômicas impostas à Rússia e as contra-sanções aplicadas em resposta afetaram as importações de diversos produtos, incluindo vinhos. Isso dificultou o acesso dos vinhos brasileiros ao mercado russo."
   ]
  },
  {
   "cell_type": "code",
   "execution_count": 121,
   "id": "b022b822",
   "metadata": {},
   "outputs": [],
   "source": [
    "# calculando a exportacao por país\n",
    "exportacao_por_pais = importacao_exportacao.groupby('País')[['Quantidade Exportada(Kg)','Valor Exportado(US$)']].sum()\n",
    "# dividindo por 1 milhão \n",
    "exportacao_por_pais = (exportacao_por_pais / 1_000_000).round(1)\n",
    "#ordenando por quantidade e criando um dataframe por quantidade dos top 10 países\n",
    "exportacao_por_pais.sort_values(by = 'Quantidade Exportada(Kg)',ascending = False,inplace = True)\n",
    "exportacao_por_pais_quantidade = exportacao_por_pais.head(10)\n",
    "#ordenando por valor e criando um dataframe por valor dos top 10 países\n",
    "exportacao_por_pais.sort_values(by = 'Valor Exportado(US$)',ascending = False,inplace = True)\n",
    "exportacao_por_pais_valor = exportacao_por_pais.head(10)"
   ]
  },
  {
   "cell_type": "code",
   "execution_count": 122,
   "id": "78d32d3f",
   "metadata": {},
   "outputs": [
    {
     "data": {
      "image/png": "[encoded data removed]",
      "text/plain": [
       "<Figure size 1000x400 with 2 Axes>"
      ]
     },
     "metadata": {},
     "output_type": "display_data"
    }
   ],
   "source": [
    "# criando a figura com os dois graficos\n",
    "fig,(ax1,ax2) = plt.subplots(1,2,figsize=(10,4))\n",
    "\n",
    "#criando o grafico de valor exportado\n",
    "ax1 = sns.barplot(data = exportacao_por_pais_valor,x ='Valor Exportado(US$)',y = 'País',color = '#136620',ax=ax1)\n",
    "# adicionando o rotulo de dados no grafico de valor exportado\n",
    "for p in ax1.patches:\n",
    "    width = p.get_width()\n",
    "    ax1.annotate(f'{width:.1f} Mi',\n",
    "                 (p.get_x() + width, p.get_y() + p.get_height() / 2),\n",
    "                 ha='center', va='center', xytext=(25, 0),\n",
    "                 textcoords='offset points')\n",
    "# chamando a função de costumização para graficos na horizontal\n",
    "grafico_horizontal(ax1,exportacao_por_pais_valor['Valor Exportado(US$)'],'Top 10 Países que mais Exportaram (US$)')\n",
    "\n",
    "\n",
    "#criando o grafico de quantidade exportada\n",
    "ax2 = sns.barplot(data = exportacao_por_pais_quantidade,x ='Quantidade Exportada(Kg)',y = 'País',color = '#12239E',ax=ax2)\n",
    "# adicionando o rotulo de dados no grafico de quantidade exportada\n",
    "for p in ax2.patches:\n",
    "    width = p.get_width()\n",
    "    ax2.annotate(f'{width:.1f} Mi',\n",
    "                 (p.get_x() + width, p.get_y() + p.get_height() / 2),\n",
    "                 ha='center', va='center', xytext=(25, 0),\n",
    "                 textcoords='offset points')\n",
    "# chamando a função de costumização para graficos na horizontal\n",
    "grafico_horizontal(ax2,exportacao_por_pais_quantidade['Quantidade Exportada(Kg)'],'Top 10 Países que mais Exportaram (Litros)')"
   ]
  },
  {
   "cell_type": "markdown",
   "id": "59ded77d",
   "metadata": {},
   "source": [
    "Os três principais países que mais compraram o vinho brasileiro foram Rússia, Estados Unidos e China. Tendo os Rússia como principal comprador disparado."
   ]
  },
  {
   "cell_type": "code",
   "execution_count": 123,
   "id": "97110ba5",
   "metadata": {},
   "outputs": [],
   "source": [
    "# calculando a exportacao por país para obter valor por litro\n",
    "valor_por_litro_exportado = importacao_exportacao.groupby('País')[['Quantidade Exportada(Kg)','Valor Exportado(US$)']].sum()\n",
    "#ordenando por valor exportado\n",
    "valor_por_litro_exportado.sort_values(by='Valor Exportado(US$)',ascending=False,inplace=True)\n",
    "# pegando o top 10 de valor exportado\n",
    "valor_por_litro_exportado = valor_por_litro_exportado.head(10)\n",
    "#criando a coluna de valor do litro exportado\n",
    "valor_por_litro_exportado['Valor do Litro Exportado(US$)'] = valor_por_litro_exportado['Valor Exportado(US$)'] / valor_por_litro_exportado['Quantidade Exportada(Kg)']\n",
    "# ordenando por valor do litro exportado\n",
    "valor_por_litro_exportado.sort_values(by='Valor do Litro Exportado(US$)',ascending=False,inplace=True)\n"
   ]
  },
  {
   "cell_type": "code",
   "execution_count": 124,
   "id": "377cb436",
   "metadata": {},
   "outputs": [
    {
     "data": {
      "image/png": "[encoded data removed]",
      "text/plain": [
       "<Figure size 400x400 with 1 Axes>"
      ]
     },
     "metadata": {},
     "output_type": "display_data"
    }
   ],
   "source": [
    "# definindo o tamanho da figura\n",
    "plt.figure(figsize=(4,4))\n",
    "# criando o grafico de valor por litro exportado\n",
    "grafico_valor_por_litro_exportado = sns.barplot(data = valor_por_litro_exportado,x = 'Valor do Litro Exportado(US$)',y= 'País',color = '#12239E')\n",
    "# adicionando o rotulo de dados no grafico de valor por litro\n",
    "for p in grafico_valor_por_litro_exportado.patches:\n",
    "    width = p.get_width()\n",
    "    grafico_valor_por_litro_exportado.annotate(f'$ {width:.1f}',\n",
    "                 (p.get_x() + width, p.get_y() + p.get_height() / 2),\n",
    "                 ha='center', va='center', xytext=(25, 0),\n",
    "                 textcoords='offset points')\n",
    "# chamando a função de costumização para graficos na horizontal\n",
    "grafico_horizontal(grafico_valor_por_litro_exportado,valor_por_litro_exportado['Valor do Litro Exportado(US$)'],'Valor do Litro Exportado (US$)')"
   ]
  },
  {
   "cell_type": "markdown",
   "id": "5689d0c6",
   "metadata": {},
   "source": [
    "É perceptivel a diferença quando comparamos os 3 gráficos apresentados, Apesar de não importar uma quantidade alta em litros, a Suíça, Reino Unido e Bélgica são os paises que melhor pagam pelo litro.\n",
    "\n",
    "É importante notar tambem a presença de Estados Unidos e Espanha no gráfico ao lado, mesmo comprando quantidades exorbitantes de vinho o valor por litro continua em alta, o que garente para o Brasil uma venda forte e consolidada."
   ]
  },
  {
   "cell_type": "code",
   "execution_count": 125,
   "id": "044e39fe",
   "metadata": {},
   "outputs": [],
   "source": [
    "# calculando a variação da quantidade exportada com relaão ao ano anterior\n",
    "exportacao_total_anos['Variação'] = exportacao_total_anos['Quantidade Exportada(Kg)'].pct_change() * 100\n",
    "exportacao_total_anos.fillna(0,inplace=True)\n"
   ]
  },
  {
   "cell_type": "code",
   "execution_count": 126,
   "id": "364e18a1",
   "metadata": {},
   "outputs": [
    {
     "data": {
      "text/html": [
       "<div>\n",
       "<style scoped>\n",
       "    .dataframe tbody tr th:only-of-type {\n",
       "        vertical-align: middle;\n",
       "    }\n",
       "\n",
       "    .dataframe tbody tr th {\n",
       "        vertical-align: top;\n",
       "    }\n",
       "\n",
       "    .dataframe thead tr th {\n",
       "        text-align: left;\n",
       "    }\n",
       "</style>\n",
       "<table border=\"1\" class=\"dataframe\">\n",
       "  <thead>\n",
       "    <tr>\n",
       "      <th></th>\n",
       "      <th>País de Origem</th>\n",
       "      <th>País Destino</th>\n",
       "      <th>Quantidade Exportada(L)</th>\n",
       "      <th>Valor Exportado(US$)</th>\n",
       "    </tr>\n",
       "  </thead>\n",
       "  <tbody>\n",
       "    <tr>\n",
       "      <th>0</th>\n",
       "      <td>Brasil</td>\n",
       "      <td>Rússia</td>\n",
       "      <td>39.00 Mi</td>\n",
       "      <td>25.50 Mi</td>\n",
       "    </tr>\n",
       "    <tr>\n",
       "      <th>1</th>\n",
       "      <td>Brasil</td>\n",
       "      <td>Estados Unidos</td>\n",
       "      <td>3.60 Mi</td>\n",
       "      <td>9.70 Mi</td>\n",
       "    </tr>\n",
       "    <tr>\n",
       "      <th>2</th>\n",
       "      <td>Brasil</td>\n",
       "      <td>China</td>\n",
       "      <td>2.50 Mi</td>\n",
       "      <td>4.70 Mi</td>\n",
       "    </tr>\n",
       "    <tr>\n",
       "      <th>3</th>\n",
       "      <td>Brasil</td>\n",
       "      <td>Reino Unido</td>\n",
       "      <td>1.20 Mi</td>\n",
       "      <td>4.70 Mi</td>\n",
       "    </tr>\n",
       "    <tr>\n",
       "      <th>4</th>\n",
       "      <td>Brasil</td>\n",
       "      <td>Espanha</td>\n",
       "      <td>2.00 Mi</td>\n",
       "      <td>3.80 Mi</td>\n",
       "    </tr>\n",
       "    <tr>\n",
       "      <th>5</th>\n",
       "      <td>Brasil</td>\n",
       "      <td>Japão</td>\n",
       "      <td>1.20 Mi</td>\n",
       "      <td>2.40 Mi</td>\n",
       "    </tr>\n",
       "    <tr>\n",
       "      <th>6</th>\n",
       "      <td>Brasil</td>\n",
       "      <td>Bélgica</td>\n",
       "      <td>0.40 Mi</td>\n",
       "      <td>1.40 Mi</td>\n",
       "    </tr>\n",
       "    <tr>\n",
       "      <th>7</th>\n",
       "      <td>Brasil</td>\n",
       "      <td>Uruguai</td>\n",
       "      <td>0.80 Mi</td>\n",
       "      <td>1.20 Mi</td>\n",
       "    </tr>\n",
       "    <tr>\n",
       "      <th>8</th>\n",
       "      <td>Brasil</td>\n",
       "      <td>Suíça</td>\n",
       "      <td>0.20 Mi</td>\n",
       "      <td>0.90 Mi</td>\n",
       "    </tr>\n",
       "    <tr>\n",
       "      <th>9</th>\n",
       "      <td>Brasil</td>\n",
       "      <td>França</td>\n",
       "      <td>0.30 Mi</td>\n",
       "      <td>0.70 Mi</td>\n",
       "    </tr>\n",
       "  </tbody>\n",
       "</table>\n",
       "</div>"
      ],
      "text/plain": [
       "  País de Origem    País Destino Quantidade Exportada(L) Valor Exportado(US$)\n",
       "0         Brasil          Rússia                39.00 Mi             25.50 Mi\n",
       "1         Brasil  Estados Unidos                 3.60 Mi              9.70 Mi\n",
       "2         Brasil           China                 2.50 Mi              4.70 Mi\n",
       "3         Brasil     Reino Unido                 1.20 Mi              4.70 Mi\n",
       "4         Brasil         Espanha                 2.00 Mi              3.80 Mi\n",
       "5         Brasil           Japão                 1.20 Mi              2.40 Mi\n",
       "6         Brasil         Bélgica                 0.40 Mi              1.40 Mi\n",
       "7         Brasil         Uruguai                 0.80 Mi              1.20 Mi\n",
       "8         Brasil           Suíça                 0.20 Mi              0.90 Mi\n",
       "9         Brasil          França                 0.30 Mi              0.70 Mi"
      ]
     },
     "execution_count": 126,
     "metadata": {},
     "output_type": "execute_result"
    }
   ],
   "source": [
    "# criando a tabela de exportacao\n",
    "top_exportacao_brasil = exportacao_por_pais\n",
    "# adicionando a escala de milhar nas colunas \n",
    "top_exportacao_brasil['Quantidade Exportada(Kg)'] = top_exportacao_brasil['Quantidade Exportada(Kg)'].apply(lambda x: f'{x :.2f} Mi')\n",
    "top_exportacao_brasil['Valor Exportado(US$)'] = top_exportacao_brasil['Valor Exportado(US$)'].apply(lambda x: f'{x :.2f} Mi')\n",
    "#resetando o index \n",
    "top_exportacao_brasil.reset_index(inplace=True)\n",
    "# adicionando a coluna País de Origem\n",
    "top_exportacao_brasil['País de Origem'] = 'Brasil'\n",
    "# alterando a ordem das colunas \n",
    "top_exportacao_brasil = top_exportacao_brasil.reindex(columns = ['País de Origem','País','Quantidade Exportada(Kg)','Valor Exportado(US$)'])\n",
    "# renomeando as colunas\n",
    "top_exportacao_brasil.columns = [['País de Origem','País Destino','Quantidade Exportada(L)','Valor Exportado(US$)']]\n",
    "top_exportacao_brasil.head(10)\n"
   ]
  },
  {
   "cell_type": "markdown",
   "id": "8054bc24",
   "metadata": {},
   "source": [
    "Com base nas informações disponíveis, é fundamental registrar e visualizar de maneira clara os países para os quais o Brasil mais exportou vinhos nos últimos 15 anos. Uma tabela detalhada seria uma ferramenta essencial para essa análise. Conforme identificado anteriormente, a Rússia lidera as importações em termos de quantidade e valor, seguida pelos Estados Unidos e China.\n",
    "\n",
    "Esses três países apresentam características comuns que explicam sua posição no topo do ranking de exportação de vinhos brasileiros. Tanto a Rússia, os Estados Unidos quanto a China são nações com grande extensão territorial e população significativa, fatores que impactam diretamente o volume exportado e, consequentemente, o valor dessas exportações. Além disso, esses países são potências econômicas globais, com Produto Interno Bruto (PIB) extremamente elevado em comparação com outras nações, exercendo grande influência no mercado internacional.\n",
    "\n",
    "Essas características tornam a Rússia, os Estados Unidos e a China mercados prioritários e estratégicos\n",
    "para as exportações de vinhos do Brasil, indicando não apenas uma demanda robusta, mas também a\n",
    "capacidade econômica de sustentar altos níveis de importação. Investidores devem considerar esses\n",
    "aspectos ao analisar o mercado de exportação de vinhos brasileiros, dado o potencial de crescimento e\n",
    "a estabilidade oferecida por essas economias.\n"
   ]
  },
  {
   "cell_type": "markdown",
   "id": "36545e85",
   "metadata": {},
   "source": [
    "\n",
    "# 7. Prospecção e Conclusão \n",
    "\n",
    "Avaliando os países com melhor desempenho em litros de exportação dos últimos 5 anos, chegamos no seguinte resultado:\n",
    "\n",
    "\n"
   ]
  },
  {
   "cell_type": "code",
   "execution_count": 127,
   "id": "6ef80328",
   "metadata": {},
   "outputs": [
    {
     "data": {
      "text/html": [
       "<div>\n",
       "<style scoped>\n",
       "    .dataframe tbody tr th:only-of-type {\n",
       "        vertical-align: middle;\n",
       "    }\n",
       "\n",
       "    .dataframe tbody tr th {\n",
       "        vertical-align: top;\n",
       "    }\n",
       "\n",
       "    .dataframe thead th {\n",
       "        text-align: right;\n",
       "    }\n",
       "</style>\n",
       "<table border=\"1\" class=\"dataframe\">\n",
       "  <thead>\n",
       "    <tr style=\"text-align: right;\">\n",
       "      <th></th>\n",
       "      <th>Quantidade Exportada(Kg)</th>\n",
       "      <th>Valor Exportado(US$)</th>\n",
       "    </tr>\n",
       "    <tr>\n",
       "      <th>País</th>\n",
       "      <th></th>\n",
       "      <th></th>\n",
       "    </tr>\n",
       "  </thead>\n",
       "  <tbody>\n",
       "    <tr>\n",
       "      <th>Estados Unidos</th>\n",
       "      <td>1010510</td>\n",
       "      <td>2391033</td>\n",
       "    </tr>\n",
       "    <tr>\n",
       "      <th>Uruguai</th>\n",
       "      <td>787782</td>\n",
       "      <td>1195323</td>\n",
       "    </tr>\n",
       "    <tr>\n",
       "      <th>China</th>\n",
       "      <td>450219</td>\n",
       "      <td>1534927</td>\n",
       "    </tr>\n",
       "    <tr>\n",
       "      <th>Rússia</th>\n",
       "      <td>249440</td>\n",
       "      <td>440094</td>\n",
       "    </tr>\n",
       "    <tr>\n",
       "      <th>Japão</th>\n",
       "      <td>190870</td>\n",
       "      <td>477141</td>\n",
       "    </tr>\n",
       "  </tbody>\n",
       "</table>\n",
       "</div>"
      ],
      "text/plain": [
       "                Quantidade Exportada(Kg)  Valor Exportado(US$)\n",
       "País                                                          \n",
       "Estados Unidos                   1010510               2391033\n",
       "Uruguai                           787782               1195323\n",
       "China                             450219               1534927\n",
       "Rússia                            249440                440094\n",
       "Japão                             190870                477141"
      ]
     },
     "execution_count": 127,
     "metadata": {},
     "output_type": "execute_result"
    }
   ],
   "source": [
    "# criando a lista com os ultimos 5 anos \n",
    "lista_anos = ['2018','2019','2020','2021','2022']\n",
    "# filtrando os ultimos 5 anos \n",
    "ultimos_cinco_anos = importacao_exportacao[importacao_exportacao['Ano'].isin(lista_anos)]\n",
    "# agrupando o valor total dos ultimos 5 anos por país\n",
    "agrupado_ultimos_cinco_anos = ultimos_cinco_anos.groupby('País')[['Quantidade Exportada(Kg)','Valor Exportado(US$)']].sum()\n",
    "# ordenando os top 5 países que mais exportaram para o Brasil nos ultimos 5 anos \n",
    "agrupado_ultimos_cinco_anos = agrupado_ultimos_cinco_anos.sort_values(by = 'Quantidade Exportada(Kg)',ascending=False).head()\n",
    "agrupado_ultimos_cinco_anos"
   ]
  },
  {
   "cell_type": "code",
   "execution_count": 128,
   "id": "792b3ca8",
   "metadata": {},
   "outputs": [],
   "source": [
    "#lista dos paises que mais exportaram\n",
    "lista_de_paises_5_anos = agrupado_ultimos_cinco_anos.index.tolist()\n",
    "# filtrando apenas os top 5 paises que mais exportaram\n",
    "top5_ultimos_cinco_anos = importacao_exportacao[importacao_exportacao['País'].isin(lista_de_paises_5_anos)]\n",
    "# filtrando apenas os ultimos 5 anos\n",
    "top5_ultimos_cinco_anos = top5_ultimos_cinco_anos[top5_ultimos_cinco_anos['Ano'].isin(lista_anos)]\n"
   ]
  },
  {
   "cell_type": "code",
   "execution_count": 129,
   "id": "5110632e",
   "metadata": {},
   "outputs": [
    {
     "data": {
      "image/png": "[encoded data removed]",
      "text/plain": [
       "<Figure size 1200x400 with 1 Axes>"
      ]
     },
     "metadata": {},
     "output_type": "display_data"
    }
   ],
   "source": [
    "# criando a figura\n",
    "plt.figure(figsize=(12,4))\n",
    "# criando o grafico\n",
    "grafico_ultimos_5_anos = sns.lineplot(data = top5_ultimos_cinco_anos,x = 'Ano',y='Quantidade Exportada(Kg)',hue='País')\n",
    "# chamando a função de costumização\n",
    "grafico_vertical(grafico_ultimos_5_anos,top5_ultimos_cinco_anos['Quantidade Exportada(Kg)'],'Países que mais exportaram nos últimos 5 anos (em Litros)')\n"
   ]
  },
  {
   "cell_type": "markdown",
   "id": "79e57fd8",
   "metadata": {},
   "source": [
    "Com uma análise de mercado referente à exportação de vinhos do Brasil para Rússia, China, Estados Unidos, Japão e Uruguai, além de trazer medidas para melhorar o relacionamento comercial e aumentar o número de vinhos exportados para cada país.\n",
    "\n",
    "A Rússia é um mercado em crescimento para vinhos brasileiros, com potencial devido ao aumento do consumo de vinhos no país. Porém com a guerra envolvendo a Ucrânia, devemos considerar alguns pontos:\n",
    "- Instabilidade Econômica \n",
    "- Sanções Internacionais e Barreiras Logísticas\n",
    "- Aumento dos Custos de Transporte e Logística \n",
    "- Mudanças nas Políticas Comerciais \n",
    "- Nacionalismo Econômico\n",
    "\n",
    "Esses fatores combinados podem levar a uma diminuição significativa no volume de exportação de vinhos do Brasil para a Rússia, afetando tanto os produtores quanto os exportadores brasileiros.\n",
    "- Medidas de melhorias:\n",
    "   - Participação em feiras e eventos de vinhos na Rússia para aumentar a visibilidade dos\n",
    "produtos brasileiros.\n",
    "   - Negociação de acordos comerciais bilaterais para reduzir tarifas e facilitar o acesso ao\n",
    "mercado russo."
   ]
  },
  {
   "cell_type": "markdown",
   "id": "de4efddf",
   "metadata": {},
   "source": [
    "A China é um dos mercados de importação de vinho de mais rápido crescimento no mundo, com uma demanda crescente impulsionada pelo aumento do poder de compra e pelo interesse crescente dos consumidores chineses em vinhos estrangeiros. Como maior país do mundo em população, a China representa um mercado enorme e estratégico para os produtores de vinho de todo o mundo. Melhorar o relacionamento comercial com a China é crucial para os produtores de vinho brasileiros, pois isso pode abrir oportunidades significativas de exportação.\n",
    "\n",
    "- Medidas de melhorias:\n",
    "   - Investimento em marketing e promoção de vinhos brasileiros na China para aumentar a visibilidade da marca.\n",
    "   - Estabelecimento de parcerias estratégicas com importadores e distribuidores chineses para ampliar a distribuição dos vinhos brasileiros.\n"
   ]
  },
  {
   "cell_type": "markdown",
   "id": "119375bb",
   "metadata": {},
   "source": [
    "O Estados Unidos é reconhecido como um dos maiores mercados consumidores de vinhos do mundo, os Estados Unidos oferecem uma oportunidade ímpar de crescimento. A diversidade e o poder de compra dos consumidores americanos, aliados à estabilidade econômica e à robustez do setor vinícola nos EUA, tornam esse mercado extremamente atrativo.\n",
    "\n",
    "- Medidas de melhorias:\n",
    "    - Participação em eventos de vinhos nos Estados Unidos para estabelecer contatos comerciais e promover os produtos brasileiros.\n",
    "    - Investimento em certificações de qualidade e sustentabilidade para aumentar a confiança dos consumidores americanos nos vinhos brasileiros."
   ]
  },
  {
   "cell_type": "markdown",
   "id": "a8a3aa0f",
   "metadata": {},
   "source": [
    "O Japão é um mercado sofisticado e exigente para vinhos, com uma cultura crescente de apreciação de vinhos de alta qualidade.\n",
    "\n",
    "- Medidas de melhorias:\n",
    "    - Promoção de vinhos brasileiros em eventos e degustações no Japão para educar os consumidores sobre a diversidade e qualidade dos produtos brasileiros.\n",
    "    - Colaboração com importadores e distribuidores japoneses para adaptar os vinhos brasileiros às preferências locais e expandir a presença no mercado.\n",
    "\n",
    "O Uruguai é um mercado próximo e estratégico para os vinhos brasileiros, com potencial devido à proximidade geográfica e cultural, o país apresentou um grande crescimento em 2021 e 2022. O Brasil e o Uruguai, como membros do Mercosul (Mercado Comum do Sul), beneficiam-se de acordos que promovem o livre comércio entre os países membros.\n",
    "\n",
    "- Medidas de melhorias:\n",
    "    - Fortalecimento de parcerias comerciais entre produtores e distribuidores brasileiros e uruguaios para facilitar o comércio e a distribuição de vinhos.\n",
    "    - Realização de campanhas de marketing conjunto para promover os vinhos brasileiros no mercado uruguaio e aumentar a conscientização entre os consumidores.\n",
    "    - Utilização das vantagens logísticas proporcionadas pela proximidade geográfica e pelas facilidades comerciais do Mercosul para reduzir custos de transporte e otimizar a distribuição dos vinhos no Uruguai.\n",
    "\n",
    "Ao tirar proveito dos acordos e benefícios proporcionados pelo Mercosul, o Brasil pode continuar a\n",
    "expandir e fortalecer suas exportações de vinhos para o Uruguai, promovendo uma cooperação\n",
    "comercial benéfica para ambos os países."
   ]
  },
  {
   "cell_type": "markdown",
   "id": "cde4a97a",
   "metadata": {},
   "source": [
    "#### Modelo Matemático \n"
   ]
  },
  {
   "cell_type": "markdown",
   "id": "76139a4b",
   "metadata": {},
   "source": [
    "Para fornecer os melhores insights de exportação aos nossos investidores, utilizamos bases de dados externas do mercado global de vinhos, fornecidas pela International Organisation of Vine and Wine (OIV). Nesta análise, desenvolvemos um modelo matemático robusto que, a partir de diversos indicadores, gera uma pontuação que identifica os mercados de vinho mais promissores. Esse modelo permite avaliar e priorizar mercados estratégicos para novas iniciativas de exportação, baseando-se em dados concretos e tendências de mercado.\n",
    "\n",
    "Inicialmente, extraímos da base de dados as informações de consumo, importação e produção de vinhos de todos os países do mundo no período de 2008 a 2022. Com essas informações, somamos o total para cada país nesse período, resultando em três indicadores principais: 'Consumo Total 15 anos (L)', 'Importação Total 15 anos (L)' e 'Produção Total 15 anos (L)'. Esses indicadores são relevantes porque fornecem uma visão global do mercado de vinho em cada país, abrangendo o que cada país produz, importa e consome.\n",
    "\n",
    "Para o cenário de estratégia de exportação brasileira, consideramos que quanto maior o consumo e a importação, melhor será o país para investir. Por outro lado, quanto maior a produção interna, menos atraente será o mercado, pois nossos vinhos teriam que competir com a produção local, que geralmente possui menos impostos. Portanto, utilizamos um critério de decrescimento para a produção interna.\n",
    "\n",
    "Outro fator relevante para o modelo é o consumo per capita médio anual em litros, 'Consumo Per Capita Médio por Ano (L)'. Esse indicador revela o consumo médio por habitante, ajustando a análise para não ser enviesada pelo volume total, que pode ser grande devido à alta população. Este indicador foi calculado a partir da média do 'Consumo Total 15 anos (L)' dividido pela população de cada país, com dados populacionais obtidos de uma base de dados do Wikipedia contendo os censos mais recentes de cada país.\n",
    "\n",
    "Consideramos a 'Cotação em Real' de cada país. Esse indicador permite analisar a força da moeda brasileira em relação às outras moedas. Um Real menos valorizado em comparação à moeda local oferece uma vantagem competitiva, pois os produtos brasileiros se tornam mais baratos para os importadores estrangeiros, aumentando nossa receita ao negociar em uma moeda mais valorizada.\n",
    "\n",
    "Todo esse processo foi feito ainda no tratamento dos dados do Mercado Global de Vinho na seção 5.3\n"
   ]
  },
  {
   "cell_type": "code",
   "execution_count": 130,
   "id": "c9877a23",
   "metadata": {},
   "outputs": [
    {
     "data": {
      "text/html": [
       "<div>\n",
       "<style scoped>\n",
       "    .dataframe tbody tr th:only-of-type {\n",
       "        vertical-align: middle;\n",
       "    }\n",
       "\n",
       "    .dataframe tbody tr th {\n",
       "        vertical-align: top;\n",
       "    }\n",
       "\n",
       "    .dataframe thead th {\n",
       "        text-align: right;\n",
       "    }\n",
       "</style>\n",
       "<table border=\"1\" class=\"dataframe\">\n",
       "  <thead>\n",
       "    <tr style=\"text-align: right;\">\n",
       "      <th></th>\n",
       "      <th>País</th>\n",
       "      <th>Consumo Total 15 anos(L)</th>\n",
       "      <th>Importação Total 15 anos(L)</th>\n",
       "      <th>Produção Total 15 anos(L)</th>\n",
       "      <th>Cotação em Real</th>\n",
       "      <th>Consumo Per Capita Média por ano(L)</th>\n",
       "    </tr>\n",
       "  </thead>\n",
       "  <tbody>\n",
       "    <tr>\n",
       "      <th>0</th>\n",
       "      <td>Alemanha</td>\n",
       "      <td>3.010620e+10</td>\n",
       "      <td>2.226990e+10</td>\n",
       "      <td>1.314530e+10</td>\n",
       "      <td>5.460</td>\n",
       "      <td>23.955426</td>\n",
       "    </tr>\n",
       "    <tr>\n",
       "      <th>1</th>\n",
       "      <td>Reino Unido</td>\n",
       "      <td>1.951400e+10</td>\n",
       "      <td>1.977290e+10</td>\n",
       "      <td>6.980000e+07</td>\n",
       "      <td>6.450</td>\n",
       "      <td>18.716925</td>\n",
       "    </tr>\n",
       "    <tr>\n",
       "      <th>2</th>\n",
       "      <td>Estados Unidos</td>\n",
       "      <td>4.649480e+10</td>\n",
       "      <td>1.691680e+10</td>\n",
       "      <td>3.479240e+10</td>\n",
       "      <td>5.170</td>\n",
       "      <td>9.116973</td>\n",
       "    </tr>\n",
       "    <tr>\n",
       "      <th>3</th>\n",
       "      <td>França</td>\n",
       "      <td>4.091480e+10</td>\n",
       "      <td>9.762800e+09</td>\n",
       "      <td>6.657170e+10</td>\n",
       "      <td>5.460</td>\n",
       "      <td>41.788059</td>\n",
       "    </tr>\n",
       "    <tr>\n",
       "      <th>4</th>\n",
       "      <td>Rússia</td>\n",
       "      <td>1.504420e+10</td>\n",
       "      <td>6.605900e+09</td>\n",
       "      <td>7.741200e+09</td>\n",
       "      <td>0.065</td>\n",
       "      <td>6.862873</td>\n",
       "    </tr>\n",
       "  </tbody>\n",
       "</table>\n",
       "</div>"
      ],
      "text/plain": [
       "             País  Consumo Total 15 anos(L)  Importação Total 15 anos(L)  \\\n",
       "0        Alemanha              3.010620e+10                 2.226990e+10   \n",
       "1     Reino Unido              1.951400e+10                 1.977290e+10   \n",
       "2  Estados Unidos              4.649480e+10                 1.691680e+10   \n",
       "3          França              4.091480e+10                 9.762800e+09   \n",
       "4          Rússia              1.504420e+10                 6.605900e+09   \n",
       "\n",
       "   Produção Total 15 anos(L)  Cotação em Real  \\\n",
       "0               1.314530e+10            5.460   \n",
       "1               6.980000e+07            6.450   \n",
       "2               3.479240e+10            5.170   \n",
       "3               6.657170e+10            5.460   \n",
       "4               7.741200e+09            0.065   \n",
       "\n",
       "   Consumo Per Capita Média por ano(L)  \n",
       "0                            23.955426  \n",
       "1                            18.716925  \n",
       "2                             9.116973  \n",
       "3                            41.788059  \n",
       "4                             6.862873  "
      ]
     },
     "execution_count": 130,
     "metadata": {},
     "output_type": "execute_result"
    }
   ],
   "source": [
    "# Visualizando a a base externa de vinho tratada\n",
    "dados_externos.head()"
   ]
  },
  {
   "cell_type": "markdown",
   "id": "9eb8c37a",
   "metadata": {},
   "source": [
    "Outra informação valiosa retirada dessa base de dados são as taxas de crescimento anual desses três aspectos: 'Taxa de Crescimento do Consumo', 'Taxa de Crescimento da Importação' e 'Taxa de Decrescimento da Produção'. Esses cálculos foram realizados utilizando a fórmula CAGR (Compounded Annual Growth Rate) ou Taxa de Crescimento Anual Composto, que mede o crescimento de um indicador ao longo dos anos. Com essas informações, podemos avaliar se o mercado de um país está aquecendo ou diminuindo nos últimos 15 anos. Para importação e consumo, uma taxa CAGR maior é desejável, indicando um aumento no consumo e importação de vinhos, o que é ideal para nossos investimentos. Em contraste, um crescimento na produção interna pode sinalizar um mercado menos receptivo a novos vinhos estrangeiros.\n",
    "\n",
    "O calculo dessas taxas estão apresentados a seguir:"
   ]
  },
  {
   "cell_type": "code",
   "execution_count": 131,
   "id": "368682a0",
   "metadata": {},
   "outputs": [],
   "source": [
    "# extraindo apenas o consumo dos top 40 países que mais importaram vinhos\n",
    "mercado_consumo = mercado_top40[mercado_top40['Categoria'] == 'Consumo']\n",
    "# abrindo por ano a base de consumo \n",
    "mercado_consumo = mercado_consumo.pivot(index = 'País',columns='Ano',values='Quantidade(L)')\n",
    "# calculando a taxa de crescimento anual composta de consumo de vinhos para cada país(CARG Consumo)\n",
    "carg_consumo = (mercado_consumo.iloc[:, -1] / mercado_consumo.iloc[:, 0]) ** (1 / (mercado_consumo.shape[1] - 1)) - 1\n",
    "# ordenando os países com maior CARG CONSUMO\n",
    "carg_consumo = carg_consumo.sort_values(ascending=False)\n",
    "# consumo\n",
    "carg_consumo = carg_consumo.reset_index()\n",
    "carg_consumo.columns = ['País', 'Taxa de Crescimento Consumo']\n"
   ]
  },
  {
   "cell_type": "code",
   "execution_count": 132,
   "id": "972b5efb",
   "metadata": {},
   "outputs": [],
   "source": [
    "# extraindo apenas a produção dos top 40 países que mais importaram vinhos\n",
    "mercado_producao = mercado_top40[mercado_top40['Categoria'] == 'Produção']\n",
    "# substituindo os valores NaN por 0 \n",
    "mercado_producao.fillna(0,inplace = True)\n",
    "# abrindo por ano a base de producao\n",
    "mercado_producao = mercado_producao.pivot(index = 'País',columns='Ano',values='Quantidade(L)')\n",
    "# calculando a taxa de crescimento anual composta de produção de vinhos para cada país(CARG Consumo)\n",
    "carg_producao = (mercado_producao.iloc[:, -1] / mercado_producao.iloc[:, 0]) ** (1 / (mercado_producao.shape[1] - 1)) - 1\n",
    "# ordenando os países com menor CARG Producao\n",
    "carg_producao = carg_producao.sort_values(ascending=True)\n",
    "# substituindo os valores 'inf' e '-inf' por NaN\n",
    "carg_producao.replace([np.inf, -np.inf], np.nan, inplace=True)\n",
    "# substituindo os valores NaN por 0 \n",
    "carg_producao.fillna(0,inplace = True)\n",
    "# producao\n",
    "carg_producao = carg_producao.reset_index()\n",
    "carg_producao.columns = ['País', 'Taxa de Crescimento Produção']"
   ]
  },
  {
   "cell_type": "code",
   "execution_count": 133,
   "id": "85e860d6",
   "metadata": {},
   "outputs": [],
   "source": [
    "# extraindo apenas a importaram dos top 40 países que mais importaram vinhos\n",
    "mercado_importacao = mercado_top40[mercado_top40['Categoria'] == 'Importação']\n",
    "# substituindo os valores NaN por 0 \n",
    "mercado_importacao.fillna(0,inplace = True)\n",
    "# abrindo por ano a base de importacao\n",
    "mercado_importacao = mercado_importacao.pivot(index = 'País',columns='Ano',values='Quantidade(L)')\n",
    "# calculando a taxa de crescimento anual composta de importacao de vinhos para cada país(CARG Consumo)\n",
    "carg_importacao = (mercado_importacao.iloc[:, -1] / mercado_importacao.iloc[:, 0]) ** (1 / (mercado_importacao.shape[1] - 1)) - 1\n",
    "# ordenando os países com maior CARG Importacao\n",
    "carg_importacao = carg_importacao.sort_values(ascending=False)\n",
    "# substituindo os valores 'inf' e '-inf' por NaN\n",
    "carg_importacao.replace([np.inf, -np.inf], np.nan, inplace=True)\n",
    "# substituindo os valores NaN por 0 \n",
    "carg_importacao.fillna(0,inplace = True)\n",
    "# importacao\n",
    "carg_importacao = carg_importacao.reset_index()\n",
    "carg_importacao.columns = ['País', 'Taxa de Crescimento Importação']"
   ]
  },
  {
   "cell_type": "code",
   "execution_count": 134,
   "id": "1ddeac80",
   "metadata": {},
   "outputs": [],
   "source": [
    "# unindo o dataframe com o carg consumo com carg producao\n",
    "df1 = pd.merge(carg_consumo,carg_producao,on='País')\n",
    "# unindo o dataframe com o carg consumo, carg producao com o dataframe carg_importação\n",
    "df2 = pd.merge(df1,carg_importacao,on='País')\n",
    "# unindo o dataframe com os cargs com a base_externa que contem as demais informações\n",
    "dados_externos = pd.merge(df2,dados_externos,on='País')\n"
   ]
  },
  {
   "cell_type": "code",
   "execution_count": 135,
   "id": "fd620ba8",
   "metadata": {},
   "outputs": [],
   "source": [
    "# utilizando o Scikit-Learn para normalizar todas as colunas\n",
    "scaler = MinMaxScaler()\n",
    "cols_to_normalizadas = ['Taxa de Crescimento Consumo', 'Taxa de Crescimento Produção',\n",
    "                        'Taxa de Crescimento Importação', 'Consumo Total 15 anos(L)',\n",
    "                        'Importação Total 15 anos(L)', 'Produção Total 15 anos(L)',\n",
    "                        'Cotação em Real', 'Consumo Per Capita Média por ano(L)']\n",
    "dados_externos[cols_to_normalizadas] = scaler.fit_transform(dados_externos[cols_to_normalizadas])"
   ]
  },
  {
   "cell_type": "code",
   "execution_count": 136,
   "id": "bc86ace0",
   "metadata": {},
   "outputs": [],
   "source": [
    "# como o objetivo é inversamente proporcional a taxa de crescimento da produção e produção total iremos usar o complento em relação a 1 pos normalização\n",
    "dados_externos['Taxa de Crescimento Produção'] = 1 - dados_externos['Taxa de Crescimento Produção']\n",
    "dados_externos['Produção Total 15 anos(L)'] = 1 - dados_externos['Produção Total 15 anos(L)']"
   ]
  },
  {
   "cell_type": "code",
   "execution_count": 137,
   "id": "c0c03a46",
   "metadata": {},
   "outputs": [],
   "source": [
    "dados_externos.columns = ['País', 'Taxa de Crescimento Consumo', 'Taxa de Decrescimento Produção',\n",
    "                            'Taxa de Crescimento Importação', 'Consumo Total 15 anos(L)',\n",
    "                            'Importação Total 15 anos(L)', 'Produção Total 15 anos(L)',\n",
    "                            'Cotação em Real', 'Consumo Per Capita Média por ano(L)']"
   ]
  },
  {
   "cell_type": "code",
   "execution_count": 138,
   "id": "b7036c67",
   "metadata": {},
   "outputs": [],
   "source": [
    "# atribuindo peso as colunas\n",
    "peso_consumo = 0.1\n",
    "peso_importacao = 0.1\n",
    "peso_producao = 0.05\n",
    "peso_per_capita = 0.05\n",
    "peso_cotacao = 0.1\n",
    "peso_consumo_total = 0.2\n",
    "peso_importacao_total = 0.2\n",
    "peso_producao_total = 0.2"
   ]
  },
  {
   "cell_type": "code",
   "execution_count": 139,
   "id": "b2319b59",
   "metadata": {},
   "outputs": [],
   "source": [
    "# calculando a pontuação composta segundo nosso modelo matemático\n",
    "dados_externos['Pontuacao_Composta'] = (\n",
    "    dados_externos['Taxa de Crescimento Consumo'] * peso_consumo +\n",
    "    dados_externos['Taxa de Crescimento Importação'] * peso_importacao +\n",
    "    dados_externos['Taxa de Decrescimento Produção'] * peso_producao +\n",
    "    dados_externos['Consumo Per Capita Média por ano(L)'] * peso_per_capita +\n",
    "    dados_externos['Cotação em Real'] * peso_cotacao +\n",
    "    dados_externos['Consumo Total 15 anos(L)'] * peso_consumo_total +\n",
    "    dados_externos['Importação Total 15 anos(L)'] * peso_importacao_total +\n",
    "    dados_externos['Produção Total 15 anos(L)'] * peso_producao_total\n",
    ")\n",
    "# Ordenando os países com base na pontuação composta\n",
    "dados_externos.sort_values(by='Pontuacao_Composta', ascending=False, inplace=True)"
   ]
  },
  {
   "cell_type": "code",
   "execution_count": 140,
   "id": "3804f99d",
   "metadata": {},
   "outputs": [
    {
     "data": {
      "image/png": "[encoded data removed]",
      "text/plain": [
       "<Figure size 1200x500 with 1 Axes>"
      ]
     },
     "metadata": {},
     "output_type": "display_data"
    }
   ],
   "source": [
    "# extraindo o top 10 melhores países para investir segundo o modelo matemático \n",
    "top_10_modelo = dados_externos.head(10)\n",
    "#criando a figura\n",
    "plt.figure(figsize=(12,5))\n",
    "#criando o grafico \n",
    "grafico_modelo_matematico = sns.barplot(data = top_10_modelo, x = 'País',y = 'Pontuacao_Composta',color = '#A1343C')\n",
    "# adicinando o rotulo de dados\n",
    "for p in grafico_modelo_matematico.patches:\n",
    "    grafico_modelo_matematico.annotate(f'{p.get_height():.2f}',\n",
    "                (p.get_x() + p.get_width() / 2., p.get_height()),\n",
    "                ha='center', va='center', xytext=(0, 10),\n",
    "                textcoords='offset points')\n",
    "# chamando a função de costumização \n",
    "grafico_vertical(grafico_modelo_matematico,top_10_modelo['Pontuacao_Composta'],'Ranking dos Melhores Mercados para Exportação')"
   ]
  },
  {
   "cell_type": "markdown",
   "id": "ed6b935e",
   "metadata": {},
   "source": [
    "A partir do gráfico, podemos observar que a Alemanha apresenta a melhor pontuação de mercado, indicando ser o melhor mercado para investir conforme nosso modelo. Isso se deve ao fato de a Alemanha ter sido o maior importador de vinhos do mundo nos últimos 15 anos, possuir uma produção relativamente baixa em comparação com outros países, ter uma moeda forte (Euro) em relação ao Real e um consumo per capita alto. Esses fatores fazem da Alemanha um excelente mercado para possíveis campanhas de marketing, participação em feiras e negociações com importadoras locais alemãs.\n",
    "\n",
    "Logo em seguida, e não tão distante em pontuação, vem os Estados Unidos da América. O grande atrativo dos EUA é o seu vasto mercado consumidor. O país apresentou o maior consumo de vinhos do mundo nos últimos 15 anos, um decréscimo na produção e um aumento na importação, indicando que o mercado está aberto a vinhos estrangeiros. Além disso, a moeda valorizada frente ao Real e o alto volume de importação nos últimos 15 anos reforçam seu potencial como mercado de exportação.\n",
    "\n",
    "Fechando o Top 3 de melhores mercados, temos o Reino Unido, com uma pontuação bem próxima à dos Estados Unidos. O Reino Unido se destaca por ter a moeda mais valorizada em relação ao Real, baixa produção de vinhos, alta importação e um consumo de vinho que está dentro da média global nos últimos 15 anos. Esses fatores fazem do Reino Unido um mercado atrativo para exportação de vinhos.\n",
    "\n",
    "Para melhorar as exportações de vinhos para esses mercados, várias estratégias específicas foram desenvolvidas. Para a Alemanha, é crucial participar de feiras como a ProWein, desenvolver campanhas de marketing específicas, estabelecer parcerias estratégicas com importadores locais, realizar degustações e promoções em pontos de venda, e organizar eventos educativos sobre os vinhos brasileiros. Nos Estados Unidos, o foco deve ser em campanhas de marketing digital, distribuição estratégica por estado, obtenção de certificações de qualidade, organização de eventos exclusivos em restaurantes renomados, e expansão das vendas online. No Reino Unido, a ênfase deve estar na colaboração com importadores e distribuidores, marketing e promoções localizadas, eventos de degustação e educação, promoção do enoturismo brasileiro, implementação de programas de fidelidade, e alianças com redes de supermercados e lojas especializadas.\n",
    "\n",
    "Além dessas estratégias específicas, há abordagens comuns a todos os mercados. Ajustar a estrutura de preços para garantir competitividade, fortalecer a marca dos vinhos brasileiros através de storytelling, buscar apoio e subsídios governamentais para promover exportações, e coletar feedback dos consumidores para adaptar os produtos conforme necessário são passos essenciais para melhorar a presença e competitividade dos vinhos brasileiros nos mercados internacionais."
   ]
  },
  {
   "cell_type": "markdown",
   "id": "00fda9d9",
   "metadata": {},
   "source": []
  }
 ],
 "metadata": {
  "kernelspec": {
   "display_name": "Python 3 (ipykernel)",
   "language": "python",
   "name": "python3"
  },
  "language_info": {
   "codemirror_mode": {
    "name": "ipython",
    "version": 3
   },
   "file_extension": ".py",
   "mimetype": "text/x-python",
   "name": "python",
   "nbconvert_exporter": "python",
   "pygments_lexer": "ipython3",
   "version": "3.12.1"
  }
 },
 "nbformat": 4,
 "nbformat_minor": 5
}
